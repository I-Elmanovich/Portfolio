{
 "cells": [
  {
   "cell_type": "markdown",
   "id": "60b9a62b",
   "metadata": {},
   "source": [
    "# Оптимизация процесса восстановления золота из руды"
   ]
  },
  {
   "cell_type": "markdown",
   "id": "b3a536ed",
   "metadata": {},
   "source": [
    "Целью проекта является анализ данных технологических процессов золотодобывающей компании и построение модели предсказания эффективности добычи золота. \n",
    "\n",
    "## Данные\n",
    "Данные находятся в трёх файлах:\n",
    "\n",
    "**gold_industry_train.csv** — обучающая выборка;\n",
    "\n",
    "**gold_industry_test.csv** — тестовая выборка;\n",
    "\n",
    "**gold_industry_full.csv** — исходные данные.\n",
    "\n",
    "Данные индексируются датой и временем получения информации (признак date). Некоторые параметры недоступны, потому что замеряются и/или рассчитываются значительно позже. Из-за этого в тестовой выборке отсутствуют некоторые признаки, которые могут быть в обучающей. Исходный датасет содержит обучающую и тестовую выборки со всеми признаками.\n",
    "\n",
    "### Технологический процесс\n",
    "\n",
    "**Rougher feed** — исходное сырье\n",
    "\n",
    "**Rougher additions** (или reagent additions) — флотационные реагенты: Xanthate, Sulphate, Depressant\n",
    "\n",
    "**Xanthate** — ксантогенат (промотер, или активатор флотации);\n",
    "\n",
    "**Sulphate** — сульфат (на данном производстве сульфид натрия);\n",
    "\n",
    "**Depressant** — депрессант (силикат натрия).\n",
    "\n",
    "**Rougher process** (англ. «грубый процесс») — флотация\n",
    "\n",
    "**Rougher tails** — отвальные хвосты\n",
    "\n",
    "**Float banks** — флотационная установка\n",
    "\n",
    "**Cleaner process** — очистка\n",
    "\n",
    "**Rougher Au** — черновой концентрат золота\n",
    "\n",
    "**Final Au** — финальный концентрат золота\n",
    "\n",
    "\n",
    "### Параметры этапов\n",
    "\n",
    "air amount — объём воздуха\n",
    "\n",
    "fluid levels — уровень жидкости\n",
    "\n",
    "feed size — размер гранул сырья\n",
    "\n",
    "feed rate — скорость подачи\n",
    "\n",
    "### Наименование признаков\n",
    "\n",
    "Структура наименования признаков:\n",
    "\n",
    "**[этап].[тип_параметра].[название_параметра]**\n",
    "\n",
    "Пример: rougher.input.feed_ag\n",
    "\n",
    "Возможные значения для блока [этап]:\n",
    "\n",
    "rougher — флотация\n",
    "\n",
    "primary_cleaner — первичная очистка\n",
    "\n",
    "secondary_cleaner — вторичная очистка\n",
    "\n",
    "final — финальные характеристики\n",
    "\n",
    "Возможные значения для блока [тип_параметра]:\n",
    "\n",
    "input — параметры сырья\n",
    "\n",
    "output — параметры продукта\n",
    "\n",
    "state — параметры, характеризующие текущее состояние этапа\n",
    "\n",
    "calculation — расчётные характеристики\n",
    "\n",
    "## Метрика\n",
    "\n",
    "Эффективность обогащения расчитываем по формуле:\n",
    "\n",
    "$$\n",
    "\\text{Recovery} = \\frac{C \\times (F - T)}{F \\times (C - T)} \\times 100\n",
    "$$\n",
    "\n",
    "В качестве метрики используем sMAPE:\n",
    "\n",
    "$$\n",
    "\\text{sMAPE} = \\frac{1}{n} \\sum_{i=1}^{n} \\frac{|F_i - A_i|}{\\left( |A_i| + |F_i| \\right) / 2} \\times 100\n",
    "$$"
   ]
  },
  {
   "cell_type": "markdown",
   "id": "1f974e0a",
   "metadata": {},
   "source": [
    "## План исследования\n",
    "\n",
    "1. Подготовка данных\n",
    "\n",
    "    1.1. Загрузка необходимых библиотек\n",
    "    \n",
    "    1.2. Открываем и изучаем каждый предоставленный датафрейм\n",
    "    \n",
    "    1.3. Проверка корректности рассчета эффективности восстановления золота\n",
    "\n",
    "<p style=\"line-height:1em;\"></p>\n",
    "    \n",
    "2. Анализ данных\n",
    "\n",
    "<p style=\"line-height:1em;\"></p>\n",
    "\n",
    "3. Применение моделей\n",
    "\n",
    "<p style=\"line-height:1em;\"></p>\n",
    "\n",
    "4. Выбор модели для оптимизации\n",
    "\n",
    "<p style=\"line-height:1em;\"></p>\n",
    "\n",
    "5. Оптимизация модели, проверка на тестовой выборке, сравнение с dummy моделью \n"
   ]
  },
  {
   "cell_type": "markdown",
   "id": "11fb0ac4",
   "metadata": {},
   "source": [
    "## Подготовка данных"
   ]
  },
  {
   "cell_type": "markdown",
   "id": "073e35de",
   "metadata": {},
   "source": [
    "### Загрузка библиотек"
   ]
  },
  {
   "cell_type": "code",
   "execution_count": 1,
   "id": "8c63293d",
   "metadata": {},
   "outputs": [],
   "source": [
    "import pandas as pd\n",
    "import seaborn as sns\n",
    "from sklearn.metrics import mean_absolute_error\n",
    "import matplotlib.pyplot as plt\n",
    "from sklearn.model_selection import train_test_split\n",
    "from sklearn.preprocessing import StandardScaler\n",
    "from sklearn.linear_model import LinearRegression\n",
    "import numpy as np\n",
    "from sklearn.ensemble import GradientBoostingRegressor\n",
    "from sklearn.linear_model import SGDRegressor\n",
    "from sklearn.svm import SVR\n",
    "from sklearn.linear_model import ElasticNet\n",
    "from sklearn.linear_model import BayesianRidge\n",
    "from sklearn.kernel_ridge import KernelRidge\n",
    "from sklearn.model_selection import GridSearchCV\n",
    "from sklearn.metrics import make_scorer\n",
    "from sklearn.model_selection import cross_val_score"
   ]
  },
  {
   "cell_type": "markdown",
   "id": "ed8c5cbc",
   "metadata": {},
   "source": [
    "Все необходимые библиотеки загружены"
   ]
  },
  {
   "cell_type": "markdown",
   "id": "56e4077e",
   "metadata": {},
   "source": [
    "### Загрузка и проверка данных"
   ]
  },
  {
   "cell_type": "code",
   "execution_count": 2,
   "id": "8bee64c7",
   "metadata": {},
   "outputs": [],
   "source": [
    "try:\n",
    "    data_train = pd.read_csv('gold_recovery_train_new.csv')\n",
    "    data_test = pd.read_csv('gold_recovery_test_new.csv')\n",
    "    data_full = pd.read_csv('gold_recovery_full_new.csv')\n",
    "except:\n",
    "    data_train = pd.read_csv('/datasets/gold_recovery_train_new.csv')\n",
    "    data_test = pd.read_csv('/datasets/gold_recovery_test_new.csv')\n",
    "    data_full = pd.read_csv('/datasets/gold_recovery_full_new.csv')"
   ]
  },
  {
   "cell_type": "code",
   "execution_count": 3,
   "id": "b5390a71",
   "metadata": {},
   "outputs": [
    {
     "data": {
      "text/html": [
       "<div>\n",
       "<style scoped>\n",
       "    .dataframe tbody tr th:only-of-type {\n",
       "        vertical-align: middle;\n",
       "    }\n",
       "\n",
       "    .dataframe tbody tr th {\n",
       "        vertical-align: top;\n",
       "    }\n",
       "\n",
       "    .dataframe thead th {\n",
       "        text-align: right;\n",
       "    }\n",
       "</style>\n",
       "<table border=\"1\" class=\"dataframe\">\n",
       "  <thead>\n",
       "    <tr style=\"text-align: right;\">\n",
       "      <th></th>\n",
       "      <th>date</th>\n",
       "      <th>final.output.concentrate_ag</th>\n",
       "      <th>final.output.concentrate_pb</th>\n",
       "      <th>final.output.concentrate_sol</th>\n",
       "      <th>final.output.concentrate_au</th>\n",
       "      <th>final.output.recovery</th>\n",
       "      <th>final.output.tail_ag</th>\n",
       "      <th>final.output.tail_pb</th>\n",
       "      <th>final.output.tail_sol</th>\n",
       "      <th>final.output.tail_au</th>\n",
       "      <th>...</th>\n",
       "      <th>secondary_cleaner.state.floatbank4_a_air</th>\n",
       "      <th>secondary_cleaner.state.floatbank4_a_level</th>\n",
       "      <th>secondary_cleaner.state.floatbank4_b_air</th>\n",
       "      <th>secondary_cleaner.state.floatbank4_b_level</th>\n",
       "      <th>secondary_cleaner.state.floatbank5_a_air</th>\n",
       "      <th>secondary_cleaner.state.floatbank5_a_level</th>\n",
       "      <th>secondary_cleaner.state.floatbank5_b_air</th>\n",
       "      <th>secondary_cleaner.state.floatbank5_b_level</th>\n",
       "      <th>secondary_cleaner.state.floatbank6_a_air</th>\n",
       "      <th>secondary_cleaner.state.floatbank6_a_level</th>\n",
       "    </tr>\n",
       "  </thead>\n",
       "  <tbody>\n",
       "    <tr>\n",
       "      <th>0</th>\n",
       "      <td>2016-01-15 00:00:00</td>\n",
       "      <td>6.055403</td>\n",
       "      <td>9.889648</td>\n",
       "      <td>5.507324</td>\n",
       "      <td>42.192020</td>\n",
       "      <td>70.541216</td>\n",
       "      <td>10.411962</td>\n",
       "      <td>0.895447</td>\n",
       "      <td>16.904297</td>\n",
       "      <td>2.143149</td>\n",
       "      <td>...</td>\n",
       "      <td>14.016835</td>\n",
       "      <td>-502.488007</td>\n",
       "      <td>12.099931</td>\n",
       "      <td>-504.715942</td>\n",
       "      <td>9.925633</td>\n",
       "      <td>-498.310211</td>\n",
       "      <td>8.079666</td>\n",
       "      <td>-500.470978</td>\n",
       "      <td>14.151341</td>\n",
       "      <td>-605.841980</td>\n",
       "    </tr>\n",
       "    <tr>\n",
       "      <th>1</th>\n",
       "      <td>2016-01-15 01:00:00</td>\n",
       "      <td>6.029369</td>\n",
       "      <td>9.968944</td>\n",
       "      <td>5.257781</td>\n",
       "      <td>42.701629</td>\n",
       "      <td>69.266198</td>\n",
       "      <td>10.462676</td>\n",
       "      <td>0.927452</td>\n",
       "      <td>16.634514</td>\n",
       "      <td>2.224930</td>\n",
       "      <td>...</td>\n",
       "      <td>13.992281</td>\n",
       "      <td>-505.503262</td>\n",
       "      <td>11.950531</td>\n",
       "      <td>-501.331529</td>\n",
       "      <td>10.039245</td>\n",
       "      <td>-500.169983</td>\n",
       "      <td>7.984757</td>\n",
       "      <td>-500.582168</td>\n",
       "      <td>13.998353</td>\n",
       "      <td>-599.787184</td>\n",
       "    </tr>\n",
       "    <tr>\n",
       "      <th>2</th>\n",
       "      <td>2016-01-15 02:00:00</td>\n",
       "      <td>6.055926</td>\n",
       "      <td>10.213995</td>\n",
       "      <td>5.383759</td>\n",
       "      <td>42.657501</td>\n",
       "      <td>68.116445</td>\n",
       "      <td>10.507046</td>\n",
       "      <td>0.953716</td>\n",
       "      <td>16.208849</td>\n",
       "      <td>2.257889</td>\n",
       "      <td>...</td>\n",
       "      <td>14.015015</td>\n",
       "      <td>-502.520901</td>\n",
       "      <td>11.912783</td>\n",
       "      <td>-501.133383</td>\n",
       "      <td>10.070913</td>\n",
       "      <td>-500.129135</td>\n",
       "      <td>8.013877</td>\n",
       "      <td>-500.517572</td>\n",
       "      <td>14.028663</td>\n",
       "      <td>-601.427363</td>\n",
       "    </tr>\n",
       "    <tr>\n",
       "      <th>3</th>\n",
       "      <td>2016-01-15 03:00:00</td>\n",
       "      <td>6.047977</td>\n",
       "      <td>9.977019</td>\n",
       "      <td>4.858634</td>\n",
       "      <td>42.689819</td>\n",
       "      <td>68.347543</td>\n",
       "      <td>10.422762</td>\n",
       "      <td>0.883763</td>\n",
       "      <td>16.532835</td>\n",
       "      <td>2.146849</td>\n",
       "      <td>...</td>\n",
       "      <td>14.036510</td>\n",
       "      <td>-500.857308</td>\n",
       "      <td>11.999550</td>\n",
       "      <td>-501.193686</td>\n",
       "      <td>9.970366</td>\n",
       "      <td>-499.201640</td>\n",
       "      <td>7.977324</td>\n",
       "      <td>-500.255908</td>\n",
       "      <td>14.005551</td>\n",
       "      <td>-599.996129</td>\n",
       "    </tr>\n",
       "    <tr>\n",
       "      <th>4</th>\n",
       "      <td>2016-01-15 04:00:00</td>\n",
       "      <td>6.148599</td>\n",
       "      <td>10.142511</td>\n",
       "      <td>4.939416</td>\n",
       "      <td>42.774141</td>\n",
       "      <td>66.927016</td>\n",
       "      <td>10.360302</td>\n",
       "      <td>0.792826</td>\n",
       "      <td>16.525686</td>\n",
       "      <td>2.055292</td>\n",
       "      <td>...</td>\n",
       "      <td>14.027298</td>\n",
       "      <td>-499.838632</td>\n",
       "      <td>11.953070</td>\n",
       "      <td>-501.053894</td>\n",
       "      <td>9.925709</td>\n",
       "      <td>-501.686727</td>\n",
       "      <td>7.894242</td>\n",
       "      <td>-500.356035</td>\n",
       "      <td>13.996647</td>\n",
       "      <td>-601.496691</td>\n",
       "    </tr>\n",
       "  </tbody>\n",
       "</table>\n",
       "<p>5 rows × 87 columns</p>\n",
       "</div>"
      ],
      "text/plain": [
       "                  date  final.output.concentrate_ag  \\\n",
       "0  2016-01-15 00:00:00                     6.055403   \n",
       "1  2016-01-15 01:00:00                     6.029369   \n",
       "2  2016-01-15 02:00:00                     6.055926   \n",
       "3  2016-01-15 03:00:00                     6.047977   \n",
       "4  2016-01-15 04:00:00                     6.148599   \n",
       "\n",
       "   final.output.concentrate_pb  final.output.concentrate_sol  \\\n",
       "0                     9.889648                      5.507324   \n",
       "1                     9.968944                      5.257781   \n",
       "2                    10.213995                      5.383759   \n",
       "3                     9.977019                      4.858634   \n",
       "4                    10.142511                      4.939416   \n",
       "\n",
       "   final.output.concentrate_au  final.output.recovery  final.output.tail_ag  \\\n",
       "0                    42.192020              70.541216             10.411962   \n",
       "1                    42.701629              69.266198             10.462676   \n",
       "2                    42.657501              68.116445             10.507046   \n",
       "3                    42.689819              68.347543             10.422762   \n",
       "4                    42.774141              66.927016             10.360302   \n",
       "\n",
       "   final.output.tail_pb  final.output.tail_sol  final.output.tail_au  ...  \\\n",
       "0              0.895447              16.904297              2.143149  ...   \n",
       "1              0.927452              16.634514              2.224930  ...   \n",
       "2              0.953716              16.208849              2.257889  ...   \n",
       "3              0.883763              16.532835              2.146849  ...   \n",
       "4              0.792826              16.525686              2.055292  ...   \n",
       "\n",
       "   secondary_cleaner.state.floatbank4_a_air  \\\n",
       "0                                 14.016835   \n",
       "1                                 13.992281   \n",
       "2                                 14.015015   \n",
       "3                                 14.036510   \n",
       "4                                 14.027298   \n",
       "\n",
       "   secondary_cleaner.state.floatbank4_a_level  \\\n",
       "0                                 -502.488007   \n",
       "1                                 -505.503262   \n",
       "2                                 -502.520901   \n",
       "3                                 -500.857308   \n",
       "4                                 -499.838632   \n",
       "\n",
       "   secondary_cleaner.state.floatbank4_b_air  \\\n",
       "0                                 12.099931   \n",
       "1                                 11.950531   \n",
       "2                                 11.912783   \n",
       "3                                 11.999550   \n",
       "4                                 11.953070   \n",
       "\n",
       "   secondary_cleaner.state.floatbank4_b_level  \\\n",
       "0                                 -504.715942   \n",
       "1                                 -501.331529   \n",
       "2                                 -501.133383   \n",
       "3                                 -501.193686   \n",
       "4                                 -501.053894   \n",
       "\n",
       "   secondary_cleaner.state.floatbank5_a_air  \\\n",
       "0                                  9.925633   \n",
       "1                                 10.039245   \n",
       "2                                 10.070913   \n",
       "3                                  9.970366   \n",
       "4                                  9.925709   \n",
       "\n",
       "   secondary_cleaner.state.floatbank5_a_level  \\\n",
       "0                                 -498.310211   \n",
       "1                                 -500.169983   \n",
       "2                                 -500.129135   \n",
       "3                                 -499.201640   \n",
       "4                                 -501.686727   \n",
       "\n",
       "   secondary_cleaner.state.floatbank5_b_air  \\\n",
       "0                                  8.079666   \n",
       "1                                  7.984757   \n",
       "2                                  8.013877   \n",
       "3                                  7.977324   \n",
       "4                                  7.894242   \n",
       "\n",
       "   secondary_cleaner.state.floatbank5_b_level  \\\n",
       "0                                 -500.470978   \n",
       "1                                 -500.582168   \n",
       "2                                 -500.517572   \n",
       "3                                 -500.255908   \n",
       "4                                 -500.356035   \n",
       "\n",
       "   secondary_cleaner.state.floatbank6_a_air  \\\n",
       "0                                 14.151341   \n",
       "1                                 13.998353   \n",
       "2                                 14.028663   \n",
       "3                                 14.005551   \n",
       "4                                 13.996647   \n",
       "\n",
       "   secondary_cleaner.state.floatbank6_a_level  \n",
       "0                                 -605.841980  \n",
       "1                                 -599.787184  \n",
       "2                                 -601.427363  \n",
       "3                                 -599.996129  \n",
       "4                                 -601.496691  \n",
       "\n",
       "[5 rows x 87 columns]"
      ]
     },
     "execution_count": 3,
     "metadata": {},
     "output_type": "execute_result"
    }
   ],
   "source": [
    "data_train.head(5)"
   ]
  },
  {
   "cell_type": "code",
   "execution_count": 4,
   "id": "0e2eceee",
   "metadata": {},
   "outputs": [
    {
     "name": "stdout",
     "output_type": "stream",
     "text": [
      "<class 'pandas.core.frame.DataFrame'>\n",
      "RangeIndex: 14149 entries, 0 to 14148\n",
      "Data columns (total 87 columns):\n",
      " #   Column                                              Non-Null Count  Dtype  \n",
      "---  ------                                              --------------  -----  \n",
      " 0   date                                                14149 non-null  object \n",
      " 1   final.output.concentrate_ag                         14148 non-null  float64\n",
      " 2   final.output.concentrate_pb                         14148 non-null  float64\n",
      " 3   final.output.concentrate_sol                        13938 non-null  float64\n",
      " 4   final.output.concentrate_au                         14149 non-null  float64\n",
      " 5   final.output.recovery                               14149 non-null  float64\n",
      " 6   final.output.tail_ag                                14149 non-null  float64\n",
      " 7   final.output.tail_pb                                14049 non-null  float64\n",
      " 8   final.output.tail_sol                               14144 non-null  float64\n",
      " 9   final.output.tail_au                                14149 non-null  float64\n",
      " 10  primary_cleaner.input.sulfate                       14129 non-null  float64\n",
      " 11  primary_cleaner.input.depressant                    14117 non-null  float64\n",
      " 12  primary_cleaner.input.feed_size                     14149 non-null  float64\n",
      " 13  primary_cleaner.input.xanthate                      14049 non-null  float64\n",
      " 14  primary_cleaner.output.concentrate_ag               14149 non-null  float64\n",
      " 15  primary_cleaner.output.concentrate_pb               14063 non-null  float64\n",
      " 16  primary_cleaner.output.concentrate_sol              13863 non-null  float64\n",
      " 17  primary_cleaner.output.concentrate_au               14149 non-null  float64\n",
      " 18  primary_cleaner.output.tail_ag                      14148 non-null  float64\n",
      " 19  primary_cleaner.output.tail_pb                      14134 non-null  float64\n",
      " 20  primary_cleaner.output.tail_sol                     14103 non-null  float64\n",
      " 21  primary_cleaner.output.tail_au                      14149 non-null  float64\n",
      " 22  primary_cleaner.state.floatbank8_a_air              14145 non-null  float64\n",
      " 23  primary_cleaner.state.floatbank8_a_level            14148 non-null  float64\n",
      " 24  primary_cleaner.state.floatbank8_b_air              14145 non-null  float64\n",
      " 25  primary_cleaner.state.floatbank8_b_level            14148 non-null  float64\n",
      " 26  primary_cleaner.state.floatbank8_c_air              14147 non-null  float64\n",
      " 27  primary_cleaner.state.floatbank8_c_level            14148 non-null  float64\n",
      " 28  primary_cleaner.state.floatbank8_d_air              14146 non-null  float64\n",
      " 29  primary_cleaner.state.floatbank8_d_level            14148 non-null  float64\n",
      " 30  rougher.calculation.sulfate_to_au_concentrate       14148 non-null  float64\n",
      " 31  rougher.calculation.floatbank10_sulfate_to_au_feed  14148 non-null  float64\n",
      " 32  rougher.calculation.floatbank11_sulfate_to_au_feed  14148 non-null  float64\n",
      " 33  rougher.calculation.au_pb_ratio                     14149 non-null  float64\n",
      " 34  rougher.input.feed_ag                               14149 non-null  float64\n",
      " 35  rougher.input.feed_pb                               14049 non-null  float64\n",
      " 36  rougher.input.feed_rate                             14141 non-null  float64\n",
      " 37  rougher.input.feed_size                             14005 non-null  float64\n",
      " 38  rougher.input.feed_sol                              14071 non-null  float64\n",
      " 39  rougher.input.feed_au                               14149 non-null  float64\n",
      " 40  rougher.input.floatbank10_sulfate                   14120 non-null  float64\n",
      " 41  rougher.input.floatbank10_xanthate                  14141 non-null  float64\n",
      " 42  rougher.input.floatbank11_sulfate                   14113 non-null  float64\n",
      " 43  rougher.input.floatbank11_xanthate                  13721 non-null  float64\n",
      " 44  rougher.output.concentrate_ag                       14149 non-null  float64\n",
      " 45  rougher.output.concentrate_pb                       14149 non-null  float64\n",
      " 46  rougher.output.concentrate_sol                      14127 non-null  float64\n",
      " 47  rougher.output.concentrate_au                       14149 non-null  float64\n",
      " 48  rougher.output.recovery                             14149 non-null  float64\n",
      " 49  rougher.output.tail_ag                              14148 non-null  float64\n",
      " 50  rougher.output.tail_pb                              14149 non-null  float64\n",
      " 51  rougher.output.tail_sol                             14149 non-null  float64\n",
      " 52  rougher.output.tail_au                              14149 non-null  float64\n",
      " 53  rougher.state.floatbank10_a_air                     14148 non-null  float64\n",
      " 54  rougher.state.floatbank10_a_level                   14148 non-null  float64\n",
      " 55  rougher.state.floatbank10_b_air                     14148 non-null  float64\n",
      " 56  rougher.state.floatbank10_b_level                   14148 non-null  float64\n",
      " 57  rougher.state.floatbank10_c_air                     14148 non-null  float64\n",
      " 58  rougher.state.floatbank10_c_level                   14148 non-null  float64\n",
      " 59  rougher.state.floatbank10_d_air                     14149 non-null  float64\n",
      " 60  rougher.state.floatbank10_d_level                   14149 non-null  float64\n",
      " 61  rougher.state.floatbank10_e_air                     13713 non-null  float64\n",
      " 62  rougher.state.floatbank10_e_level                   14149 non-null  float64\n",
      " 63  rougher.state.floatbank10_f_air                     14149 non-null  float64\n",
      " 64  rougher.state.floatbank10_f_level                   14149 non-null  float64\n",
      " 65  secondary_cleaner.output.tail_ag                    14147 non-null  float64\n",
      " 66  secondary_cleaner.output.tail_pb                    14139 non-null  float64\n",
      " 67  secondary_cleaner.output.tail_sol                   12544 non-null  float64\n",
      " 68  secondary_cleaner.output.tail_au                    14149 non-null  float64\n",
      " 69  secondary_cleaner.state.floatbank2_a_air            13932 non-null  float64\n",
      " 70  secondary_cleaner.state.floatbank2_a_level          14148 non-null  float64\n",
      " 71  secondary_cleaner.state.floatbank2_b_air            14128 non-null  float64\n",
      " 72  secondary_cleaner.state.floatbank2_b_level          14148 non-null  float64\n",
      " 73  secondary_cleaner.state.floatbank3_a_air            14145 non-null  float64\n",
      " 74  secondary_cleaner.state.floatbank3_a_level          14148 non-null  float64\n",
      " 75  secondary_cleaner.state.floatbank3_b_air            14148 non-null  float64\n",
      " 76  secondary_cleaner.state.floatbank3_b_level          14148 non-null  float64\n",
      " 77  secondary_cleaner.state.floatbank4_a_air            14143 non-null  float64\n",
      " 78  secondary_cleaner.state.floatbank4_a_level          14148 non-null  float64\n",
      " 79  secondary_cleaner.state.floatbank4_b_air            14148 non-null  float64\n",
      " 80  secondary_cleaner.state.floatbank4_b_level          14148 non-null  float64\n",
      " 81  secondary_cleaner.state.floatbank5_a_air            14148 non-null  float64\n",
      " 82  secondary_cleaner.state.floatbank5_a_level          14148 non-null  float64\n",
      " 83  secondary_cleaner.state.floatbank5_b_air            14148 non-null  float64\n",
      " 84  secondary_cleaner.state.floatbank5_b_level          14148 non-null  float64\n",
      " 85  secondary_cleaner.state.floatbank6_a_air            14147 non-null  float64\n",
      " 86  secondary_cleaner.state.floatbank6_a_level          14148 non-null  float64\n",
      "dtypes: float64(86), object(1)\n",
      "memory usage: 9.4+ MB\n"
     ]
    }
   ],
   "source": [
    "data_train.info()"
   ]
  },
  {
   "cell_type": "code",
   "execution_count": 5,
   "id": "cf990b70",
   "metadata": {},
   "outputs": [
    {
     "data": {
      "text/html": [
       "<div>\n",
       "<style scoped>\n",
       "    .dataframe tbody tr th:only-of-type {\n",
       "        vertical-align: middle;\n",
       "    }\n",
       "\n",
       "    .dataframe tbody tr th {\n",
       "        vertical-align: top;\n",
       "    }\n",
       "\n",
       "    .dataframe thead th {\n",
       "        text-align: right;\n",
       "    }\n",
       "</style>\n",
       "<table border=\"1\" class=\"dataframe\">\n",
       "  <thead>\n",
       "    <tr style=\"text-align: right;\">\n",
       "      <th></th>\n",
       "      <th>date</th>\n",
       "      <th>primary_cleaner.input.sulfate</th>\n",
       "      <th>primary_cleaner.input.depressant</th>\n",
       "      <th>primary_cleaner.input.feed_size</th>\n",
       "      <th>primary_cleaner.input.xanthate</th>\n",
       "      <th>primary_cleaner.state.floatbank8_a_air</th>\n",
       "      <th>primary_cleaner.state.floatbank8_a_level</th>\n",
       "      <th>primary_cleaner.state.floatbank8_b_air</th>\n",
       "      <th>primary_cleaner.state.floatbank8_b_level</th>\n",
       "      <th>primary_cleaner.state.floatbank8_c_air</th>\n",
       "      <th>...</th>\n",
       "      <th>secondary_cleaner.state.floatbank4_a_air</th>\n",
       "      <th>secondary_cleaner.state.floatbank4_a_level</th>\n",
       "      <th>secondary_cleaner.state.floatbank4_b_air</th>\n",
       "      <th>secondary_cleaner.state.floatbank4_b_level</th>\n",
       "      <th>secondary_cleaner.state.floatbank5_a_air</th>\n",
       "      <th>secondary_cleaner.state.floatbank5_a_level</th>\n",
       "      <th>secondary_cleaner.state.floatbank5_b_air</th>\n",
       "      <th>secondary_cleaner.state.floatbank5_b_level</th>\n",
       "      <th>secondary_cleaner.state.floatbank6_a_air</th>\n",
       "      <th>secondary_cleaner.state.floatbank6_a_level</th>\n",
       "    </tr>\n",
       "  </thead>\n",
       "  <tbody>\n",
       "    <tr>\n",
       "      <th>0</th>\n",
       "      <td>2016-09-01 00:59:59</td>\n",
       "      <td>210.800909</td>\n",
       "      <td>14.993118</td>\n",
       "      <td>8.080000</td>\n",
       "      <td>1.005021</td>\n",
       "      <td>1398.981301</td>\n",
       "      <td>-500.225577</td>\n",
       "      <td>1399.144926</td>\n",
       "      <td>-499.919735</td>\n",
       "      <td>1400.102998</td>\n",
       "      <td>...</td>\n",
       "      <td>12.023554</td>\n",
       "      <td>-497.795834</td>\n",
       "      <td>8.016656</td>\n",
       "      <td>-501.289139</td>\n",
       "      <td>7.946562</td>\n",
       "      <td>-432.317850</td>\n",
       "      <td>4.872511</td>\n",
       "      <td>-500.037437</td>\n",
       "      <td>26.705889</td>\n",
       "      <td>-499.709414</td>\n",
       "    </tr>\n",
       "    <tr>\n",
       "      <th>1</th>\n",
       "      <td>2016-09-01 01:59:59</td>\n",
       "      <td>215.392455</td>\n",
       "      <td>14.987471</td>\n",
       "      <td>8.080000</td>\n",
       "      <td>0.990469</td>\n",
       "      <td>1398.777912</td>\n",
       "      <td>-500.057435</td>\n",
       "      <td>1398.055362</td>\n",
       "      <td>-499.778182</td>\n",
       "      <td>1396.151033</td>\n",
       "      <td>...</td>\n",
       "      <td>12.058140</td>\n",
       "      <td>-498.695773</td>\n",
       "      <td>8.130979</td>\n",
       "      <td>-499.634209</td>\n",
       "      <td>7.958270</td>\n",
       "      <td>-525.839648</td>\n",
       "      <td>4.878850</td>\n",
       "      <td>-500.162375</td>\n",
       "      <td>25.019940</td>\n",
       "      <td>-499.819438</td>\n",
       "    </tr>\n",
       "    <tr>\n",
       "      <th>2</th>\n",
       "      <td>2016-09-01 02:59:59</td>\n",
       "      <td>215.259946</td>\n",
       "      <td>12.884934</td>\n",
       "      <td>7.786667</td>\n",
       "      <td>0.996043</td>\n",
       "      <td>1398.493666</td>\n",
       "      <td>-500.868360</td>\n",
       "      <td>1398.860436</td>\n",
       "      <td>-499.764529</td>\n",
       "      <td>1398.075709</td>\n",
       "      <td>...</td>\n",
       "      <td>11.962366</td>\n",
       "      <td>-498.767484</td>\n",
       "      <td>8.096893</td>\n",
       "      <td>-500.827423</td>\n",
       "      <td>8.071056</td>\n",
       "      <td>-500.801673</td>\n",
       "      <td>4.905125</td>\n",
       "      <td>-499.828510</td>\n",
       "      <td>24.994862</td>\n",
       "      <td>-500.622559</td>\n",
       "    </tr>\n",
       "    <tr>\n",
       "      <th>3</th>\n",
       "      <td>2016-09-01 03:59:59</td>\n",
       "      <td>215.336236</td>\n",
       "      <td>12.006805</td>\n",
       "      <td>7.640000</td>\n",
       "      <td>0.863514</td>\n",
       "      <td>1399.618111</td>\n",
       "      <td>-498.863574</td>\n",
       "      <td>1397.440120</td>\n",
       "      <td>-499.211024</td>\n",
       "      <td>1400.129303</td>\n",
       "      <td>...</td>\n",
       "      <td>12.033091</td>\n",
       "      <td>-498.350935</td>\n",
       "      <td>8.074946</td>\n",
       "      <td>-499.474407</td>\n",
       "      <td>7.897085</td>\n",
       "      <td>-500.868509</td>\n",
       "      <td>4.931400</td>\n",
       "      <td>-499.963623</td>\n",
       "      <td>24.948919</td>\n",
       "      <td>-498.709987</td>\n",
       "    </tr>\n",
       "    <tr>\n",
       "      <th>4</th>\n",
       "      <td>2016-09-01 04:59:59</td>\n",
       "      <td>199.099327</td>\n",
       "      <td>10.682530</td>\n",
       "      <td>7.530000</td>\n",
       "      <td>0.805575</td>\n",
       "      <td>1401.268123</td>\n",
       "      <td>-500.808305</td>\n",
       "      <td>1398.128818</td>\n",
       "      <td>-499.504543</td>\n",
       "      <td>1402.172226</td>\n",
       "      <td>...</td>\n",
       "      <td>12.025367</td>\n",
       "      <td>-500.786497</td>\n",
       "      <td>8.054678</td>\n",
       "      <td>-500.397500</td>\n",
       "      <td>8.107890</td>\n",
       "      <td>-509.526725</td>\n",
       "      <td>4.957674</td>\n",
       "      <td>-500.360026</td>\n",
       "      <td>25.003331</td>\n",
       "      <td>-500.856333</td>\n",
       "    </tr>\n",
       "  </tbody>\n",
       "</table>\n",
       "<p>5 rows × 53 columns</p>\n",
       "</div>"
      ],
      "text/plain": [
       "                  date  primary_cleaner.input.sulfate  \\\n",
       "0  2016-09-01 00:59:59                     210.800909   \n",
       "1  2016-09-01 01:59:59                     215.392455   \n",
       "2  2016-09-01 02:59:59                     215.259946   \n",
       "3  2016-09-01 03:59:59                     215.336236   \n",
       "4  2016-09-01 04:59:59                     199.099327   \n",
       "\n",
       "   primary_cleaner.input.depressant  primary_cleaner.input.feed_size  \\\n",
       "0                         14.993118                         8.080000   \n",
       "1                         14.987471                         8.080000   \n",
       "2                         12.884934                         7.786667   \n",
       "3                         12.006805                         7.640000   \n",
       "4                         10.682530                         7.530000   \n",
       "\n",
       "   primary_cleaner.input.xanthate  primary_cleaner.state.floatbank8_a_air  \\\n",
       "0                        1.005021                             1398.981301   \n",
       "1                        0.990469                             1398.777912   \n",
       "2                        0.996043                             1398.493666   \n",
       "3                        0.863514                             1399.618111   \n",
       "4                        0.805575                             1401.268123   \n",
       "\n",
       "   primary_cleaner.state.floatbank8_a_level  \\\n",
       "0                               -500.225577   \n",
       "1                               -500.057435   \n",
       "2                               -500.868360   \n",
       "3                               -498.863574   \n",
       "4                               -500.808305   \n",
       "\n",
       "   primary_cleaner.state.floatbank8_b_air  \\\n",
       "0                             1399.144926   \n",
       "1                             1398.055362   \n",
       "2                             1398.860436   \n",
       "3                             1397.440120   \n",
       "4                             1398.128818   \n",
       "\n",
       "   primary_cleaner.state.floatbank8_b_level  \\\n",
       "0                               -499.919735   \n",
       "1                               -499.778182   \n",
       "2                               -499.764529   \n",
       "3                               -499.211024   \n",
       "4                               -499.504543   \n",
       "\n",
       "   primary_cleaner.state.floatbank8_c_air  ...  \\\n",
       "0                             1400.102998  ...   \n",
       "1                             1396.151033  ...   \n",
       "2                             1398.075709  ...   \n",
       "3                             1400.129303  ...   \n",
       "4                             1402.172226  ...   \n",
       "\n",
       "   secondary_cleaner.state.floatbank4_a_air  \\\n",
       "0                                 12.023554   \n",
       "1                                 12.058140   \n",
       "2                                 11.962366   \n",
       "3                                 12.033091   \n",
       "4                                 12.025367   \n",
       "\n",
       "   secondary_cleaner.state.floatbank4_a_level  \\\n",
       "0                                 -497.795834   \n",
       "1                                 -498.695773   \n",
       "2                                 -498.767484   \n",
       "3                                 -498.350935   \n",
       "4                                 -500.786497   \n",
       "\n",
       "   secondary_cleaner.state.floatbank4_b_air  \\\n",
       "0                                  8.016656   \n",
       "1                                  8.130979   \n",
       "2                                  8.096893   \n",
       "3                                  8.074946   \n",
       "4                                  8.054678   \n",
       "\n",
       "   secondary_cleaner.state.floatbank4_b_level  \\\n",
       "0                                 -501.289139   \n",
       "1                                 -499.634209   \n",
       "2                                 -500.827423   \n",
       "3                                 -499.474407   \n",
       "4                                 -500.397500   \n",
       "\n",
       "   secondary_cleaner.state.floatbank5_a_air  \\\n",
       "0                                  7.946562   \n",
       "1                                  7.958270   \n",
       "2                                  8.071056   \n",
       "3                                  7.897085   \n",
       "4                                  8.107890   \n",
       "\n",
       "   secondary_cleaner.state.floatbank5_a_level  \\\n",
       "0                                 -432.317850   \n",
       "1                                 -525.839648   \n",
       "2                                 -500.801673   \n",
       "3                                 -500.868509   \n",
       "4                                 -509.526725   \n",
       "\n",
       "   secondary_cleaner.state.floatbank5_b_air  \\\n",
       "0                                  4.872511   \n",
       "1                                  4.878850   \n",
       "2                                  4.905125   \n",
       "3                                  4.931400   \n",
       "4                                  4.957674   \n",
       "\n",
       "   secondary_cleaner.state.floatbank5_b_level  \\\n",
       "0                                 -500.037437   \n",
       "1                                 -500.162375   \n",
       "2                                 -499.828510   \n",
       "3                                 -499.963623   \n",
       "4                                 -500.360026   \n",
       "\n",
       "   secondary_cleaner.state.floatbank6_a_air  \\\n",
       "0                                 26.705889   \n",
       "1                                 25.019940   \n",
       "2                                 24.994862   \n",
       "3                                 24.948919   \n",
       "4                                 25.003331   \n",
       "\n",
       "   secondary_cleaner.state.floatbank6_a_level  \n",
       "0                                 -499.709414  \n",
       "1                                 -499.819438  \n",
       "2                                 -500.622559  \n",
       "3                                 -498.709987  \n",
       "4                                 -500.856333  \n",
       "\n",
       "[5 rows x 53 columns]"
      ]
     },
     "execution_count": 5,
     "metadata": {},
     "output_type": "execute_result"
    }
   ],
   "source": [
    "data_test.head(5)"
   ]
  },
  {
   "cell_type": "code",
   "execution_count": 6,
   "id": "04860fa3",
   "metadata": {},
   "outputs": [
    {
     "name": "stdout",
     "output_type": "stream",
     "text": [
      "<class 'pandas.core.frame.DataFrame'>\n",
      "RangeIndex: 5290 entries, 0 to 5289\n",
      "Data columns (total 53 columns):\n",
      " #   Column                                      Non-Null Count  Dtype  \n",
      "---  ------                                      --------------  -----  \n",
      " 0   date                                        5290 non-null   object \n",
      " 1   primary_cleaner.input.sulfate               5286 non-null   float64\n",
      " 2   primary_cleaner.input.depressant            5285 non-null   float64\n",
      " 3   primary_cleaner.input.feed_size             5290 non-null   float64\n",
      " 4   primary_cleaner.input.xanthate              5286 non-null   float64\n",
      " 5   primary_cleaner.state.floatbank8_a_air      5290 non-null   float64\n",
      " 6   primary_cleaner.state.floatbank8_a_level    5290 non-null   float64\n",
      " 7   primary_cleaner.state.floatbank8_b_air      5290 non-null   float64\n",
      " 8   primary_cleaner.state.floatbank8_b_level    5290 non-null   float64\n",
      " 9   primary_cleaner.state.floatbank8_c_air      5290 non-null   float64\n",
      " 10  primary_cleaner.state.floatbank8_c_level    5290 non-null   float64\n",
      " 11  primary_cleaner.state.floatbank8_d_air      5290 non-null   float64\n",
      " 12  primary_cleaner.state.floatbank8_d_level    5290 non-null   float64\n",
      " 13  rougher.input.feed_ag                       5290 non-null   float64\n",
      " 14  rougher.input.feed_pb                       5290 non-null   float64\n",
      " 15  rougher.input.feed_rate                     5287 non-null   float64\n",
      " 16  rougher.input.feed_size                     5289 non-null   float64\n",
      " 17  rougher.input.feed_sol                      5269 non-null   float64\n",
      " 18  rougher.input.feed_au                       5290 non-null   float64\n",
      " 19  rougher.input.floatbank10_sulfate           5285 non-null   float64\n",
      " 20  rougher.input.floatbank10_xanthate          5290 non-null   float64\n",
      " 21  rougher.input.floatbank11_sulfate           5282 non-null   float64\n",
      " 22  rougher.input.floatbank11_xanthate          5265 non-null   float64\n",
      " 23  rougher.state.floatbank10_a_air             5290 non-null   float64\n",
      " 24  rougher.state.floatbank10_a_level           5290 non-null   float64\n",
      " 25  rougher.state.floatbank10_b_air             5290 non-null   float64\n",
      " 26  rougher.state.floatbank10_b_level           5290 non-null   float64\n",
      " 27  rougher.state.floatbank10_c_air             5290 non-null   float64\n",
      " 28  rougher.state.floatbank10_c_level           5290 non-null   float64\n",
      " 29  rougher.state.floatbank10_d_air             5290 non-null   float64\n",
      " 30  rougher.state.floatbank10_d_level           5290 non-null   float64\n",
      " 31  rougher.state.floatbank10_e_air             5290 non-null   float64\n",
      " 32  rougher.state.floatbank10_e_level           5290 non-null   float64\n",
      " 33  rougher.state.floatbank10_f_air             5290 non-null   float64\n",
      " 34  rougher.state.floatbank10_f_level           5290 non-null   float64\n",
      " 35  secondary_cleaner.state.floatbank2_a_air    5287 non-null   float64\n",
      " 36  secondary_cleaner.state.floatbank2_a_level  5290 non-null   float64\n",
      " 37  secondary_cleaner.state.floatbank2_b_air    5288 non-null   float64\n",
      " 38  secondary_cleaner.state.floatbank2_b_level  5290 non-null   float64\n",
      " 39  secondary_cleaner.state.floatbank3_a_air    5281 non-null   float64\n",
      " 40  secondary_cleaner.state.floatbank3_a_level  5290 non-null   float64\n",
      " 41  secondary_cleaner.state.floatbank3_b_air    5290 non-null   float64\n",
      " 42  secondary_cleaner.state.floatbank3_b_level  5290 non-null   float64\n",
      " 43  secondary_cleaner.state.floatbank4_a_air    5290 non-null   float64\n",
      " 44  secondary_cleaner.state.floatbank4_a_level  5290 non-null   float64\n",
      " 45  secondary_cleaner.state.floatbank4_b_air    5290 non-null   float64\n",
      " 46  secondary_cleaner.state.floatbank4_b_level  5290 non-null   float64\n",
      " 47  secondary_cleaner.state.floatbank5_a_air    5290 non-null   float64\n",
      " 48  secondary_cleaner.state.floatbank5_a_level  5290 non-null   float64\n",
      " 49  secondary_cleaner.state.floatbank5_b_air    5290 non-null   float64\n",
      " 50  secondary_cleaner.state.floatbank5_b_level  5290 non-null   float64\n",
      " 51  secondary_cleaner.state.floatbank6_a_air    5290 non-null   float64\n",
      " 52  secondary_cleaner.state.floatbank6_a_level  5290 non-null   float64\n",
      "dtypes: float64(52), object(1)\n",
      "memory usage: 2.1+ MB\n"
     ]
    }
   ],
   "source": [
    "data_test.info()"
   ]
  },
  {
   "cell_type": "code",
   "execution_count": 7,
   "id": "f9f0677e",
   "metadata": {},
   "outputs": [
    {
     "data": {
      "text/html": [
       "<div>\n",
       "<style scoped>\n",
       "    .dataframe tbody tr th:only-of-type {\n",
       "        vertical-align: middle;\n",
       "    }\n",
       "\n",
       "    .dataframe tbody tr th {\n",
       "        vertical-align: top;\n",
       "    }\n",
       "\n",
       "    .dataframe thead th {\n",
       "        text-align: right;\n",
       "    }\n",
       "</style>\n",
       "<table border=\"1\" class=\"dataframe\">\n",
       "  <thead>\n",
       "    <tr style=\"text-align: right;\">\n",
       "      <th></th>\n",
       "      <th>date</th>\n",
       "      <th>final.output.concentrate_ag</th>\n",
       "      <th>final.output.concentrate_pb</th>\n",
       "      <th>final.output.concentrate_sol</th>\n",
       "      <th>final.output.concentrate_au</th>\n",
       "      <th>final.output.recovery</th>\n",
       "      <th>final.output.tail_ag</th>\n",
       "      <th>final.output.tail_pb</th>\n",
       "      <th>final.output.tail_sol</th>\n",
       "      <th>final.output.tail_au</th>\n",
       "      <th>...</th>\n",
       "      <th>secondary_cleaner.state.floatbank4_a_air</th>\n",
       "      <th>secondary_cleaner.state.floatbank4_a_level</th>\n",
       "      <th>secondary_cleaner.state.floatbank4_b_air</th>\n",
       "      <th>secondary_cleaner.state.floatbank4_b_level</th>\n",
       "      <th>secondary_cleaner.state.floatbank5_a_air</th>\n",
       "      <th>secondary_cleaner.state.floatbank5_a_level</th>\n",
       "      <th>secondary_cleaner.state.floatbank5_b_air</th>\n",
       "      <th>secondary_cleaner.state.floatbank5_b_level</th>\n",
       "      <th>secondary_cleaner.state.floatbank6_a_air</th>\n",
       "      <th>secondary_cleaner.state.floatbank6_a_level</th>\n",
       "    </tr>\n",
       "  </thead>\n",
       "  <tbody>\n",
       "    <tr>\n",
       "      <th>0</th>\n",
       "      <td>2016-01-15 00:00:00</td>\n",
       "      <td>6.055403</td>\n",
       "      <td>9.889648</td>\n",
       "      <td>5.507324</td>\n",
       "      <td>42.192020</td>\n",
       "      <td>70.541216</td>\n",
       "      <td>10.411962</td>\n",
       "      <td>0.895447</td>\n",
       "      <td>16.904297</td>\n",
       "      <td>2.143149</td>\n",
       "      <td>...</td>\n",
       "      <td>14.016835</td>\n",
       "      <td>-502.488007</td>\n",
       "      <td>12.099931</td>\n",
       "      <td>-504.715942</td>\n",
       "      <td>9.925633</td>\n",
       "      <td>-498.310211</td>\n",
       "      <td>8.079666</td>\n",
       "      <td>-500.470978</td>\n",
       "      <td>14.151341</td>\n",
       "      <td>-605.841980</td>\n",
       "    </tr>\n",
       "    <tr>\n",
       "      <th>1</th>\n",
       "      <td>2016-01-15 01:00:00</td>\n",
       "      <td>6.029369</td>\n",
       "      <td>9.968944</td>\n",
       "      <td>5.257781</td>\n",
       "      <td>42.701629</td>\n",
       "      <td>69.266198</td>\n",
       "      <td>10.462676</td>\n",
       "      <td>0.927452</td>\n",
       "      <td>16.634514</td>\n",
       "      <td>2.224930</td>\n",
       "      <td>...</td>\n",
       "      <td>13.992281</td>\n",
       "      <td>-505.503262</td>\n",
       "      <td>11.950531</td>\n",
       "      <td>-501.331529</td>\n",
       "      <td>10.039245</td>\n",
       "      <td>-500.169983</td>\n",
       "      <td>7.984757</td>\n",
       "      <td>-500.582168</td>\n",
       "      <td>13.998353</td>\n",
       "      <td>-599.787184</td>\n",
       "    </tr>\n",
       "    <tr>\n",
       "      <th>2</th>\n",
       "      <td>2016-01-15 02:00:00</td>\n",
       "      <td>6.055926</td>\n",
       "      <td>10.213995</td>\n",
       "      <td>5.383759</td>\n",
       "      <td>42.657501</td>\n",
       "      <td>68.116445</td>\n",
       "      <td>10.507046</td>\n",
       "      <td>0.953716</td>\n",
       "      <td>16.208849</td>\n",
       "      <td>2.257889</td>\n",
       "      <td>...</td>\n",
       "      <td>14.015015</td>\n",
       "      <td>-502.520901</td>\n",
       "      <td>11.912783</td>\n",
       "      <td>-501.133383</td>\n",
       "      <td>10.070913</td>\n",
       "      <td>-500.129135</td>\n",
       "      <td>8.013877</td>\n",
       "      <td>-500.517572</td>\n",
       "      <td>14.028663</td>\n",
       "      <td>-601.427363</td>\n",
       "    </tr>\n",
       "    <tr>\n",
       "      <th>3</th>\n",
       "      <td>2016-01-15 03:00:00</td>\n",
       "      <td>6.047977</td>\n",
       "      <td>9.977019</td>\n",
       "      <td>4.858634</td>\n",
       "      <td>42.689819</td>\n",
       "      <td>68.347543</td>\n",
       "      <td>10.422762</td>\n",
       "      <td>0.883763</td>\n",
       "      <td>16.532835</td>\n",
       "      <td>2.146849</td>\n",
       "      <td>...</td>\n",
       "      <td>14.036510</td>\n",
       "      <td>-500.857308</td>\n",
       "      <td>11.999550</td>\n",
       "      <td>-501.193686</td>\n",
       "      <td>9.970366</td>\n",
       "      <td>-499.201640</td>\n",
       "      <td>7.977324</td>\n",
       "      <td>-500.255908</td>\n",
       "      <td>14.005551</td>\n",
       "      <td>-599.996129</td>\n",
       "    </tr>\n",
       "    <tr>\n",
       "      <th>4</th>\n",
       "      <td>2016-01-15 04:00:00</td>\n",
       "      <td>6.148599</td>\n",
       "      <td>10.142511</td>\n",
       "      <td>4.939416</td>\n",
       "      <td>42.774141</td>\n",
       "      <td>66.927016</td>\n",
       "      <td>10.360302</td>\n",
       "      <td>0.792826</td>\n",
       "      <td>16.525686</td>\n",
       "      <td>2.055292</td>\n",
       "      <td>...</td>\n",
       "      <td>14.027298</td>\n",
       "      <td>-499.838632</td>\n",
       "      <td>11.953070</td>\n",
       "      <td>-501.053894</td>\n",
       "      <td>9.925709</td>\n",
       "      <td>-501.686727</td>\n",
       "      <td>7.894242</td>\n",
       "      <td>-500.356035</td>\n",
       "      <td>13.996647</td>\n",
       "      <td>-601.496691</td>\n",
       "    </tr>\n",
       "  </tbody>\n",
       "</table>\n",
       "<p>5 rows × 87 columns</p>\n",
       "</div>"
      ],
      "text/plain": [
       "                  date  final.output.concentrate_ag  \\\n",
       "0  2016-01-15 00:00:00                     6.055403   \n",
       "1  2016-01-15 01:00:00                     6.029369   \n",
       "2  2016-01-15 02:00:00                     6.055926   \n",
       "3  2016-01-15 03:00:00                     6.047977   \n",
       "4  2016-01-15 04:00:00                     6.148599   \n",
       "\n",
       "   final.output.concentrate_pb  final.output.concentrate_sol  \\\n",
       "0                     9.889648                      5.507324   \n",
       "1                     9.968944                      5.257781   \n",
       "2                    10.213995                      5.383759   \n",
       "3                     9.977019                      4.858634   \n",
       "4                    10.142511                      4.939416   \n",
       "\n",
       "   final.output.concentrate_au  final.output.recovery  final.output.tail_ag  \\\n",
       "0                    42.192020              70.541216             10.411962   \n",
       "1                    42.701629              69.266198             10.462676   \n",
       "2                    42.657501              68.116445             10.507046   \n",
       "3                    42.689819              68.347543             10.422762   \n",
       "4                    42.774141              66.927016             10.360302   \n",
       "\n",
       "   final.output.tail_pb  final.output.tail_sol  final.output.tail_au  ...  \\\n",
       "0              0.895447              16.904297              2.143149  ...   \n",
       "1              0.927452              16.634514              2.224930  ...   \n",
       "2              0.953716              16.208849              2.257889  ...   \n",
       "3              0.883763              16.532835              2.146849  ...   \n",
       "4              0.792826              16.525686              2.055292  ...   \n",
       "\n",
       "   secondary_cleaner.state.floatbank4_a_air  \\\n",
       "0                                 14.016835   \n",
       "1                                 13.992281   \n",
       "2                                 14.015015   \n",
       "3                                 14.036510   \n",
       "4                                 14.027298   \n",
       "\n",
       "   secondary_cleaner.state.floatbank4_a_level  \\\n",
       "0                                 -502.488007   \n",
       "1                                 -505.503262   \n",
       "2                                 -502.520901   \n",
       "3                                 -500.857308   \n",
       "4                                 -499.838632   \n",
       "\n",
       "   secondary_cleaner.state.floatbank4_b_air  \\\n",
       "0                                 12.099931   \n",
       "1                                 11.950531   \n",
       "2                                 11.912783   \n",
       "3                                 11.999550   \n",
       "4                                 11.953070   \n",
       "\n",
       "   secondary_cleaner.state.floatbank4_b_level  \\\n",
       "0                                 -504.715942   \n",
       "1                                 -501.331529   \n",
       "2                                 -501.133383   \n",
       "3                                 -501.193686   \n",
       "4                                 -501.053894   \n",
       "\n",
       "   secondary_cleaner.state.floatbank5_a_air  \\\n",
       "0                                  9.925633   \n",
       "1                                 10.039245   \n",
       "2                                 10.070913   \n",
       "3                                  9.970366   \n",
       "4                                  9.925709   \n",
       "\n",
       "   secondary_cleaner.state.floatbank5_a_level  \\\n",
       "0                                 -498.310211   \n",
       "1                                 -500.169983   \n",
       "2                                 -500.129135   \n",
       "3                                 -499.201640   \n",
       "4                                 -501.686727   \n",
       "\n",
       "   secondary_cleaner.state.floatbank5_b_air  \\\n",
       "0                                  8.079666   \n",
       "1                                  7.984757   \n",
       "2                                  8.013877   \n",
       "3                                  7.977324   \n",
       "4                                  7.894242   \n",
       "\n",
       "   secondary_cleaner.state.floatbank5_b_level  \\\n",
       "0                                 -500.470978   \n",
       "1                                 -500.582168   \n",
       "2                                 -500.517572   \n",
       "3                                 -500.255908   \n",
       "4                                 -500.356035   \n",
       "\n",
       "   secondary_cleaner.state.floatbank6_a_air  \\\n",
       "0                                 14.151341   \n",
       "1                                 13.998353   \n",
       "2                                 14.028663   \n",
       "3                                 14.005551   \n",
       "4                                 13.996647   \n",
       "\n",
       "   secondary_cleaner.state.floatbank6_a_level  \n",
       "0                                 -605.841980  \n",
       "1                                 -599.787184  \n",
       "2                                 -601.427363  \n",
       "3                                 -599.996129  \n",
       "4                                 -601.496691  \n",
       "\n",
       "[5 rows x 87 columns]"
      ]
     },
     "execution_count": 7,
     "metadata": {},
     "output_type": "execute_result"
    }
   ],
   "source": [
    "data_full.head(5)"
   ]
  },
  {
   "cell_type": "code",
   "execution_count": 8,
   "id": "9b5fb414",
   "metadata": {},
   "outputs": [
    {
     "name": "stdout",
     "output_type": "stream",
     "text": [
      "<class 'pandas.core.frame.DataFrame'>\n",
      "RangeIndex: 19439 entries, 0 to 19438\n",
      "Data columns (total 87 columns):\n",
      " #   Column                                              Non-Null Count  Dtype  \n",
      "---  ------                                              --------------  -----  \n",
      " 0   date                                                19439 non-null  object \n",
      " 1   final.output.concentrate_ag                         19438 non-null  float64\n",
      " 2   final.output.concentrate_pb                         19438 non-null  float64\n",
      " 3   final.output.concentrate_sol                        19228 non-null  float64\n",
      " 4   final.output.concentrate_au                         19439 non-null  float64\n",
      " 5   final.output.recovery                               19439 non-null  float64\n",
      " 6   final.output.tail_ag                                19438 non-null  float64\n",
      " 7   final.output.tail_pb                                19338 non-null  float64\n",
      " 8   final.output.tail_sol                               19433 non-null  float64\n",
      " 9   final.output.tail_au                                19439 non-null  float64\n",
      " 10  primary_cleaner.input.sulfate                       19415 non-null  float64\n",
      " 11  primary_cleaner.input.depressant                    19402 non-null  float64\n",
      " 12  primary_cleaner.input.feed_size                     19439 non-null  float64\n",
      " 13  primary_cleaner.input.xanthate                      19335 non-null  float64\n",
      " 14  primary_cleaner.output.concentrate_ag               19439 non-null  float64\n",
      " 15  primary_cleaner.output.concentrate_pb               19323 non-null  float64\n",
      " 16  primary_cleaner.output.concentrate_sol              19069 non-null  float64\n",
      " 17  primary_cleaner.output.concentrate_au               19439 non-null  float64\n",
      " 18  primary_cleaner.output.tail_ag                      19435 non-null  float64\n",
      " 19  primary_cleaner.output.tail_pb                      19418 non-null  float64\n",
      " 20  primary_cleaner.output.tail_sol                     19377 non-null  float64\n",
      " 21  primary_cleaner.output.tail_au                      19439 non-null  float64\n",
      " 22  primary_cleaner.state.floatbank8_a_air              19435 non-null  float64\n",
      " 23  primary_cleaner.state.floatbank8_a_level            19438 non-null  float64\n",
      " 24  primary_cleaner.state.floatbank8_b_air              19435 non-null  float64\n",
      " 25  primary_cleaner.state.floatbank8_b_level            19438 non-null  float64\n",
      " 26  primary_cleaner.state.floatbank8_c_air              19437 non-null  float64\n",
      " 27  primary_cleaner.state.floatbank8_c_level            19438 non-null  float64\n",
      " 28  primary_cleaner.state.floatbank8_d_air              19436 non-null  float64\n",
      " 29  primary_cleaner.state.floatbank8_d_level            19438 non-null  float64\n",
      " 30  rougher.calculation.sulfate_to_au_concentrate       19437 non-null  float64\n",
      " 31  rougher.calculation.floatbank10_sulfate_to_au_feed  19437 non-null  float64\n",
      " 32  rougher.calculation.floatbank11_sulfate_to_au_feed  19437 non-null  float64\n",
      " 33  rougher.calculation.au_pb_ratio                     19439 non-null  float64\n",
      " 34  rougher.input.feed_ag                               19439 non-null  float64\n",
      " 35  rougher.input.feed_pb                               19339 non-null  float64\n",
      " 36  rougher.input.feed_rate                             19428 non-null  float64\n",
      " 37  rougher.input.feed_size                             19294 non-null  float64\n",
      " 38  rougher.input.feed_sol                              19340 non-null  float64\n",
      " 39  rougher.input.feed_au                               19439 non-null  float64\n",
      " 40  rougher.input.floatbank10_sulfate                   19405 non-null  float64\n",
      " 41  rougher.input.floatbank10_xanthate                  19431 non-null  float64\n",
      " 42  rougher.input.floatbank11_sulfate                   19395 non-null  float64\n",
      " 43  rougher.input.floatbank11_xanthate                  18986 non-null  float64\n",
      " 44  rougher.output.concentrate_ag                       19439 non-null  float64\n",
      " 45  rougher.output.concentrate_pb                       19439 non-null  float64\n",
      " 46  rougher.output.concentrate_sol                      19416 non-null  float64\n",
      " 47  rougher.output.concentrate_au                       19439 non-null  float64\n",
      " 48  rougher.output.recovery                             19439 non-null  float64\n",
      " 49  rougher.output.tail_ag                              19438 non-null  float64\n",
      " 50  rougher.output.tail_pb                              19439 non-null  float64\n",
      " 51  rougher.output.tail_sol                             19439 non-null  float64\n",
      " 52  rougher.output.tail_au                              19439 non-null  float64\n",
      " 53  rougher.state.floatbank10_a_air                     19438 non-null  float64\n",
      " 54  rougher.state.floatbank10_a_level                   19438 non-null  float64\n",
      " 55  rougher.state.floatbank10_b_air                     19438 non-null  float64\n",
      " 56  rougher.state.floatbank10_b_level                   19438 non-null  float64\n",
      " 57  rougher.state.floatbank10_c_air                     19438 non-null  float64\n",
      " 58  rougher.state.floatbank10_c_level                   19438 non-null  float64\n",
      " 59  rougher.state.floatbank10_d_air                     19439 non-null  float64\n",
      " 60  rougher.state.floatbank10_d_level                   19439 non-null  float64\n",
      " 61  rougher.state.floatbank10_e_air                     19003 non-null  float64\n",
      " 62  rougher.state.floatbank10_e_level                   19439 non-null  float64\n",
      " 63  rougher.state.floatbank10_f_air                     19439 non-null  float64\n",
      " 64  rougher.state.floatbank10_f_level                   19439 non-null  float64\n",
      " 65  secondary_cleaner.output.tail_ag                    19437 non-null  float64\n",
      " 66  secondary_cleaner.output.tail_pb                    19427 non-null  float64\n",
      " 67  secondary_cleaner.output.tail_sol                   17691 non-null  float64\n",
      " 68  secondary_cleaner.output.tail_au                    19439 non-null  float64\n",
      " 69  secondary_cleaner.state.floatbank2_a_air            19219 non-null  float64\n",
      " 70  secondary_cleaner.state.floatbank2_a_level          19438 non-null  float64\n",
      " 71  secondary_cleaner.state.floatbank2_b_air            19416 non-null  float64\n",
      " 72  secondary_cleaner.state.floatbank2_b_level          19438 non-null  float64\n",
      " 73  secondary_cleaner.state.floatbank3_a_air            19426 non-null  float64\n",
      " 74  secondary_cleaner.state.floatbank3_a_level          19438 non-null  float64\n",
      " 75  secondary_cleaner.state.floatbank3_b_air            19438 non-null  float64\n",
      " 76  secondary_cleaner.state.floatbank3_b_level          19438 non-null  float64\n",
      " 77  secondary_cleaner.state.floatbank4_a_air            19433 non-null  float64\n",
      " 78  secondary_cleaner.state.floatbank4_a_level          19438 non-null  float64\n",
      " 79  secondary_cleaner.state.floatbank4_b_air            19438 non-null  float64\n",
      " 80  secondary_cleaner.state.floatbank4_b_level          19438 non-null  float64\n",
      " 81  secondary_cleaner.state.floatbank5_a_air            19438 non-null  float64\n",
      " 82  secondary_cleaner.state.floatbank5_a_level          19438 non-null  float64\n",
      " 83  secondary_cleaner.state.floatbank5_b_air            19438 non-null  float64\n",
      " 84  secondary_cleaner.state.floatbank5_b_level          19438 non-null  float64\n",
      " 85  secondary_cleaner.state.floatbank6_a_air            19437 non-null  float64\n",
      " 86  secondary_cleaner.state.floatbank6_a_level          19438 non-null  float64\n",
      "dtypes: float64(86), object(1)\n",
      "memory usage: 12.9+ MB\n"
     ]
    }
   ],
   "source": [
    "data_full.info()"
   ]
  },
  {
   "cell_type": "code",
   "execution_count": 9,
   "id": "eb9259f6",
   "metadata": {},
   "outputs": [
    {
     "data": {
      "text/plain": [
       "date                                                   0.000000\n",
       "final.output.concentrate_ag                            0.007068\n",
       "final.output.concentrate_pb                            0.007068\n",
       "final.output.concentrate_sol                           1.491271\n",
       "final.output.concentrate_au                            0.000000\n",
       "final.output.recovery                                  0.000000\n",
       "final.output.tail_ag                                   0.000000\n",
       "final.output.tail_pb                                   0.706764\n",
       "final.output.tail_sol                                  0.035338\n",
       "final.output.tail_au                                   0.000000\n",
       "primary_cleaner.input.sulfate                          0.141353\n",
       "primary_cleaner.input.depressant                       0.226164\n",
       "primary_cleaner.input.feed_size                        0.000000\n",
       "primary_cleaner.input.xanthate                         0.706764\n",
       "primary_cleaner.output.concentrate_ag                  0.000000\n",
       "primary_cleaner.output.concentrate_pb                  0.607817\n",
       "primary_cleaner.output.concentrate_sol                 2.021344\n",
       "primary_cleaner.output.concentrate_au                  0.000000\n",
       "primary_cleaner.output.tail_ag                         0.007068\n",
       "primary_cleaner.output.tail_pb                         0.106015\n",
       "primary_cleaner.output.tail_sol                        0.325111\n",
       "primary_cleaner.output.tail_au                         0.000000\n",
       "primary_cleaner.state.floatbank8_a_air                 0.028271\n",
       "primary_cleaner.state.floatbank8_a_level               0.007068\n",
       "primary_cleaner.state.floatbank8_b_air                 0.028271\n",
       "primary_cleaner.state.floatbank8_b_level               0.007068\n",
       "primary_cleaner.state.floatbank8_c_air                 0.014135\n",
       "primary_cleaner.state.floatbank8_c_level               0.007068\n",
       "primary_cleaner.state.floatbank8_d_air                 0.021203\n",
       "primary_cleaner.state.floatbank8_d_level               0.007068\n",
       "rougher.calculation.sulfate_to_au_concentrate          0.007068\n",
       "rougher.calculation.floatbank10_sulfate_to_au_feed     0.007068\n",
       "rougher.calculation.floatbank11_sulfate_to_au_feed     0.007068\n",
       "rougher.calculation.au_pb_ratio                        0.000000\n",
       "rougher.input.feed_ag                                  0.000000\n",
       "rougher.input.feed_pb                                  0.706764\n",
       "rougher.input.feed_rate                                0.056541\n",
       "rougher.input.feed_size                                1.017740\n",
       "rougher.input.feed_sol                                 0.551276\n",
       "rougher.input.feed_au                                  0.000000\n",
       "rougher.input.floatbank10_sulfate                      0.204961\n",
       "rougher.input.floatbank10_xanthate                     0.056541\n",
       "rougher.input.floatbank11_sulfate                      0.254435\n",
       "rougher.input.floatbank11_xanthate                     3.024949\n",
       "rougher.output.concentrate_ag                          0.000000\n",
       "rougher.output.concentrate_pb                          0.000000\n",
       "rougher.output.concentrate_sol                         0.155488\n",
       "rougher.output.concentrate_au                          0.000000\n",
       "rougher.output.recovery                                0.000000\n",
       "rougher.output.tail_ag                                 0.007068\n",
       "rougher.output.tail_pb                                 0.000000\n",
       "rougher.output.tail_sol                                0.000000\n",
       "rougher.output.tail_au                                 0.000000\n",
       "rougher.state.floatbank10_a_air                        0.007068\n",
       "rougher.state.floatbank10_a_level                      0.007068\n",
       "rougher.state.floatbank10_b_air                        0.007068\n",
       "rougher.state.floatbank10_b_level                      0.007068\n",
       "rougher.state.floatbank10_c_air                        0.007068\n",
       "rougher.state.floatbank10_c_level                      0.007068\n",
       "rougher.state.floatbank10_d_air                        0.000000\n",
       "rougher.state.floatbank10_d_level                      0.000000\n",
       "rougher.state.floatbank10_e_air                        3.081490\n",
       "rougher.state.floatbank10_e_level                      0.000000\n",
       "rougher.state.floatbank10_f_air                        0.000000\n",
       "rougher.state.floatbank10_f_level                      0.000000\n",
       "secondary_cleaner.output.tail_ag                       0.014135\n",
       "secondary_cleaner.output.tail_pb                       0.070676\n",
       "secondary_cleaner.output.tail_sol                     11.343558\n",
       "secondary_cleaner.output.tail_au                       0.000000\n",
       "secondary_cleaner.state.floatbank2_a_air               1.533677\n",
       "secondary_cleaner.state.floatbank2_a_level             0.007068\n",
       "secondary_cleaner.state.floatbank2_b_air               0.148420\n",
       "secondary_cleaner.state.floatbank2_b_level             0.007068\n",
       "secondary_cleaner.state.floatbank3_a_air               0.028271\n",
       "secondary_cleaner.state.floatbank3_a_level             0.007068\n",
       "secondary_cleaner.state.floatbank3_b_air               0.007068\n",
       "secondary_cleaner.state.floatbank3_b_level             0.007068\n",
       "secondary_cleaner.state.floatbank4_a_air               0.042406\n",
       "secondary_cleaner.state.floatbank4_a_level             0.007068\n",
       "secondary_cleaner.state.floatbank4_b_air               0.007068\n",
       "secondary_cleaner.state.floatbank4_b_level             0.007068\n",
       "secondary_cleaner.state.floatbank5_a_air               0.007068\n",
       "secondary_cleaner.state.floatbank5_a_level             0.007068\n",
       "secondary_cleaner.state.floatbank5_b_air               0.007068\n",
       "secondary_cleaner.state.floatbank5_b_level             0.007068\n",
       "secondary_cleaner.state.floatbank6_a_air               0.014135\n",
       "secondary_cleaner.state.floatbank6_a_level             0.007068\n",
       "dtype: float64"
      ]
     },
     "execution_count": 9,
     "metadata": {},
     "output_type": "execute_result"
    }
   ],
   "source": [
    "pd.set_option('display.max_rows', None)\n",
    "data_train.isna().sum()/len(data_train)*100"
   ]
  },
  {
   "cell_type": "markdown",
   "id": "426f9d4f",
   "metadata": {},
   "source": [
    "### Расчет эффективности"
   ]
  },
  {
   "cell_type": "code",
   "execution_count": 10,
   "id": "859e90b8",
   "metadata": {},
   "outputs": [
    {
     "data": {
      "text/plain": [
       "0    87.107763\n",
       "1    86.843261\n",
       "2    86.842308\n",
       "3    87.226430\n",
       "4    86.688794\n",
       "Name: rougher.output.recovery_calculated, dtype: float64"
      ]
     },
     "execution_count": 10,
     "metadata": {},
     "output_type": "execute_result"
    }
   ],
   "source": [
    "C = data_train['rougher.output.concentrate_au']\n",
    "F = data_train['rougher.input.feed_au']\n",
    "T = data_train['rougher.output.tail_au']\n",
    "\n",
    "data_train['rougher.output.recovery_calculated'] = (C*(F-T))*100/(F*(C-T))\n",
    "data_train['rougher.output.recovery_calculated'].head(5)"
   ]
  },
  {
   "cell_type": "code",
   "execution_count": 11,
   "id": "6f060594",
   "metadata": {},
   "outputs": [
    {
     "data": {
      "text/plain": [
       "count    1.414900e+04\n",
       "mean    -9.692187e-17\n",
       "std      1.582953e-14\n",
       "min     -8.526513e-14\n",
       "25%     -1.421085e-14\n",
       "50%      0.000000e+00\n",
       "75%      1.421085e-14\n",
       "max      7.105427e-14\n",
       "dtype: float64"
      ]
     },
     "execution_count": 11,
     "metadata": {},
     "output_type": "execute_result"
    }
   ],
   "source": [
    "recovery_comparison = data_train['rougher.output.recovery_calculated'] - data_train['rougher.output.recovery']\n",
    "recovery_comparison.describe()"
   ]
  },
  {
   "cell_type": "code",
   "execution_count": 12,
   "id": "78ab6cc4",
   "metadata": {},
   "outputs": [
    {
     "data": {
      "text/plain": [
       "1.1131451184435918e-14"
      ]
     },
     "execution_count": 12,
     "metadata": {},
     "output_type": "execute_result"
    }
   ],
   "source": [
    "comparison = mean_absolute_error(data_train['rougher.output.recovery'], data_train['rougher.output.recovery_calculated'])\n",
    "comparison"
   ]
  },
  {
   "cell_type": "markdown",
   "id": "e82afe7a",
   "metadata": {},
   "source": [
    "**Вывод**: Расчет эффективности произведен корректно"
   ]
  },
  {
   "cell_type": "markdown",
   "id": "2f17200d",
   "metadata": {},
   "source": [
    "### Признаки, недоступные в тестовой выборке"
   ]
  },
  {
   "cell_type": "code",
   "execution_count": 13,
   "id": "fe8a7d70",
   "metadata": {},
   "outputs": [
    {
     "data": {
      "text/plain": [
       "['final.output.concentrate_ag',\n",
       " 'final.output.concentrate_pb',\n",
       " 'final.output.concentrate_sol',\n",
       " 'final.output.concentrate_au',\n",
       " 'final.output.recovery',\n",
       " 'final.output.tail_ag',\n",
       " 'final.output.tail_pb',\n",
       " 'final.output.tail_sol',\n",
       " 'final.output.tail_au',\n",
       " 'primary_cleaner.output.concentrate_ag',\n",
       " 'primary_cleaner.output.concentrate_pb',\n",
       " 'primary_cleaner.output.concentrate_sol',\n",
       " 'primary_cleaner.output.concentrate_au',\n",
       " 'primary_cleaner.output.tail_ag',\n",
       " 'primary_cleaner.output.tail_pb',\n",
       " 'primary_cleaner.output.tail_sol',\n",
       " 'primary_cleaner.output.tail_au',\n",
       " 'rougher.calculation.sulfate_to_au_concentrate',\n",
       " 'rougher.calculation.floatbank10_sulfate_to_au_feed',\n",
       " 'rougher.calculation.floatbank11_sulfate_to_au_feed',\n",
       " 'rougher.calculation.au_pb_ratio',\n",
       " 'rougher.output.concentrate_ag',\n",
       " 'rougher.output.concentrate_pb',\n",
       " 'rougher.output.concentrate_sol',\n",
       " 'rougher.output.concentrate_au',\n",
       " 'rougher.output.recovery',\n",
       " 'rougher.output.tail_ag',\n",
       " 'rougher.output.tail_pb',\n",
       " 'rougher.output.tail_sol',\n",
       " 'rougher.output.tail_au',\n",
       " 'secondary_cleaner.output.tail_ag',\n",
       " 'secondary_cleaner.output.tail_pb',\n",
       " 'secondary_cleaner.output.tail_sol',\n",
       " 'secondary_cleaner.output.tail_au']"
      ]
     },
     "execution_count": 13,
     "metadata": {},
     "output_type": "execute_result"
    }
   ],
   "source": [
    "absent = []\n",
    "for col in data_full.columns:\n",
    "    if col not in data_test.columns:\n",
    "        absent.append(col)\n",
    "absent"
   ]
  },
  {
   "cell_type": "markdown",
   "id": "181d7c4e",
   "metadata": {},
   "source": [
    "В тестовой выборке отутствуют параметры, получаемые на выходе той или иной стадии процесса, а также значения, вычисленные на основе этих параметров. Параметры на стадии output отсутствуют в тестовой выборке, потому что их наличие приводило бы к утечке целевого параметра соответствующиего этапа. Тоже самое с calculations - результаты вычислений, если на них обучать модель, заспойлерят ей ответ. "
   ]
  },
  {
   "cell_type": "markdown",
   "id": "b7b86bcb",
   "metadata": {},
   "source": [
    "### Предобработка данных"
   ]
  },
  {
   "cell_type": "markdown",
   "id": "23ada43e",
   "metadata": {},
   "source": [
    "Будем группировать данные для обработки по смыслу: input, state, output, calculation. Основное внимание уделим данным для input и state, потому что именно эти данные будут в обучающем наборе. "
   ]
  },
  {
   "cell_type": "markdown",
   "id": "a136b848",
   "metadata": {},
   "source": [
    "#### Предобработка input"
   ]
  },
  {
   "cell_type": "code",
   "execution_count": 14,
   "id": "79d0f475",
   "metadata": {},
   "outputs": [
    {
     "data": {
      "text/plain": [
       "['primary_cleaner.input.sulfate',\n",
       " 'primary_cleaner.input.depressant',\n",
       " 'primary_cleaner.input.feed_size',\n",
       " 'primary_cleaner.input.xanthate',\n",
       " 'rougher.input.feed_ag',\n",
       " 'rougher.input.feed_pb',\n",
       " 'rougher.input.feed_rate',\n",
       " 'rougher.input.feed_size',\n",
       " 'rougher.input.feed_sol',\n",
       " 'rougher.input.feed_au',\n",
       " 'rougher.input.floatbank10_sulfate',\n",
       " 'rougher.input.floatbank10_xanthate',\n",
       " 'rougher.input.floatbank11_sulfate',\n",
       " 'rougher.input.floatbank11_xanthate']"
      ]
     },
     "execution_count": 14,
     "metadata": {},
     "output_type": "execute_result"
    }
   ],
   "source": [
    "columns_input = []\n",
    "for col in data_train.columns:\n",
    "    if 'input' in col:\n",
    "        columns_input.append(col)\n",
    "columns_input"
   ]
  },
  {
   "cell_type": "code",
   "execution_count": 15,
   "id": "87d90862",
   "metadata": {},
   "outputs": [
    {
     "data": {
      "text/plain": [
       "primary_cleaner.input.sulfate          20\n",
       "primary_cleaner.input.depressant       32\n",
       "primary_cleaner.input.feed_size         0\n",
       "primary_cleaner.input.xanthate        100\n",
       "rougher.input.feed_ag                   0\n",
       "rougher.input.feed_pb                 100\n",
       "rougher.input.feed_rate                 8\n",
       "rougher.input.feed_size               144\n",
       "rougher.input.feed_sol                 78\n",
       "rougher.input.feed_au                   0\n",
       "rougher.input.floatbank10_sulfate      29\n",
       "rougher.input.floatbank10_xanthate      8\n",
       "rougher.input.floatbank11_sulfate      36\n",
       "rougher.input.floatbank11_xanthate    428\n",
       "dtype: int64"
      ]
     },
     "execution_count": 15,
     "metadata": {},
     "output_type": "execute_result"
    }
   ],
   "source": [
    "data_train[columns_input].isna().sum()"
   ]
  },
  {
   "cell_type": "code",
   "execution_count": 16,
   "id": "d7ad2728",
   "metadata": {
    "scrolled": false
   },
   "outputs": [
    {
     "data": {
      "image/png": "[encoded data removed]",
      "text/plain": [
       "<Figure size 1080x1080 with 1 Axes>"
      ]
     },
     "metadata": {
      "needs_background": "light"
     },
     "output_type": "display_data"
    }
   ],
   "source": [
    "data_train[columns_input].filter(regex='rougher\\.input\\.feed').boxplot(figsize=(15,15));\n",
    "plt.title('Boxplot для параметров rougher.input.feed*')\n",
    "plt.xlabel('Название параметра')\n",
    "plt.ylabel('Значение')\n",
    "plt.show()"
   ]
  },
  {
   "cell_type": "code",
   "execution_count": 17,
   "id": "ce6482bd",
   "metadata": {},
   "outputs": [
    {
     "data": {
      "image/png": "[encoded data removed]",
      "text/plain": [
       "<Figure size 1080x1080 with 1 Axes>"
      ]
     },
     "metadata": {
      "needs_background": "light"
     },
     "output_type": "display_data"
    }
   ],
   "source": [
    "data_train[columns_input].filter(regex='rougher\\.input\\.float').boxplot(figsize=(15,15));\n",
    "plt.title('Boxplot для параметров rougher.input.float*')\n",
    "plt.xlabel('Название параметра')\n",
    "plt.ylabel('Значение')\n",
    "plt.show()"
   ]
  },
  {
   "cell_type": "code",
   "execution_count": 18,
   "id": "837676a3",
   "metadata": {},
   "outputs": [
    {
     "data": {
      "text/plain": [
       "rougher.input.feed_ag                 0.000000\n",
       "rougher.input.feed_pb                 0.706764\n",
       "rougher.input.feed_rate               0.056541\n",
       "rougher.input.feed_size               1.017740\n",
       "rougher.input.feed_sol                0.551276\n",
       "rougher.input.feed_au                 0.000000\n",
       "rougher.input.floatbank10_sulfate     0.204961\n",
       "rougher.input.floatbank10_xanthate    0.056541\n",
       "rougher.input.floatbank11_sulfate     0.254435\n",
       "rougher.input.floatbank11_xanthate    3.024949\n",
       "dtype: float64"
      ]
     },
     "execution_count": 18,
     "metadata": {},
     "output_type": "execute_result"
    }
   ],
   "source": [
    "data_train[columns_input].filter(regex='rougher').isna().sum()/len(data_train)*100"
   ]
  },
  {
   "cell_type": "markdown",
   "id": "e46a36b9",
   "metadata": {},
   "source": [
    " - feed_ag, feed_pb, floatbank... - параметры, отвечающие за концентрацию. Посмотрим, как они зависят от времени. Будем смотреть топ-3 по пропускам, остальных пропусков совсем мало, можно будет удалить. "
   ]
  },
  {
   "cell_type": "code",
   "execution_count": 19,
   "id": "1c885f4a",
   "metadata": {},
   "outputs": [
    {
     "data": {
      "image/png": "[encoded data removed]",
      "text/plain": [
       "<Figure size 1080x1080 with 1 Axes>"
      ]
     },
     "metadata": {
      "needs_background": "light"
     },
     "output_type": "display_data"
    }
   ],
   "source": [
    "data_train['date'] = pd.to_datetime(data_train['date'])\n",
    "data_train_slice = data_train[data_train['date'].dt.year == 2017]\n",
    "#data_train_slice = data_train_slice[data_train_slice['date'].dt.month == 3]\n",
    "plt.figure(figsize=(15, 15))\n",
    "plt.scatter(data_train_slice['date'], data_train_slice['rougher.input.feed_pb'], label='Feed Pb')\n",
    "plt.scatter(data_train_slice['date'], data_train_slice['rougher.input.feed_size'], label='Feed size')\n",
    "plt.scatter(data_train_slice['date'], data_train_slice['rougher.input.floatbank11_xanthate'], label='Xanthate')\n",
    "# add labels and legend\n",
    "plt.xlabel('Date')\n",
    "plt.ylabel('Concentration')\n",
    "plt.legend()\n",
    "\n",
    "# add a blank title\n",
    "plt.title('Зависимость концентраций от времени')\n",
    "\n",
    "# display the plot\n",
    "plt.show()"
   ]
  },
  {
   "cell_type": "markdown",
   "id": "9286b560",
   "metadata": {},
   "source": [
    "- feed_pb, feed_size - можно заменить соседними значениями, если они не NaN\n",
    "- xanthate - тут не очень понятно. Есть один большой провал в данных - то ли этой присадки не было, то ли она не учитывалась. В реальных условиях надо было бы по этому xanthate переговорить с кем-то. В учебной ситуации заменим медианой. "
   ]
  },
  {
   "cell_type": "code",
   "execution_count": 20,
   "id": "7562b392",
   "metadata": {},
   "outputs": [],
   "source": [
    "data_train['rougher.input.feed_size'] = data_train['rougher.input.feed_size'].fillna(method='ffill')\n",
    "data_train['rougher.input.feed_pb'] = data_train['rougher.input.feed_pb'].fillna(method='ffill')\n",
    "data_train['rougher.input.floatbank11_xanthate'] = data_train['rougher.input.floatbank11_xanthate'].fillna(data_train['rougher.input.floatbank11_xanthate'].median())"
   ]
  },
  {
   "cell_type": "markdown",
   "id": "4f679212",
   "metadata": {},
   "source": [
    "- feed_rate изучим отдельно"
   ]
  },
  {
   "cell_type": "code",
   "execution_count": 21,
   "id": "c2a667f5",
   "metadata": {},
   "outputs": [
    {
     "data": {
      "image/png": "[encoded data removed]",
      "text/plain": [
       "<Figure size 1080x1080 with 1 Axes>"
      ]
     },
     "metadata": {
      "needs_background": "light"
     },
     "output_type": "display_data"
    }
   ],
   "source": [
    "data_train['date'] = pd.to_datetime(data_train['date'])\n",
    "data_train_slice = data_train[data_train['date'].dt.year == 2017]\n",
    "#data_train_slice = data_train_slice[data_train_slice['date'].dt.month == 3]\n",
    "plt.figure(figsize=(15, 15))\n",
    "plt.scatter(data_train_slice['date'], data_train_slice['rougher.input.feed_rate'], label='Feed rate')\n",
    "plt.xlabel('Date')\n",
    "plt.ylabel('Feed rate')\n",
    "plt.legend()\n",
    "\n",
    "# add a blank title\n",
    "plt.title('Зависимость скорости подачи от времени')\n",
    "\n",
    "# display the plot\n",
    "plt.show()"
   ]
  },
  {
   "cell_type": "markdown",
   "id": "7f18cc11",
   "metadata": {},
   "source": [
    "Разброс между значениями бывает приличный, параметр очень важный, пропусков в нем совсем мало. Удаляем. "
   ]
  },
  {
   "cell_type": "code",
   "execution_count": 22,
   "id": "8c38dbd5",
   "metadata": {},
   "outputs": [],
   "source": [
    "data_train.dropna(subset=['rougher.input.feed_rate'], inplace=True)\n",
    "data_train.dropna(subset=['rougher.input.feed_sol'], inplace=True)\n",
    "data_train.dropna(subset=['rougher.input.floatbank10_sulfate'], inplace=True)\n",
    "data_train.dropna(subset=['rougher.input.floatbank10_xanthate'], inplace=True)\n",
    "data_train.dropna(subset=['rougher.input.floatbank11_sulfate'], inplace=True)"
   ]
  },
  {
   "cell_type": "code",
   "execution_count": 23,
   "id": "10ddf03f",
   "metadata": {},
   "outputs": [
    {
     "data": {
      "text/plain": [
       "rougher.input.feed_ag                 0\n",
       "rougher.input.feed_pb                 0\n",
       "rougher.input.feed_rate               0\n",
       "rougher.input.feed_size               0\n",
       "rougher.input.feed_sol                0\n",
       "rougher.input.feed_au                 0\n",
       "rougher.input.floatbank10_sulfate     0\n",
       "rougher.input.floatbank10_xanthate    0\n",
       "rougher.input.floatbank11_sulfate     0\n",
       "rougher.input.floatbank11_xanthate    0\n",
       "dtype: int64"
      ]
     },
     "execution_count": 23,
     "metadata": {},
     "output_type": "execute_result"
    }
   ],
   "source": [
    "data_train[columns_input].filter(regex='rougher').isna().sum()"
   ]
  },
  {
   "cell_type": "code",
   "execution_count": 24,
   "id": "7cd9b072",
   "metadata": {},
   "outputs": [
    {
     "data": {
      "text/plain": [
       "primary_cleaner.input.sulfate       0.028527\n",
       "primary_cleaner.input.depressant    0.121238\n",
       "primary_cleaner.input.feed_size     0.000000\n",
       "primary_cleaner.input.xanthate      0.634717\n",
       "dtype: float64"
      ]
     },
     "execution_count": 24,
     "metadata": {},
     "output_type": "execute_result"
    }
   ],
   "source": [
    "data_train[columns_input].filter(regex='primary_cleaner').isna().sum()/len(data_train)*100"
   ]
  },
  {
   "cell_type": "code",
   "execution_count": 25,
   "id": "8c48c6cb",
   "metadata": {},
   "outputs": [
    {
     "data": {
      "image/png": "[encoded data removed]",
      "text/plain": [
       "<Figure size 1080x1080 with 1 Axes>"
      ]
     },
     "metadata": {
      "needs_background": "light"
     },
     "output_type": "display_data"
    }
   ],
   "source": [
    "data_train[columns_input].filter(regex='primary_cleaner').boxplot(figsize=(15,15));"
   ]
  },
  {
   "cell_type": "code",
   "execution_count": 26,
   "id": "edf8229c",
   "metadata": {},
   "outputs": [
    {
     "data": {
      "image/png": "[encoded data removed]",
      "text/plain": [
       "<Figure size 720x432 with 1 Axes>"
      ]
     },
     "metadata": {
      "needs_background": "light"
     },
     "output_type": "display_data"
    }
   ],
   "source": [
    "plt.figure(figsize=(10, 6))\n",
    "plt.scatter(data_train_slice['date'], data_train_slice['primary_cleaner.input.sulfate'], label='Sulfate')\n",
    "plt.scatter(data_train_slice['date'], data_train_slice['primary_cleaner.input.depressant'], label='Depressant')\n",
    "plt.scatter(data_train_slice['date'], data_train_slice['primary_cleaner.input.xanthate'], label='Xanthate')\n",
    "\n",
    "plt.xlabel('Date')\n",
    "plt.ylabel('Concentration')\n",
    "plt.legend()\n",
    "\n",
    "# add a blank title\n",
    "plt.title('Зависимость концентраций от времени')\n",
    "\n",
    "# display the plot\n",
    "plt.show()"
   ]
  },
  {
   "cell_type": "markdown",
   "id": "b257a7ef",
   "metadata": {},
   "source": [
    "Заменим на соседние ненулевые.  "
   ]
  },
  {
   "cell_type": "code",
   "execution_count": 27,
   "id": "d4dee8d7",
   "metadata": {},
   "outputs": [],
   "source": [
    "data_train['primary_cleaner.input.sulfate'] = data_train['primary_cleaner.input.sulfate'].fillna(method='ffill')\n",
    "data_train['primary_cleaner.input.depressant'] = data_train['primary_cleaner.input.depressant'].fillna(method='ffill')\n",
    "data_train['primary_cleaner.input.xanthate'] = data_train['primary_cleaner.input.xanthate'].fillna(method='ffill')"
   ]
  },
  {
   "cell_type": "code",
   "execution_count": 28,
   "id": "07d21d9d",
   "metadata": {},
   "outputs": [
    {
     "data": {
      "text/plain": [
       "primary_cleaner.input.sulfate       0\n",
       "primary_cleaner.input.depressant    0\n",
       "primary_cleaner.input.feed_size     0\n",
       "primary_cleaner.input.xanthate      0\n",
       "dtype: int64"
      ]
     },
     "execution_count": 28,
     "metadata": {},
     "output_type": "execute_result"
    }
   ],
   "source": [
    "data_train[columns_input].filter(regex='primary_cleaner').isna().sum()"
   ]
  },
  {
   "cell_type": "markdown",
   "id": "1d4b8d1a",
   "metadata": {},
   "source": [
    "#### Предобработка state"
   ]
  },
  {
   "cell_type": "code",
   "execution_count": 29,
   "id": "a653b57e",
   "metadata": {},
   "outputs": [
    {
     "data": {
      "text/plain": [
       "['primary_cleaner.state.floatbank8_a_air',\n",
       " 'primary_cleaner.state.floatbank8_a_level',\n",
       " 'primary_cleaner.state.floatbank8_b_air',\n",
       " 'primary_cleaner.state.floatbank8_b_level',\n",
       " 'primary_cleaner.state.floatbank8_c_air',\n",
       " 'primary_cleaner.state.floatbank8_c_level',\n",
       " 'primary_cleaner.state.floatbank8_d_air',\n",
       " 'primary_cleaner.state.floatbank8_d_level',\n",
       " 'rougher.state.floatbank10_a_air',\n",
       " 'rougher.state.floatbank10_a_level',\n",
       " 'rougher.state.floatbank10_b_air',\n",
       " 'rougher.state.floatbank10_b_level',\n",
       " 'rougher.state.floatbank10_c_air',\n",
       " 'rougher.state.floatbank10_c_level',\n",
       " 'rougher.state.floatbank10_d_air',\n",
       " 'rougher.state.floatbank10_d_level',\n",
       " 'rougher.state.floatbank10_e_air',\n",
       " 'rougher.state.floatbank10_e_level',\n",
       " 'rougher.state.floatbank10_f_air',\n",
       " 'rougher.state.floatbank10_f_level',\n",
       " 'secondary_cleaner.state.floatbank2_a_air',\n",
       " 'secondary_cleaner.state.floatbank2_a_level',\n",
       " 'secondary_cleaner.state.floatbank2_b_air',\n",
       " 'secondary_cleaner.state.floatbank2_b_level',\n",
       " 'secondary_cleaner.state.floatbank3_a_air',\n",
       " 'secondary_cleaner.state.floatbank3_a_level',\n",
       " 'secondary_cleaner.state.floatbank3_b_air',\n",
       " 'secondary_cleaner.state.floatbank3_b_level',\n",
       " 'secondary_cleaner.state.floatbank4_a_air',\n",
       " 'secondary_cleaner.state.floatbank4_a_level',\n",
       " 'secondary_cleaner.state.floatbank4_b_air',\n",
       " 'secondary_cleaner.state.floatbank4_b_level',\n",
       " 'secondary_cleaner.state.floatbank5_a_air',\n",
       " 'secondary_cleaner.state.floatbank5_a_level',\n",
       " 'secondary_cleaner.state.floatbank5_b_air',\n",
       " 'secondary_cleaner.state.floatbank5_b_level',\n",
       " 'secondary_cleaner.state.floatbank6_a_air',\n",
       " 'secondary_cleaner.state.floatbank6_a_level']"
      ]
     },
     "execution_count": 29,
     "metadata": {},
     "output_type": "execute_result"
    }
   ],
   "source": [
    "columns_state = []\n",
    "for col in data_train.columns:\n",
    "    if 'state' in col:\n",
    "        columns_state.append(col)\n",
    "columns_state"
   ]
  },
  {
   "cell_type": "code",
   "execution_count": 30,
   "id": "d8360730",
   "metadata": {
    "scrolled": true
   },
   "outputs": [
    {
     "data": {
      "text/plain": [
       "primary_cleaner.state.floatbank8_a_air        0.021395\n",
       "primary_cleaner.state.floatbank8_a_level      0.000000\n",
       "primary_cleaner.state.floatbank8_b_air        0.021395\n",
       "primary_cleaner.state.floatbank8_b_level      0.000000\n",
       "primary_cleaner.state.floatbank8_c_air        0.007132\n",
       "primary_cleaner.state.floatbank8_c_level      0.000000\n",
       "primary_cleaner.state.floatbank8_d_air        0.014263\n",
       "primary_cleaner.state.floatbank8_d_level      0.000000\n",
       "rougher.state.floatbank10_a_air               0.000000\n",
       "rougher.state.floatbank10_a_level             0.000000\n",
       "rougher.state.floatbank10_b_air               0.000000\n",
       "rougher.state.floatbank10_b_level             0.000000\n",
       "rougher.state.floatbank10_c_air               0.000000\n",
       "rougher.state.floatbank10_c_level             0.000000\n",
       "rougher.state.floatbank10_d_air               0.000000\n",
       "rougher.state.floatbank10_d_level             0.000000\n",
       "rougher.state.floatbank10_e_air               3.066610\n",
       "rougher.state.floatbank10_e_level             0.000000\n",
       "rougher.state.floatbank10_f_air               0.000000\n",
       "rougher.state.floatbank10_f_level             0.000000\n",
       "secondary_cleaner.state.floatbank2_a_air      1.526173\n",
       "secondary_cleaner.state.floatbank2_a_level    0.000000\n",
       "secondary_cleaner.state.floatbank2_b_air      0.057053\n",
       "secondary_cleaner.state.floatbank2_b_level    0.000000\n",
       "secondary_cleaner.state.floatbank3_a_air      0.021395\n",
       "secondary_cleaner.state.floatbank3_a_level    0.000000\n",
       "secondary_cleaner.state.floatbank3_b_air      0.000000\n",
       "secondary_cleaner.state.floatbank3_b_level    0.000000\n",
       "secondary_cleaner.state.floatbank4_a_air      0.035658\n",
       "secondary_cleaner.state.floatbank4_a_level    0.000000\n",
       "secondary_cleaner.state.floatbank4_b_air      0.000000\n",
       "secondary_cleaner.state.floatbank4_b_level    0.000000\n",
       "secondary_cleaner.state.floatbank5_a_air      0.000000\n",
       "secondary_cleaner.state.floatbank5_a_level    0.000000\n",
       "secondary_cleaner.state.floatbank5_b_air      0.000000\n",
       "secondary_cleaner.state.floatbank5_b_level    0.000000\n",
       "secondary_cleaner.state.floatbank6_a_air      0.007132\n",
       "secondary_cleaner.state.floatbank6_a_level    0.000000\n",
       "dtype: float64"
      ]
     },
     "execution_count": 30,
     "metadata": {},
     "output_type": "execute_result"
    }
   ],
   "source": [
    "data_train[columns_state].isna().sum()*100/len(data_train)"
   ]
  },
  {
   "cell_type": "markdown",
   "id": "f216d912",
   "metadata": {},
   "source": [
    "Пропущенные данные - только в параметре air. "
   ]
  },
  {
   "cell_type": "code",
   "execution_count": 31,
   "id": "41726e47",
   "metadata": {},
   "outputs": [
    {
     "data": {
      "image/png": "[encoded data removed]",
      "text/plain": [
       "<Figure size 720x432 with 1 Axes>"
      ]
     },
     "metadata": {
      "needs_background": "light"
     },
     "output_type": "display_data"
    }
   ],
   "source": [
    "data_train['rougher.state.floatbank10_e_air'].plot.box(figsize=(10, 6));"
   ]
  },
  {
   "cell_type": "code",
   "execution_count": 32,
   "id": "c9ef88a6",
   "metadata": {},
   "outputs": [
    {
     "data": {
      "image/png": "[encoded data removed]",
      "text/plain": [
       "<Figure size 720x432 with 1 Axes>"
      ]
     },
     "metadata": {
      "needs_background": "light"
     },
     "output_type": "display_data"
    }
   ],
   "source": [
    "plt.figure(figsize=(10, 6))\n",
    "plt.scatter(data_train_slice['date'], data_train_slice['rougher.state.floatbank10_e_air'], label='rougher.state.floatbank10_e_air');"
   ]
  },
  {
   "cell_type": "markdown",
   "id": "dbe96408",
   "metadata": {},
   "source": [
    "Далеко не всегда соседние параметры близки. Учитывая, что пропущенных значений всего около 3 процентов, лучше их удалить."
   ]
  },
  {
   "cell_type": "code",
   "execution_count": 33,
   "id": "e57447b1",
   "metadata": {},
   "outputs": [],
   "source": [
    "data_train.dropna(subset=columns_state, inplace=True)"
   ]
  },
  {
   "cell_type": "code",
   "execution_count": 34,
   "id": "789a6060",
   "metadata": {},
   "outputs": [
    {
     "data": {
      "text/plain": [
       "primary_cleaner.state.floatbank8_a_air        0\n",
       "primary_cleaner.state.floatbank8_a_level      0\n",
       "primary_cleaner.state.floatbank8_b_air        0\n",
       "primary_cleaner.state.floatbank8_b_level      0\n",
       "primary_cleaner.state.floatbank8_c_air        0\n",
       "primary_cleaner.state.floatbank8_c_level      0\n",
       "primary_cleaner.state.floatbank8_d_air        0\n",
       "primary_cleaner.state.floatbank8_d_level      0\n",
       "rougher.state.floatbank10_a_air               0\n",
       "rougher.state.floatbank10_a_level             0\n",
       "rougher.state.floatbank10_b_air               0\n",
       "rougher.state.floatbank10_b_level             0\n",
       "rougher.state.floatbank10_c_air               0\n",
       "rougher.state.floatbank10_c_level             0\n",
       "rougher.state.floatbank10_d_air               0\n",
       "rougher.state.floatbank10_d_level             0\n",
       "rougher.state.floatbank10_e_air               0\n",
       "rougher.state.floatbank10_e_level             0\n",
       "rougher.state.floatbank10_f_air               0\n",
       "rougher.state.floatbank10_f_level             0\n",
       "secondary_cleaner.state.floatbank2_a_air      0\n",
       "secondary_cleaner.state.floatbank2_a_level    0\n",
       "secondary_cleaner.state.floatbank2_b_air      0\n",
       "secondary_cleaner.state.floatbank2_b_level    0\n",
       "secondary_cleaner.state.floatbank3_a_air      0\n",
       "secondary_cleaner.state.floatbank3_a_level    0\n",
       "secondary_cleaner.state.floatbank3_b_air      0\n",
       "secondary_cleaner.state.floatbank3_b_level    0\n",
       "secondary_cleaner.state.floatbank4_a_air      0\n",
       "secondary_cleaner.state.floatbank4_a_level    0\n",
       "secondary_cleaner.state.floatbank4_b_air      0\n",
       "secondary_cleaner.state.floatbank4_b_level    0\n",
       "secondary_cleaner.state.floatbank5_a_air      0\n",
       "secondary_cleaner.state.floatbank5_a_level    0\n",
       "secondary_cleaner.state.floatbank5_b_air      0\n",
       "secondary_cleaner.state.floatbank5_b_level    0\n",
       "secondary_cleaner.state.floatbank6_a_air      0\n",
       "secondary_cleaner.state.floatbank6_a_level    0\n",
       "dtype: int64"
      ]
     },
     "execution_count": 34,
     "metadata": {},
     "output_type": "execute_result"
    }
   ],
   "source": [
    "data_train[columns_state].isna().sum()"
   ]
  },
  {
   "cell_type": "markdown",
   "id": "b14f6b37",
   "metadata": {},
   "source": [
    "#### Предобработка output"
   ]
  },
  {
   "cell_type": "code",
   "execution_count": 35,
   "id": "722a3b73",
   "metadata": {},
   "outputs": [
    {
     "data": {
      "text/plain": [
       "['final.output.concentrate_ag',\n",
       " 'final.output.concentrate_pb',\n",
       " 'final.output.concentrate_sol',\n",
       " 'final.output.concentrate_au',\n",
       " 'final.output.recovery',\n",
       " 'final.output.tail_ag',\n",
       " 'final.output.tail_pb',\n",
       " 'final.output.tail_sol',\n",
       " 'final.output.tail_au',\n",
       " 'primary_cleaner.output.concentrate_ag',\n",
       " 'primary_cleaner.output.concentrate_pb',\n",
       " 'primary_cleaner.output.concentrate_sol',\n",
       " 'primary_cleaner.output.concentrate_au',\n",
       " 'primary_cleaner.output.tail_ag',\n",
       " 'primary_cleaner.output.tail_pb',\n",
       " 'primary_cleaner.output.tail_sol',\n",
       " 'primary_cleaner.output.tail_au',\n",
       " 'rougher.output.concentrate_ag',\n",
       " 'rougher.output.concentrate_pb',\n",
       " 'rougher.output.concentrate_sol',\n",
       " 'rougher.output.concentrate_au',\n",
       " 'rougher.output.recovery',\n",
       " 'rougher.output.tail_ag',\n",
       " 'rougher.output.tail_pb',\n",
       " 'rougher.output.tail_sol',\n",
       " 'rougher.output.tail_au',\n",
       " 'secondary_cleaner.output.tail_ag',\n",
       " 'secondary_cleaner.output.tail_pb',\n",
       " 'secondary_cleaner.output.tail_sol',\n",
       " 'secondary_cleaner.output.tail_au',\n",
       " 'rougher.output.recovery_calculated']"
      ]
     },
     "execution_count": 35,
     "metadata": {},
     "output_type": "execute_result"
    }
   ],
   "source": [
    "columns_output = []\n",
    "for col in data_train.columns:\n",
    "    if 'output' in col:\n",
    "        columns_output.append(col)\n",
    "columns_output"
   ]
  },
  {
   "cell_type": "code",
   "execution_count": 36,
   "id": "90bab24c",
   "metadata": {
    "scrolled": true
   },
   "outputs": [
    {
     "data": {
      "text/plain": [
       "final.output.concentrate_ag                0.007482\n",
       "final.output.concentrate_pb                0.007482\n",
       "final.output.concentrate_sol               1.503928\n",
       "final.output.concentrate_au                0.000000\n",
       "final.output.recovery                      0.000000\n",
       "final.output.tail_ag                       0.000000\n",
       "final.output.tail_pb                       0.748223\n",
       "final.output.tail_sol                      0.022447\n",
       "final.output.tail_au                       0.000000\n",
       "primary_cleaner.output.concentrate_ag      0.000000\n",
       "primary_cleaner.output.concentrate_pb      0.523756\n",
       "primary_cleaner.output.concentrate_sol     1.698466\n",
       "primary_cleaner.output.concentrate_au      0.000000\n",
       "primary_cleaner.output.tail_ag             0.007482\n",
       "primary_cleaner.output.tail_pb             0.112233\n",
       "primary_cleaner.output.tail_sol            0.299289\n",
       "primary_cleaner.output.tail_au             0.000000\n",
       "rougher.output.concentrate_ag              0.000000\n",
       "rougher.output.concentrate_pb              0.000000\n",
       "rougher.output.concentrate_sol             0.134680\n",
       "rougher.output.concentrate_au              0.000000\n",
       "rougher.output.recovery                    0.000000\n",
       "rougher.output.tail_ag                     0.007482\n",
       "rougher.output.tail_pb                     0.000000\n",
       "rougher.output.tail_sol                    0.000000\n",
       "rougher.output.tail_au                     0.000000\n",
       "secondary_cleaner.output.tail_ag           0.014964\n",
       "secondary_cleaner.output.tail_pb           0.074822\n",
       "secondary_cleaner.output.tail_sol         10.415264\n",
       "secondary_cleaner.output.tail_au           0.000000\n",
       "rougher.output.recovery_calculated         0.000000\n",
       "dtype: float64"
      ]
     },
     "execution_count": 36,
     "metadata": {},
     "output_type": "execute_result"
    }
   ],
   "source": [
    "data_train[columns_output].isna().sum()*100/len(data_train)"
   ]
  },
  {
   "cell_type": "markdown",
   "id": "344297b3",
   "metadata": {},
   "source": [
    "Ничего из output мы для машинного обучения не будем брать, потому что обязательно произойдет утечка признаков. Убедились, что в целевых параметрах - concentrat_au и tail_au - нет пропусков."
   ]
  },
  {
   "cell_type": "markdown",
   "id": "3b5b6ea1",
   "metadata": {},
   "source": [
    "#### Предобработка calculations"
   ]
  },
  {
   "cell_type": "code",
   "execution_count": 37,
   "id": "7eba1560",
   "metadata": {},
   "outputs": [
    {
     "data": {
      "text/plain": [
       "['rougher.calculation.sulfate_to_au_concentrate',\n",
       " 'rougher.calculation.floatbank10_sulfate_to_au_feed',\n",
       " 'rougher.calculation.floatbank11_sulfate_to_au_feed',\n",
       " 'rougher.calculation.au_pb_ratio',\n",
       " 'rougher.output.recovery_calculated']"
      ]
     },
     "execution_count": 37,
     "metadata": {},
     "output_type": "execute_result"
    }
   ],
   "source": [
    "columns_calculations = []\n",
    "for col in data_train.columns:\n",
    "    if 'calcul' in col:\n",
    "        columns_calculations.append(col)\n",
    "columns_calculations"
   ]
  },
  {
   "cell_type": "code",
   "execution_count": 38,
   "id": "e5dfb6f0",
   "metadata": {},
   "outputs": [
    {
     "data": {
      "text/plain": [
       "rougher.calculation.sulfate_to_au_concentrate         0\n",
       "rougher.calculation.floatbank10_sulfate_to_au_feed    0\n",
       "rougher.calculation.floatbank11_sulfate_to_au_feed    0\n",
       "rougher.calculation.au_pb_ratio                       0\n",
       "rougher.output.recovery_calculated                    0\n",
       "dtype: int64"
      ]
     },
     "execution_count": 38,
     "metadata": {},
     "output_type": "execute_result"
    }
   ],
   "source": [
    "data_train[columns_calculations].isna().sum()"
   ]
  },
  {
   "cell_type": "markdown",
   "id": "e37eb8ef",
   "metadata": {},
   "source": [
    "#### Обработаем признаки в тестовой выборке"
   ]
  },
  {
   "cell_type": "code",
   "execution_count": 39,
   "id": "718f5dda",
   "metadata": {},
   "outputs": [
    {
     "data": {
      "text/plain": [
       "date                                          0.000000\n",
       "primary_cleaner.input.sulfate                 0.029929\n",
       "primary_cleaner.input.depressant              0.037411\n",
       "primary_cleaner.input.feed_size               0.000000\n",
       "primary_cleaner.input.xanthate                0.029929\n",
       "primary_cleaner.state.floatbank8_a_air        0.000000\n",
       "primary_cleaner.state.floatbank8_a_level      0.000000\n",
       "primary_cleaner.state.floatbank8_b_air        0.000000\n",
       "primary_cleaner.state.floatbank8_b_level      0.000000\n",
       "primary_cleaner.state.floatbank8_c_air        0.000000\n",
       "primary_cleaner.state.floatbank8_c_level      0.000000\n",
       "primary_cleaner.state.floatbank8_d_air        0.000000\n",
       "primary_cleaner.state.floatbank8_d_level      0.000000\n",
       "rougher.input.feed_ag                         0.000000\n",
       "rougher.input.feed_pb                         0.000000\n",
       "rougher.input.feed_rate                       0.022447\n",
       "rougher.input.feed_size                       0.007482\n",
       "rougher.input.feed_sol                        0.157127\n",
       "rougher.input.feed_au                         0.000000\n",
       "rougher.input.floatbank10_sulfate             0.037411\n",
       "rougher.input.floatbank10_xanthate            0.000000\n",
       "rougher.input.floatbank11_sulfate             0.059858\n",
       "rougher.input.floatbank11_xanthate            0.187056\n",
       "rougher.state.floatbank10_a_air               0.000000\n",
       "rougher.state.floatbank10_a_level             0.000000\n",
       "rougher.state.floatbank10_b_air               0.000000\n",
       "rougher.state.floatbank10_b_level             0.000000\n",
       "rougher.state.floatbank10_c_air               0.000000\n",
       "rougher.state.floatbank10_c_level             0.000000\n",
       "rougher.state.floatbank10_d_air               0.000000\n",
       "rougher.state.floatbank10_d_level             0.000000\n",
       "rougher.state.floatbank10_e_air               0.000000\n",
       "rougher.state.floatbank10_e_level             0.000000\n",
       "rougher.state.floatbank10_f_air               0.000000\n",
       "rougher.state.floatbank10_f_level             0.000000\n",
       "secondary_cleaner.state.floatbank2_a_air      0.022447\n",
       "secondary_cleaner.state.floatbank2_a_level    0.000000\n",
       "secondary_cleaner.state.floatbank2_b_air      0.014964\n",
       "secondary_cleaner.state.floatbank2_b_level    0.000000\n",
       "secondary_cleaner.state.floatbank3_a_air      0.067340\n",
       "secondary_cleaner.state.floatbank3_a_level    0.000000\n",
       "secondary_cleaner.state.floatbank3_b_air      0.000000\n",
       "secondary_cleaner.state.floatbank3_b_level    0.000000\n",
       "secondary_cleaner.state.floatbank4_a_air      0.000000\n",
       "secondary_cleaner.state.floatbank4_a_level    0.000000\n",
       "secondary_cleaner.state.floatbank4_b_air      0.000000\n",
       "secondary_cleaner.state.floatbank4_b_level    0.000000\n",
       "secondary_cleaner.state.floatbank5_a_air      0.000000\n",
       "secondary_cleaner.state.floatbank5_a_level    0.000000\n",
       "secondary_cleaner.state.floatbank5_b_air      0.000000\n",
       "secondary_cleaner.state.floatbank5_b_level    0.000000\n",
       "secondary_cleaner.state.floatbank6_a_air      0.000000\n",
       "secondary_cleaner.state.floatbank6_a_level    0.000000\n",
       "dtype: float64"
      ]
     },
     "execution_count": 39,
     "metadata": {},
     "output_type": "execute_result"
    }
   ],
   "source": [
    "pd.set_option('display.max_rows', None)\n",
    "data_test.isna().sum()/len(data_train)*100"
   ]
  },
  {
   "cell_type": "markdown",
   "id": "76b6ff2b",
   "metadata": {},
   "source": [
    "Пропусков в тестовой выборке меньше 1 процента. Удаляем. "
   ]
  },
  {
   "cell_type": "code",
   "execution_count": 40,
   "id": "1f6a0c9e",
   "metadata": {},
   "outputs": [
    {
     "data": {
      "text/plain": [
       "date                                          0\n",
       "primary_cleaner.input.sulfate                 0\n",
       "primary_cleaner.input.depressant              0\n",
       "primary_cleaner.input.feed_size               0\n",
       "primary_cleaner.input.xanthate                0\n",
       "primary_cleaner.state.floatbank8_a_air        0\n",
       "primary_cleaner.state.floatbank8_a_level      0\n",
       "primary_cleaner.state.floatbank8_b_air        0\n",
       "primary_cleaner.state.floatbank8_b_level      0\n",
       "primary_cleaner.state.floatbank8_c_air        0\n",
       "primary_cleaner.state.floatbank8_c_level      0\n",
       "primary_cleaner.state.floatbank8_d_air        0\n",
       "primary_cleaner.state.floatbank8_d_level      0\n",
       "rougher.input.feed_ag                         0\n",
       "rougher.input.feed_pb                         0\n",
       "rougher.input.feed_rate                       0\n",
       "rougher.input.feed_size                       0\n",
       "rougher.input.feed_sol                        0\n",
       "rougher.input.feed_au                         0\n",
       "rougher.input.floatbank10_sulfate             0\n",
       "rougher.input.floatbank10_xanthate            0\n",
       "rougher.input.floatbank11_sulfate             0\n",
       "rougher.input.floatbank11_xanthate            0\n",
       "rougher.state.floatbank10_a_air               0\n",
       "rougher.state.floatbank10_a_level             0\n",
       "rougher.state.floatbank10_b_air               0\n",
       "rougher.state.floatbank10_b_level             0\n",
       "rougher.state.floatbank10_c_air               0\n",
       "rougher.state.floatbank10_c_level             0\n",
       "rougher.state.floatbank10_d_air               0\n",
       "rougher.state.floatbank10_d_level             0\n",
       "rougher.state.floatbank10_e_air               0\n",
       "rougher.state.floatbank10_e_level             0\n",
       "rougher.state.floatbank10_f_air               0\n",
       "rougher.state.floatbank10_f_level             0\n",
       "secondary_cleaner.state.floatbank2_a_air      0\n",
       "secondary_cleaner.state.floatbank2_a_level    0\n",
       "secondary_cleaner.state.floatbank2_b_air      0\n",
       "secondary_cleaner.state.floatbank2_b_level    0\n",
       "secondary_cleaner.state.floatbank3_a_air      0\n",
       "secondary_cleaner.state.floatbank3_a_level    0\n",
       "secondary_cleaner.state.floatbank3_b_air      0\n",
       "secondary_cleaner.state.floatbank3_b_level    0\n",
       "secondary_cleaner.state.floatbank4_a_air      0\n",
       "secondary_cleaner.state.floatbank4_a_level    0\n",
       "secondary_cleaner.state.floatbank4_b_air      0\n",
       "secondary_cleaner.state.floatbank4_b_level    0\n",
       "secondary_cleaner.state.floatbank5_a_air      0\n",
       "secondary_cleaner.state.floatbank5_a_level    0\n",
       "secondary_cleaner.state.floatbank5_b_air      0\n",
       "secondary_cleaner.state.floatbank5_b_level    0\n",
       "secondary_cleaner.state.floatbank6_a_air      0\n",
       "secondary_cleaner.state.floatbank6_a_level    0\n",
       "dtype: int64"
      ]
     },
     "execution_count": 40,
     "metadata": {},
     "output_type": "execute_result"
    }
   ],
   "source": [
    "data_test = data_test.dropna()\n",
    "data_test.isna().sum()"
   ]
  },
  {
   "cell_type": "markdown",
   "id": "93e1357b",
   "metadata": {},
   "source": [
    "### Вывод по разделу\n",
    "Проведена предобработка данных датасета data_train, данные готовы для анализа и построения модели."
   ]
  },
  {
   "cell_type": "markdown",
   "id": "217f20af",
   "metadata": {},
   "source": [
    "## Анализ данных"
   ]
  },
  {
   "cell_type": "markdown",
   "id": "53b4df29",
   "metadata": {},
   "source": [
    "### Изменение концентрации данных на различных этапах очистки"
   ]
  },
  {
   "cell_type": "code",
   "execution_count": 41,
   "id": "7cc37d28",
   "metadata": {},
   "outputs": [
    {
     "data": {
      "text/plain": [
       "['final.output.concentrate_ag',\n",
       " 'final.output.concentrate_pb',\n",
       " 'final.output.concentrate_sol',\n",
       " 'final.output.concentrate_au',\n",
       " 'final.output.recovery',\n",
       " 'final.output.tail_ag',\n",
       " 'final.output.tail_pb',\n",
       " 'final.output.tail_sol',\n",
       " 'final.output.tail_au',\n",
       " 'primary_cleaner.output.concentrate_ag',\n",
       " 'primary_cleaner.output.concentrate_pb',\n",
       " 'primary_cleaner.output.concentrate_sol',\n",
       " 'primary_cleaner.output.concentrate_au',\n",
       " 'primary_cleaner.output.tail_ag',\n",
       " 'primary_cleaner.output.tail_pb',\n",
       " 'primary_cleaner.output.tail_sol',\n",
       " 'primary_cleaner.output.tail_au',\n",
       " 'rougher.output.concentrate_ag',\n",
       " 'rougher.output.concentrate_pb',\n",
       " 'rougher.output.concentrate_sol',\n",
       " 'rougher.output.concentrate_au',\n",
       " 'rougher.output.recovery',\n",
       " 'rougher.output.tail_ag',\n",
       " 'rougher.output.tail_pb',\n",
       " 'rougher.output.tail_sol',\n",
       " 'rougher.output.tail_au',\n",
       " 'secondary_cleaner.output.tail_ag',\n",
       " 'secondary_cleaner.output.tail_pb',\n",
       " 'secondary_cleaner.output.tail_sol',\n",
       " 'secondary_cleaner.output.tail_au',\n",
       " 'rougher.output.recovery_calculated']"
      ]
     },
     "execution_count": 41,
     "metadata": {},
     "output_type": "execute_result"
    }
   ],
   "source": [
    "columns_output"
   ]
  },
  {
   "cell_type": "code",
   "execution_count": 42,
   "id": "5a6a6a5d",
   "metadata": {},
   "outputs": [
    {
     "data": {
      "image/png": "[encoded data removed]",
      "text/plain": [
       "<Figure size 720x432 with 1 Axes>"
      ]
     },
     "metadata": {
      "needs_background": "light"
     },
     "output_type": "display_data"
    }
   ],
   "source": [
    "plt.figure(figsize=(10,6))\n",
    "plt.hist(data_train['rougher.input.feed_au'], bins=50, label='Feed Au', alpha=0.5)\n",
    "plt.hist(data_train['primary_cleaner.output.concentrate_au'], bins=50, label='Primary output Au', alpha=0.5)\n",
    "plt.hist(data_train['rougher.output.concentrate_au'], bins=50, label='Rougher output Au', alpha=0.5)\n",
    "plt.hist(data_train['final.output.concentrate_au'], bins=50, label='Final output Au', alpha=0.5)\n",
    "plt.legend()\n",
    "plt.xlabel('Concentration')\n",
    "plt.title('Концентрация Au на разных этапах')\n",
    "plt.show()"
   ]
  },
  {
   "cell_type": "markdown",
   "id": "f9bf709f",
   "metadata": {},
   "source": [
    "На всех этапах есть аномалии в районе 0. Надо удалить данные, в которых концентрации меньше 10. "
   ]
  },
  {
   "cell_type": "code",
   "execution_count": 43,
   "id": "613aad88",
   "metadata": {},
   "outputs": [],
   "source": [
    "data_train = data_train[data_train['primary_cleaner.output.concentrate_au'] >= 10]\n",
    "data_train = data_train[data_train['rougher.output.concentrate_au'] >= 10]\n",
    "data_train = data_train[data_train['final.output.concentrate_au'] >= 10]"
   ]
  },
  {
   "cell_type": "code",
   "execution_count": 44,
   "id": "6130b77d",
   "metadata": {},
   "outputs": [
    {
     "data": {
      "image/png": "[encoded data removed]",
      "text/plain": [
       "<Figure size 720x432 with 1 Axes>"
      ]
     },
     "metadata": {
      "needs_background": "light"
     },
     "output_type": "display_data"
    }
   ],
   "source": [
    "plt.figure(figsize=(10,6))\n",
    "plt.hist(data_train['rougher.input.feed_au'], bins=50, label='Feed Au', alpha=0.5)\n",
    "plt.hist(data_train['primary_cleaner.output.concentrate_au'], bins=50, label='Primary output Au', alpha=0.5)\n",
    "plt.hist(data_train['rougher.output.concentrate_au'], bins=50, label='Rougher output Au', alpha=0.5)\n",
    "plt.hist(data_train['final.output.concentrate_au'], bins=50, label='Final output Au', alpha=0.5)\n",
    "plt.legend()\n",
    "plt.xlabel('Concentration')\n",
    "plt.title('Концентрация Au на разных этапах')\n",
    "plt.show()"
   ]
  },
  {
   "cell_type": "code",
   "execution_count": 45,
   "id": "d0815e21",
   "metadata": {},
   "outputs": [
    {
     "data": {
      "image/png": "[encoded data removed]",
      "text/plain": [
       "<Figure size 720x432 with 1 Axes>"
      ]
     },
     "metadata": {
      "needs_background": "light"
     },
     "output_type": "display_data"
    }
   ],
   "source": [
    "plt.figure(figsize=(10,6))\n",
    "plt.hist(data_train['rougher.input.feed_ag'], bins=50, label='Feed Ag', alpha=0.5)\n",
    "plt.hist(data_train['primary_cleaner.output.concentrate_ag'], bins=50, label='Primary output Ag', alpha=0.5)\n",
    "plt.hist(data_train['rougher.output.concentrate_ag'], bins=50, label='Rougher output Ag', alpha=0.5)\n",
    "plt.hist(data_train['final.output.concentrate_ag'], bins=50, label='Final output Ag', alpha=0.5)\n",
    "plt.legend()\n",
    "plt.xlabel('Concentration')\n",
    "plt.title('Концентрация Ag на разных этапах')\n",
    "plt.show()"
   ]
  },
  {
   "cell_type": "markdown",
   "id": "74cb776e",
   "metadata": {},
   "source": [
    "Концентрация серебра в сырье распределена менее однородно, чем в золоте. На каждом цикле концентрация уменьшается. "
   ]
  },
  {
   "cell_type": "code",
   "execution_count": 46,
   "id": "5a4085cd",
   "metadata": {},
   "outputs": [
    {
     "data": {
      "image/png": "[encoded data removed]",
      "text/plain": [
       "<Figure size 720x432 with 1 Axes>"
      ]
     },
     "metadata": {
      "needs_background": "light"
     },
     "output_type": "display_data"
    }
   ],
   "source": [
    "plt.figure(figsize=(10,6))\n",
    "plt.hist(data_train['rougher.input.feed_pb'], bins=50, label='Feed Pb', alpha=0.5)\n",
    "plt.hist(data_train['primary_cleaner.output.concentrate_pb'], bins=50, label='Primary output Pb', alpha=0.5)\n",
    "plt.hist(data_train['rougher.output.concentrate_pb'], bins=50, label='Rougher output Pb', alpha=0.5)\n",
    "plt.hist(data_train['final.output.concentrate_pb'], bins=50, label='Final output Pb', alpha=0.5)\n",
    "plt.legend()\n",
    "plt.xlabel('Concentration')\n",
    "plt.title('Концентрация Pb на разных этапах')\n",
    "plt.show()"
   ]
  },
  {
   "cell_type": "markdown",
   "id": "e6668cf3",
   "metadata": {},
   "source": [
    "Приключения концентрации свинца менее очевидны, но аномалий никаких не видно. "
   ]
  },
  {
   "cell_type": "markdown",
   "id": "1d08d0ed",
   "metadata": {},
   "source": [
    "Золота и свинца чем дальше по технологической цепочке, тем больше. А концентрация серебра, наоборот, уменьшается с каждым циклом очистки."
   ]
  },
  {
   "cell_type": "code",
   "execution_count": 47,
   "id": "e9ed8d14",
   "metadata": {},
   "outputs": [
    {
     "data": {
      "text/plain": [
       "final.output.concentrate_pb              10.211786\n",
       "primary_cleaner.output.concentrate_pb     9.708389\n",
       "rougher.output.concentrate_pb             7.867019\n",
       "dtype: float64"
      ]
     },
     "execution_count": 47,
     "metadata": {},
     "output_type": "execute_result"
    }
   ],
   "source": [
    "data_train[['rougher.output.concentrate_pb', 'primary_cleaner.output.concentrate_pb', 'final.output.concentrate_pb']].mean().sort_values(ascending=False)"
   ]
  },
  {
   "cell_type": "markdown",
   "id": "6c2fb3ee",
   "metadata": {},
   "source": [
    "### Распределения размеров гранул сырья на обучающей и тестовой выборках"
   ]
  },
  {
   "cell_type": "code",
   "execution_count": 48,
   "id": "498fa0f7",
   "metadata": {},
   "outputs": [
    {
     "data": {
      "image/png": "[encoded data removed]",
      "text/plain": [
       "<Figure size 720x432 with 1 Axes>"
      ]
     },
     "metadata": {
      "needs_background": "light"
     },
     "output_type": "display_data"
    }
   ],
   "source": [
    "fig, ax = plt.subplots(figsize=(10, 6))\n",
    "\n",
    "sns.kdeplot(data_train['rougher.input.feed_size'], ax=ax, label='Обучающая выборка', color='blue')\n",
    "\n",
    "sns.kdeplot(data_test['rougher.input.feed_size'], ax=ax, label='Тестовая выборка', color='red')\n",
    "\n",
    "ax.set_title('Распределение гранул сырья на стадии rougher для трериновочной и тестовой выборок')\n",
    "ax.set_xlabel('Размер гранул сырья')\n",
    "ax.set_ylabel('Плотность вероятности')\n",
    "ax.legend()\n",
    "\n",
    "plt.show()"
   ]
  },
  {
   "cell_type": "code",
   "execution_count": 49,
   "id": "1718d0a0",
   "metadata": {},
   "outputs": [
    {
     "data": {
      "image/png": "[encoded data removed]",
      "text/plain": [
       "<Figure size 720x432 with 1 Axes>"
      ]
     },
     "metadata": {
      "needs_background": "light"
     },
     "output_type": "display_data"
    }
   ],
   "source": [
    "fig, ax = plt.subplots(figsize=(10, 6))\n",
    "\n",
    "sns.kdeplot(data_train['primary_cleaner.input.feed_size'], ax=ax, label='Обучающая выборка', color='blue')\n",
    "\n",
    "sns.kdeplot(data_test['primary_cleaner.input.feed_size'], ax=ax, label='Тестовая выборка', color='red')\n",
    "\n",
    "ax.set_title('Распределение гранул сырья на этапе primary cleaner для трериновочной и тестовой выборок')\n",
    "ax.set_xlabel('Размер гранул сырья')\n",
    "ax.set_ylabel('Плотность вероятности')\n",
    "ax.legend()\n",
    "\n",
    "plt.show()"
   ]
  },
  {
   "cell_type": "markdown",
   "id": "3c1f8d05",
   "metadata": {},
   "source": [
    "### Cуммарная концентрация всех веществ на разных стадиях"
   ]
  },
  {
   "cell_type": "code",
   "execution_count": 50,
   "id": "e25f383d",
   "metadata": {},
   "outputs": [],
   "source": [
    "data_train['rougher.calculation.input_concentrate'] = (data_train['rougher.input.feed_au'] + \n",
    "                                                       data_train['rougher.input.feed_ag'] +\n",
    "                                                       data_train['rougher.input.feed_pb'] + \n",
    "                                                       data_train['rougher.input.feed_sol'])\n",
    "\n",
    "rougher_output_concentrate_cols = [col for col in data_train.columns if 'rougher.output.concentrate_' in col]\n",
    "data_train['rougher.calculation.output_concentrate'] = data_train[rougher_output_concentrate_cols].sum(axis=1)\n",
    "\n",
    "final_output_concentrate_cols = [col for col in data_train.columns if 'final.output.concentrate_' in col]\n",
    "data_train['final.calculation.output_concentrate'] = data_train[final_output_concentrate_cols].sum(axis=1)\n"
   ]
  },
  {
   "cell_type": "code",
   "execution_count": 51,
   "id": "f5bdca76",
   "metadata": {
    "scrolled": true
   },
   "outputs": [
    {
     "name": "stdout",
     "output_type": "stream",
     "text": [
      "Средняя концентрация веществ в сырье: 56.27804802410525\n",
      "Средняя концентрация веществ в черновом концентрате: 68.86157750204784\n",
      "Средняя концентрация веществ в финальном концентрате: 68.85732891292139\n"
     ]
    }
   ],
   "source": [
    "print('Средняя концентрация веществ в сырье:', data_train['rougher.calculation.input_concentrate'].mean())\n",
    "print('Средняя концентрация веществ в черновом концентрате:', data_train['rougher.calculation.output_concentrate'].mean())\n",
    "print('Средняя концентрация веществ в финальном концентрате:', data_train['final.calculation.output_concentrate'].mean())"
   ]
  },
  {
   "cell_type": "code",
   "execution_count": 52,
   "id": "d0848442",
   "metadata": {},
   "outputs": [
    {
     "data": {
      "image/png": "[encoded data removed]",
      "text/plain": [
       "<Figure size 720x432 with 1 Axes>"
      ]
     },
     "metadata": {
      "needs_background": "light"
     },
     "output_type": "display_data"
    }
   ],
   "source": [
    "plt.figure(figsize=(10,6))\n",
    "plt.hist(data_train['rougher.calculation.input_concentrate'], bins=50, label='Концентрация на входе', alpha=0.5)\n",
    "plt.hist(data_train['rougher.calculation.output_concentrate'], bins=50, label='Концентрация после rougher', alpha=0.5)\n",
    "plt.hist(data_train['final.calculation.output_concentrate'], bins=50, label='Концентрация на выходе', alpha=0.5)\n",
    "plt.legend()\n",
    "plt.title('Концентрации металлов на разных стадиях')\n",
    "plt.show()"
   ]
  },
  {
   "cell_type": "markdown",
   "id": "da58b42b",
   "metadata": {},
   "source": [
    "Концентрация веществ в сырье меньше, чем в концентратах. "
   ]
  },
  {
   "cell_type": "markdown",
   "id": "7be08f89",
   "metadata": {},
   "source": [
    "## Вывод по разделу\n",
    "\n",
    "Общая онцентрация веществ в сырье меньше, чем в концентратах. Концентрация золота по мере прохождения технологической цепочки последовательно растет. Обнаружены и устранены аномалии в данных по концентрации золота. Исследование распределение размеров гранул сырья не выявило аномалий. "
   ]
  },
  {
   "cell_type": "markdown",
   "id": "5b0f76bc",
   "metadata": {},
   "source": [
    "## Моделирование"
   ]
  },
  {
   "cell_type": "markdown",
   "id": "a7c2021d",
   "metadata": {},
   "source": [
    "### Функция для вычисления итоговой sMAPE"
   ]
  },
  {
   "cell_type": "code",
   "execution_count": 1,
   "id": "d4f8e7a6",
   "metadata": {},
   "outputs": [],
   "source": [
    "def get_smape(target, predictions):\n",
    "    smape = 0\n",
    "    for i in range(len(target)):\n",
    "        smape += 2 * abs(target.iloc[i] - predictions[i]) / (abs(target.iloc[i]) + abs(predictions[i]))\n",
    "    smape = 100 * smape / len(target)\n",
    "    return smape\n",
    "\n",
    "def get_total_smape(rougher, final):\n",
    "    total_smape = 0.25*rougher + 0.75*final\n",
    "    return total_smape"
   ]
  },
  {
   "cell_type": "markdown",
   "id": "31e8c9dc",
   "metadata": {},
   "source": [
    "### Применяем модели"
   ]
  },
  {
   "cell_type": "markdown",
   "id": "617378ec",
   "metadata": {},
   "source": [
    "#### Выделим параметры и целевые параметры"
   ]
  },
  {
   "cell_type": "markdown",
   "id": "1e4839b4",
   "metadata": {},
   "source": [
    "Выделим несколько возможных вариантов наборов параметров features"
   ]
  },
  {
   "cell_type": "code",
   "execution_count": 54,
   "id": "e5adc0cc",
   "metadata": {},
   "outputs": [
    {
     "name": "stdout",
     "output_type": "stream",
     "text": [
      "features 12788\n",
      "target_rougher 12788\n",
      "target_final 12788\n"
     ]
    }
   ],
   "source": [
    "features = data_train.filter(regex='(rougher\\.input\\.feed)')\n",
    "print('features', len(features))\n",
    "target_rougher = data_train['rougher.output.recovery']\n",
    "print('target_rougher', len(target_rougher))\n",
    "target_final = data_train['final.output.recovery']\n",
    "print('target_final', len(target_final))"
   ]
  },
  {
   "cell_type": "code",
   "execution_count": 55,
   "id": "9099c434",
   "metadata": {},
   "outputs": [],
   "source": [
    "scaler = StandardScaler()\n",
    "scaler.fit(features)\n",
    "features = scaler.transform(features)"
   ]
  },
  {
   "cell_type": "markdown",
   "id": "d6598c1e",
   "metadata": {},
   "source": [
    "#### Кросс-валидация"
   ]
  },
  {
   "cell_type": "markdown",
   "id": "027428d0",
   "metadata": {},
   "source": [
    "Напишем функцию, которая для заданного датафрейма, модели, features, target_rougher и target_final посчитает показатель sMAPE на кросс-валидации. "
   ]
  },
  {
   "cell_type": "code",
   "execution_count": 56,
   "id": "f7a17a2e",
   "metadata": {},
   "outputs": [],
   "source": [
    "def crossvalid_score(model, features, target_rougher, target_final):\n",
    "    \n",
    "    scorer = make_scorer(get_smape, greater_is_better=False)\n",
    "\n",
    "    # Cross-validate for target_rougher\n",
    "    rougher_scores = cross_val_score(model, features, target_rougher, cv=5, scoring=scorer)\n",
    "\n",
    "    # Cross-validate for target_final\n",
    "    final_scores = cross_val_score(model, features, target_final, cv=5, scoring=scorer)\n",
    "\n",
    "    # Calculate total smape\n",
    "    total_smape = get_total_smape(rougher_scores.mean(), final_scores.mean())\n",
    "    \n",
    "    print(-total_smape)\n",
    "    \n",
    "    return -total_smape"
   ]
  },
  {
   "cell_type": "markdown",
   "id": "4244fd3e",
   "metadata": {},
   "source": [
    "#### Применим функцию для моделей регрессии в библиотеке sklearn"
   ]
  },
  {
   "cell_type": "code",
   "execution_count": 57,
   "id": "d7307461",
   "metadata": {
    "scrolled": true
   },
   "outputs": [
    {
     "name": "stdout",
     "output_type": "stream",
     "text": [
      "8.402377669766217\n",
      "CPU times: user 1.03 s, sys: 894 ms, total: 1.92 s\n",
      "Wall time: 1.87 s\n"
     ]
    }
   ],
   "source": [
    "%%time\n",
    "model = LinearRegression()\n",
    "linear_regression_score = crossvalid_score(model, features, target_rougher, target_final)"
   ]
  },
  {
   "cell_type": "code",
   "execution_count": 58,
   "id": "b6b22cd3",
   "metadata": {},
   "outputs": [
    {
     "name": "stdout",
     "output_type": "stream",
     "text": [
      "7.895848068403517\n",
      "CPU times: user 22.3 s, sys: 6.15 ms, total: 22.3 s\n",
      "Wall time: 22.5 s\n"
     ]
    }
   ],
   "source": [
    "%%time\n",
    "model = GradientBoostingRegressor(random_state=12345)\n",
    "GradientBoostingRegressor_score = crossvalid_score(model, features, target_rougher, target_final)"
   ]
  },
  {
   "cell_type": "code",
   "execution_count": 59,
   "id": "7bf9c01b",
   "metadata": {},
   "outputs": [
    {
     "name": "stdout",
     "output_type": "stream",
     "text": [
      "8.398939810880147\n",
      "CPU times: user 1.12 s, sys: 824 ms, total: 1.95 s\n",
      "Wall time: 1.95 s\n"
     ]
    }
   ],
   "source": [
    "%%time\n",
    "model = SGDRegressor(random_state=12345)\n",
    "SGDRegressor_score = crossvalid_score(model, features, target_rougher, target_final)"
   ]
  },
  {
   "cell_type": "code",
   "execution_count": 60,
   "id": "696c7585",
   "metadata": {},
   "outputs": [
    {
     "name": "stdout",
     "output_type": "stream",
     "text": [
      "7.929982936482739\n",
      "CPU times: user 54.3 s, sys: 1.37 s, total: 55.7 s\n",
      "Wall time: 55.7 s\n"
     ]
    }
   ],
   "source": [
    "%%time\n",
    "model = SVR()\n",
    "SVR_score = crossvalid_score(model, features, target_rougher, target_final)"
   ]
  },
  {
   "cell_type": "code",
   "execution_count": 61,
   "id": "551e61a1",
   "metadata": {},
   "outputs": [
    {
     "name": "stdout",
     "output_type": "stream",
     "text": [
      "8.293532562052011\n",
      "CPU times: user 1.29 s, sys: 1.47 s, total: 2.76 s\n",
      "Wall time: 2.76 s\n"
     ]
    }
   ],
   "source": [
    "%%time\n",
    "model = ElasticNet(random_state=12345)\n",
    "ElasticNet_score = crossvalid_score(model, features, target_rougher, target_final)"
   ]
  },
  {
   "cell_type": "code",
   "execution_count": 62,
   "id": "f801be65",
   "metadata": {},
   "outputs": [
    {
     "name": "stdout",
     "output_type": "stream",
     "text": [
      "8.39824960336761\n",
      "CPU times: user 1.42 s, sys: 1.25 s, total: 2.67 s\n",
      "Wall time: 2.69 s\n"
     ]
    }
   ],
   "source": [
    "%%time\n",
    "model = BayesianRidge()\n",
    "BayesianRidge_score = crossvalid_score(model, features, target_rougher, target_final)"
   ]
  },
  {
   "cell_type": "markdown",
   "id": "ecc235d0",
   "metadata": {},
   "source": [
    "Лучший результат получен для модели ElasticNet. Займемся оптимизацией ее гиперпараметров."
   ]
  },
  {
   "cell_type": "code",
   "execution_count": 63,
   "id": "1663c9e8",
   "metadata": {},
   "outputs": [
    {
     "name": "stdout",
     "output_type": "stream",
     "text": [
      "Гиперпараметры для target_rougher:  {'alpha': 0.1, 'l1_ratio': 0.1}\n",
      "sMAPE для target_rougher:  6.4619456873266525\n",
      "Гиперпараметры для target_final:  {'alpha': 1, 'l1_ratio': 0.1}\n",
      "sMAPE для target_final:  8.798041670842162\n"
     ]
    }
   ],
   "source": [
    "model = ElasticNet(random_state=12345)\n",
    "\n",
    "scorer =  make_scorer(get_smape, greater_is_better=False)\n",
    "\n",
    "param_grid = {'alpha': [0.1, 1, 10],\n",
    "              'l1_ratio': [0.1, 0.5, 0.9]}\n",
    "\n",
    "grid_search_r = GridSearchCV(model, param_grid, cv=5, scoring=scorer)\n",
    "\n",
    "grid_search_r.fit(features, target_rougher)\n",
    "\n",
    "print(\"Гиперпараметры для target_rougher: \", grid_search_r.best_params_)\n",
    "print('sMAPE для target_rougher: ', -grid_search_r.best_score_)\n",
    "\n",
    "grid_search_f.fit(features, target_final)\n",
    "print(\"Гиперпараметры для target_final: \", grid_search_f.best_params_)\n",
    "print('sMAPE для target_final: ', -grid_search_f.best_score_)"
   ]
  },
  {
   "cell_type": "code",
   "execution_count": 64,
   "id": "9e3e8261",
   "metadata": {},
   "outputs": [
    {
     "data": {
      "text/plain": [
       "8.214017674963285"
      ]
     },
     "execution_count": 64,
     "metadata": {},
     "output_type": "execute_result"
    }
   ],
   "source": [
    "get_total_smape(-grid_search_r.best_score_, -grid_search_f.best_score_)"
   ]
  },
  {
   "cell_type": "markdown",
   "id": "2777813e",
   "metadata": {},
   "source": [
    "### Применим к тестовому датасету"
   ]
  },
  {
   "cell_type": "markdown",
   "id": "81f21ca3",
   "metadata": {},
   "source": [
    "#### Применяем оптимизированную модель для получения предсказаний"
   ]
  },
  {
   "cell_type": "code",
   "execution_count": 64,
   "id": "fa34d8f9",
   "metadata": {},
   "outputs": [],
   "source": [
    "features_test = data_test.filter(regex='(rougher\\.input\\.feed)')\n",
    "features_test = scaler.transform(features_test)"
   ]
  },
  {
   "cell_type": "code",
   "execution_count": 65,
   "id": "fbdfb69d",
   "metadata": {},
   "outputs": [
    {
     "data": {
      "text/plain": [
       "(5229, 6)"
      ]
     },
     "execution_count": 65,
     "metadata": {},
     "output_type": "execute_result"
    }
   ],
   "source": [
    "features_test.shape"
   ]
  },
  {
   "cell_type": "code",
   "execution_count": 66,
   "id": "78bc46cb",
   "metadata": {},
   "outputs": [
    {
     "data": {
      "text/plain": [
       "array([95.00583757, 94.33692922, 94.98338945, ..., 90.80093873,\n",
       "       91.10878899, 89.85263586])"
      ]
     },
     "execution_count": 66,
     "metadata": {},
     "output_type": "execute_result"
    }
   ],
   "source": [
    "model = ElasticNet(random_state=12345, alpha=0.1, l1_ratio=0.1)\n",
    "model.fit(features, target_rougher)\n",
    "predictions_rougher_test = model.predict(features_test)\n",
    "predictions_rougher_test"
   ]
  },
  {
   "cell_type": "code",
   "execution_count": 67,
   "id": "de79518e",
   "metadata": {},
   "outputs": [
    {
     "data": {
      "text/plain": [
       "array([73.40015024, 73.06248169, 73.46905018, ..., 70.99770705,\n",
       "       71.06274492, 70.46675849])"
      ]
     },
     "execution_count": 67,
     "metadata": {},
     "output_type": "execute_result"
    }
   ],
   "source": [
    "model = ElasticNet(random_state=12345, alpha=1, l1_ratio=0.5)\n",
    "model.fit(features, target_final)\n",
    "predictions_final_test = model.predict(features_test)\n",
    "predictions_final_test"
   ]
  },
  {
   "cell_type": "markdown",
   "id": "f4cc0934",
   "metadata": {},
   "source": [
    "#### Считаем sMAPE"
   ]
  },
  {
   "cell_type": "code",
   "execution_count": 68,
   "id": "ec086d02",
   "metadata": {},
   "outputs": [],
   "source": [
    "# Получим целевые значения из полного датасета\n",
    "data_test['date'] = pd.to_datetime(data_test['date'])\n",
    "data_full['date'] = pd.to_datetime(data_full['date'])\n",
    "data_test_target = pd.merge(data_test, data_full[['date', 'rougher.output.recovery', 'final.output.recovery']], on='date')\n",
    "#data_test_target.head(10)"
   ]
  },
  {
   "cell_type": "code",
   "execution_count": 69,
   "id": "af14d227",
   "metadata": {},
   "outputs": [
    {
     "name": "stdout",
     "output_type": "stream",
     "text": [
      "features_test 5229\n",
      "target_test_rougher 5229\n",
      "target_test_final 5229\n"
     ]
    }
   ],
   "source": [
    "# Выделим ответы\n",
    "target_test_rougher = data_test_target['rougher.output.recovery']\n",
    "target_test_final = data_test_target['final.output.recovery']\n",
    "\n",
    "print('features_test', len(features_test))\n",
    "print('target_test_rougher', len(target_test_rougher))\n",
    "print('target_test_final', len(target_test_final))"
   ]
  },
  {
   "cell_type": "code",
   "execution_count": 78,
   "id": "be039d1b",
   "metadata": {},
   "outputs": [
    {
     "name": "stdout",
     "output_type": "stream",
     "text": [
      "Метрика для rougher 7.596738954044708\n"
     ]
    }
   ],
   "source": [
    "predictions_rougher_test = pd.Series(predictions_rougher_test)\n",
    "smape_rougher_test = get_smape(target_test_rougher, predictions_rougher_test)\n",
    "print('Метрика для rougher', smape_rougher_test)"
   ]
  },
  {
   "cell_type": "code",
   "execution_count": 79,
   "id": "15441713",
   "metadata": {},
   "outputs": [
    {
     "name": "stdout",
     "output_type": "stream",
     "text": [
      "Метрика для final 8.542063247310884\n"
     ]
    }
   ],
   "source": [
    "predictions_final_test = pd.Series(predictions_final_test)\n",
    "smape_final_test = get_smape(target_test_final, predictions_final_test)\n",
    "print('Метрика для final', smape_final_test)"
   ]
  },
  {
   "cell_type": "code",
   "execution_count": 80,
   "id": "7e7a07fb",
   "metadata": {},
   "outputs": [
    {
     "name": "stdout",
     "output_type": "stream",
     "text": [
      "Общяя метрика 8.30573217399434\n"
     ]
    }
   ],
   "source": [
    "total_smape = get_total_smape(smape_rougher_test, smape_final_test)\n",
    "print('Общяя метрика', total_smape)"
   ]
  },
  {
   "cell_type": "markdown",
   "id": "335485f9",
   "metadata": {},
   "source": [
    "#### Предсказание средним"
   ]
  },
  {
   "cell_type": "code",
   "execution_count": 73,
   "id": "eeeb576f",
   "metadata": {},
   "outputs": [],
   "source": [
    "prediction_rougher_test_mean = pd.Series(target_rougher.mean(), index=predictions_rougher_test.index)"
   ]
  },
  {
   "cell_type": "code",
   "execution_count": 74,
   "id": "6593f096",
   "metadata": {},
   "outputs": [],
   "source": [
    "prediction_final_test_mean = pd.Series(target_final.mean(), index=predictions_rougher_test.index)"
   ]
  },
  {
   "cell_type": "code",
   "execution_count": 85,
   "id": "dfddfbb1",
   "metadata": {},
   "outputs": [
    {
     "data": {
      "text/plain": [
       "8.987808242389166"
      ]
     },
     "execution_count": 85,
     "metadata": {},
     "output_type": "execute_result"
    }
   ],
   "source": [
    "mean_rougher_smape = get_smape(target_test_rougher, prediction_rougher_test_mean)\n",
    "mean_rougher_smape"
   ]
  },
  {
   "cell_type": "code",
   "execution_count": 86,
   "id": "8e664811",
   "metadata": {},
   "outputs": [
    {
     "data": {
      "text/plain": [
       "9.620524511417443"
      ]
     },
     "execution_count": 86,
     "metadata": {},
     "output_type": "execute_result"
    }
   ],
   "source": [
    "mean_final_smape = get_smape(target_test_final, prediction_final_test_mean)\n",
    "mean_final_smape"
   ]
  },
  {
   "cell_type": "code",
   "execution_count": 87,
   "id": "f1d63cb3",
   "metadata": {},
   "outputs": [
    {
     "data": {
      "text/plain": [
       "9.462345444160373"
      ]
     },
     "execution_count": 87,
     "metadata": {},
     "output_type": "execute_result"
    }
   ],
   "source": [
    "total_smape_rougher = get_total_smape(mean_rougher_smape, mean_final_smape)\n",
    "total_smape_rougher"
   ]
  },
  {
   "cell_type": "code",
   "execution_count": null,
   "id": "9ff8c685",
   "metadata": {},
   "outputs": [],
   "source": [
    "print('Эффективность предсказания повышается на', total_smape_rougher - )"
   ]
  },
  {
   "cell_type": "markdown",
   "id": "6c8d0a87",
   "metadata": {},
   "source": [
    "# Общий вывод\n",
    "\n",
    "Исследованы модели, которые на основе качества входного сырья определяет эффективность очистки золота. Модель ElasticNet из библиотеки sklearn позволяет получать показатели с низкой метрикой ошибки при сравнительно быстрой работе. Для данной модели проведена оптимизаци гиперпараметров, получены оптимальные гиперпараметры для предсказания эффективности очистки золота на разничных этапах. Метрика ошибки для предсказаний, полученных на тестовой выборке для оптимизированной модели, оказалась на 1,5 процента ниже, чем метрика для референсной модели, предсказывающей средним значением. "
   ]
  }
 ],
 "metadata": {
  "ExecuteTimeLog": [
   {
    "duration": 52,
    "start_time": "2023-04-20T14:26:29.407Z"
   },
   {
    "duration": 1554,
    "start_time": "2023-04-20T14:26:35.018Z"
   },
   {
    "duration": 2384,
    "start_time": "2023-04-20T14:26:36.581Z"
   },
   {
    "duration": 32,
    "start_time": "2023-04-20T14:26:38.971Z"
   },
   {
    "duration": 18,
    "start_time": "2023-04-20T14:26:39.005Z"
   },
   {
    "duration": 30,
    "start_time": "2023-04-20T14:26:39.025Z"
   },
   {
    "duration": 52,
    "start_time": "2023-04-20T14:26:39.057Z"
   },
   {
    "duration": 19,
    "start_time": "2023-04-20T14:26:39.111Z"
   },
   {
    "duration": 25,
    "start_time": "2023-04-20T14:26:39.132Z"
   },
   {
    "duration": 19,
    "start_time": "2023-04-20T14:26:39.159Z"
   },
   {
    "duration": 8,
    "start_time": "2023-04-20T14:26:39.180Z"
   },
   {
    "duration": 28,
    "start_time": "2023-04-20T14:26:39.190Z"
   },
   {
    "duration": 9,
    "start_time": "2023-04-20T14:26:39.219Z"
   },
   {
    "duration": 8,
    "start_time": "2023-04-20T14:26:39.230Z"
   },
   {
    "duration": 23,
    "start_time": "2023-04-20T14:26:39.239Z"
   },
   {
    "duration": 38,
    "start_time": "2023-04-20T14:26:39.267Z"
   },
   {
    "duration": 287,
    "start_time": "2023-04-20T14:26:39.306Z"
   },
   {
    "duration": 298,
    "start_time": "2023-04-20T14:27:09.736Z"
   },
   {
    "duration": 328,
    "start_time": "2023-04-20T14:27:32.424Z"
   },
   {
    "duration": 333,
    "start_time": "2023-04-20T14:28:05.394Z"
   },
   {
    "duration": 372,
    "start_time": "2023-04-20T14:28:34.114Z"
   },
   {
    "duration": 10,
    "start_time": "2023-04-20T14:30:07.922Z"
   },
   {
    "duration": 71,
    "start_time": "2023-04-20T14:30:14.651Z"
   },
   {
    "duration": 5,
    "start_time": "2023-04-20T14:30:41.435Z"
   },
   {
    "duration": 809,
    "start_time": "2023-04-20T14:30:41.442Z"
   },
   {
    "duration": 32,
    "start_time": "2023-04-20T14:30:42.253Z"
   },
   {
    "duration": 17,
    "start_time": "2023-04-20T14:30:42.287Z"
   },
   {
    "duration": 17,
    "start_time": "2023-04-20T14:30:42.306Z"
   },
   {
    "duration": 13,
    "start_time": "2023-04-20T14:30:42.324Z"
   },
   {
    "duration": 38,
    "start_time": "2023-04-20T14:30:42.363Z"
   },
   {
    "duration": 17,
    "start_time": "2023-04-20T14:30:42.402Z"
   },
   {
    "duration": 9,
    "start_time": "2023-04-20T14:30:42.421Z"
   },
   {
    "duration": 9,
    "start_time": "2023-04-20T14:30:42.431Z"
   },
   {
    "duration": 18,
    "start_time": "2023-04-20T14:30:42.464Z"
   },
   {
    "duration": 10,
    "start_time": "2023-04-20T14:30:42.484Z"
   },
   {
    "duration": 5,
    "start_time": "2023-04-20T14:30:42.495Z"
   },
   {
    "duration": 7,
    "start_time": "2023-04-20T14:30:42.502Z"
   },
   {
    "duration": 22,
    "start_time": "2023-04-20T14:30:42.510Z"
   },
   {
    "duration": 352,
    "start_time": "2023-04-20T14:30:42.533Z"
   },
   {
    "duration": 305,
    "start_time": "2023-04-20T14:30:42.887Z"
   },
   {
    "duration": 10,
    "start_time": "2023-04-20T14:30:43.195Z"
   },
   {
    "duration": 583,
    "start_time": "2023-04-20T14:30:43.207Z"
   },
   {
    "duration": 6,
    "start_time": "2023-04-20T14:30:43.794Z"
   },
   {
    "duration": 459,
    "start_time": "2023-04-20T14:30:43.801Z"
   },
   {
    "duration": 34,
    "start_time": "2023-04-20T14:30:44.262Z"
   },
   {
    "duration": 8,
    "start_time": "2023-04-20T14:30:44.298Z"
   },
   {
    "duration": 14,
    "start_time": "2023-04-20T14:30:44.308Z"
   },
   {
    "duration": 280,
    "start_time": "2023-04-20T14:30:44.323Z"
   },
   {
    "duration": 693,
    "start_time": "2023-04-20T14:30:44.605Z"
   },
   {
    "duration": 6,
    "start_time": "2023-04-20T14:30:45.300Z"
   },
   {
    "duration": 12,
    "start_time": "2023-04-20T14:30:45.307Z"
   },
   {
    "duration": 4,
    "start_time": "2023-04-20T14:30:45.322Z"
   },
   {
    "duration": 33,
    "start_time": "2023-04-20T14:30:45.328Z"
   },
   {
    "duration": 154,
    "start_time": "2023-04-20T14:30:45.369Z"
   },
   {
    "duration": 212,
    "start_time": "2023-04-20T14:30:45.525Z"
   },
   {
    "duration": 9,
    "start_time": "2023-04-20T14:30:45.738Z"
   },
   {
    "duration": 41,
    "start_time": "2023-04-20T14:30:45.749Z"
   },
   {
    "duration": 6,
    "start_time": "2023-04-20T14:30:45.792Z"
   },
   {
    "duration": 21,
    "start_time": "2023-04-20T14:30:45.800Z"
   },
   {
    "duration": 16,
    "start_time": "2023-04-20T14:30:45.823Z"
   },
   {
    "duration": 43,
    "start_time": "2023-04-20T14:30:45.840Z"
   },
   {
    "duration": 43,
    "start_time": "2023-04-20T14:30:45.885Z"
   },
   {
    "duration": 48,
    "start_time": "2023-04-20T14:30:45.930Z"
   },
   {
    "duration": 33,
    "start_time": "2023-04-20T14:30:45.980Z"
   },
   {
    "duration": 582,
    "start_time": "2023-04-20T14:30:46.015Z"
   },
   {
    "duration": 14,
    "start_time": "2023-04-20T14:30:46.599Z"
   },
   {
    "duration": 644,
    "start_time": "2023-04-20T14:30:46.615Z"
   },
   {
    "duration": 632,
    "start_time": "2023-04-20T14:30:47.262Z"
   },
   {
    "duration": 533,
    "start_time": "2023-04-20T14:30:47.896Z"
   },
   {
    "duration": 8,
    "start_time": "2023-04-20T14:30:48.431Z"
   },
   {
    "duration": 349,
    "start_time": "2023-04-20T14:30:48.441Z"
   },
   {
    "duration": 464,
    "start_time": "2023-04-20T14:30:48.793Z"
   },
   {
    "duration": 477,
    "start_time": "2023-04-20T14:33:39.415Z"
   },
   {
    "duration": 407,
    "start_time": "2023-04-20T14:35:06.809Z"
   },
   {
    "duration": 426,
    "start_time": "2023-04-20T14:35:30.737Z"
   },
   {
    "duration": 523,
    "start_time": "2023-04-20T14:35:41.661Z"
   },
   {
    "duration": 17,
    "start_time": "2023-04-20T14:36:19.914Z"
   },
   {
    "duration": 417,
    "start_time": "2023-04-20T14:36:28.677Z"
   },
   {
    "duration": 444,
    "start_time": "2023-04-20T14:36:57.090Z"
   },
   {
    "duration": 440,
    "start_time": "2023-04-20T14:37:56.372Z"
   },
   {
    "duration": 434,
    "start_time": "2023-04-20T14:38:31.877Z"
   },
   {
    "duration": 56,
    "start_time": "2023-04-20T14:42:29.417Z"
   },
   {
    "duration": 4,
    "start_time": "2023-04-20T14:43:15.392Z"
   },
   {
    "duration": 818,
    "start_time": "2023-04-20T14:43:15.398Z"
   },
   {
    "duration": 22,
    "start_time": "2023-04-20T14:43:16.218Z"
   },
   {
    "duration": 40,
    "start_time": "2023-04-20T14:43:16.242Z"
   },
   {
    "duration": 23,
    "start_time": "2023-04-20T14:43:16.284Z"
   },
   {
    "duration": 12,
    "start_time": "2023-04-20T14:43:16.308Z"
   },
   {
    "duration": 21,
    "start_time": "2023-04-20T14:43:16.322Z"
   },
   {
    "duration": 26,
    "start_time": "2023-04-20T14:43:16.372Z"
   },
   {
    "duration": 10,
    "start_time": "2023-04-20T14:43:16.401Z"
   },
   {
    "duration": 8,
    "start_time": "2023-04-20T14:43:16.413Z"
   },
   {
    "duration": 9,
    "start_time": "2023-04-20T14:43:16.423Z"
   },
   {
    "duration": 44,
    "start_time": "2023-04-20T14:43:16.433Z"
   },
   {
    "duration": 12,
    "start_time": "2023-04-20T14:43:16.479Z"
   },
   {
    "duration": 5,
    "start_time": "2023-04-20T14:43:16.493Z"
   },
   {
    "duration": 17,
    "start_time": "2023-04-20T14:43:16.499Z"
   },
   {
    "duration": 449,
    "start_time": "2023-04-20T14:43:16.517Z"
   },
   {
    "duration": 294,
    "start_time": "2023-04-20T14:43:16.973Z"
   },
   {
    "duration": 12,
    "start_time": "2023-04-20T14:43:17.268Z"
   },
   {
    "duration": 523,
    "start_time": "2023-04-20T14:43:17.282Z"
   },
   {
    "duration": 7,
    "start_time": "2023-04-20T14:43:17.808Z"
   },
   {
    "duration": 367,
    "start_time": "2023-04-20T14:43:17.816Z"
   },
   {
    "duration": 26,
    "start_time": "2023-04-20T14:43:18.185Z"
   },
   {
    "duration": 7,
    "start_time": "2023-04-20T14:43:18.213Z"
   },
   {
    "duration": 12,
    "start_time": "2023-04-20T14:43:18.223Z"
   },
   {
    "duration": 257,
    "start_time": "2023-04-20T14:43:18.237Z"
   },
   {
    "duration": 661,
    "start_time": "2023-04-20T14:43:18.496Z"
   },
   {
    "duration": 14,
    "start_time": "2023-04-20T14:43:19.163Z"
   },
   {
    "duration": 14,
    "start_time": "2023-04-20T14:43:19.178Z"
   },
   {
    "duration": 27,
    "start_time": "2023-04-20T14:43:19.194Z"
   },
   {
    "duration": 13,
    "start_time": "2023-04-20T14:43:19.222Z"
   },
   {
    "duration": 233,
    "start_time": "2023-04-20T14:43:19.236Z"
   },
   {
    "duration": 199,
    "start_time": "2023-04-20T14:43:19.475Z"
   },
   {
    "duration": 9,
    "start_time": "2023-04-20T14:43:19.687Z"
   },
   {
    "duration": 8,
    "start_time": "2023-04-20T14:43:19.698Z"
   },
   {
    "duration": 4,
    "start_time": "2023-04-20T14:43:19.707Z"
   },
   {
    "duration": 9,
    "start_time": "2023-04-20T14:43:19.713Z"
   },
   {
    "duration": 3,
    "start_time": "2023-04-20T14:43:19.724Z"
   },
   {
    "duration": 7,
    "start_time": "2023-04-20T14:43:19.728Z"
   },
   {
    "duration": 39,
    "start_time": "2023-04-20T14:43:19.736Z"
   },
   {
    "duration": 14,
    "start_time": "2023-04-20T14:43:19.779Z"
   },
   {
    "duration": 3,
    "start_time": "2023-04-20T14:43:19.795Z"
   },
   {
    "duration": 503,
    "start_time": "2023-04-20T14:43:19.800Z"
   },
   {
    "duration": 17,
    "start_time": "2023-04-20T14:43:20.305Z"
   },
   {
    "duration": 510,
    "start_time": "2023-04-20T14:43:20.324Z"
   },
   {
    "duration": 653,
    "start_time": "2023-04-20T14:43:20.835Z"
   },
   {
    "duration": 537,
    "start_time": "2023-04-20T14:43:21.492Z"
   },
   {
    "duration": 8,
    "start_time": "2023-04-20T14:43:22.030Z"
   },
   {
    "duration": 462,
    "start_time": "2023-04-20T14:43:22.039Z"
   },
   {
    "duration": 20,
    "start_time": "2023-04-20T14:43:22.503Z"
   },
   {
    "duration": 5,
    "start_time": "2023-04-20T14:43:22.525Z"
   },
   {
    "duration": 490,
    "start_time": "2023-04-20T14:43:22.532Z"
   },
   {
    "duration": 4,
    "start_time": "2023-04-20T14:43:46.345Z"
   },
   {
    "duration": 10,
    "start_time": "2023-04-20T14:43:50.183Z"
   },
   {
    "duration": 4,
    "start_time": "2023-04-20T14:45:07.789Z"
   },
   {
    "duration": 4,
    "start_time": "2023-04-20T14:58:48.637Z"
   },
   {
    "duration": 3,
    "start_time": "2023-04-20T15:02:11.452Z"
   },
   {
    "duration": 4,
    "start_time": "2023-04-20T15:04:04.082Z"
   },
   {
    "duration": 4,
    "start_time": "2023-04-20T15:07:04.425Z"
   },
   {
    "duration": 62,
    "start_time": "2023-04-20T15:07:30.277Z"
   },
   {
    "duration": 3,
    "start_time": "2023-04-20T15:08:04.407Z"
   },
   {
    "duration": 4,
    "start_time": "2023-04-20T15:08:16.276Z"
   },
   {
    "duration": 3,
    "start_time": "2023-04-20T15:08:26.039Z"
   },
   {
    "duration": 2005,
    "start_time": "2023-04-20T15:08:29.573Z"
   },
   {
    "duration": 1882,
    "start_time": "2023-04-20T15:09:48.997Z"
   },
   {
    "duration": 4,
    "start_time": "2023-04-20T15:09:57.113Z"
   },
   {
    "duration": 1990,
    "start_time": "2023-04-20T15:10:00.677Z"
   },
   {
    "duration": 19849,
    "start_time": "2023-04-20T15:10:05.956Z"
   },
   {
    "duration": 3697,
    "start_time": "2023-04-20T15:10:46.577Z"
   },
   {
    "duration": 49979,
    "start_time": "2023-04-20T15:10:55.002Z"
   },
   {
    "duration": 5,
    "start_time": "2023-04-20T15:13:49.389Z"
   },
   {
    "duration": 742,
    "start_time": "2023-04-20T15:13:49.399Z"
   },
   {
    "duration": 35,
    "start_time": "2023-04-20T15:13:50.143Z"
   },
   {
    "duration": 37,
    "start_time": "2023-04-20T15:13:50.179Z"
   },
   {
    "duration": 30,
    "start_time": "2023-04-20T15:13:50.218Z"
   },
   {
    "duration": 38,
    "start_time": "2023-04-20T15:13:50.250Z"
   },
   {
    "duration": 34,
    "start_time": "2023-04-20T15:13:50.290Z"
   },
   {
    "duration": 52,
    "start_time": "2023-04-20T15:13:50.326Z"
   },
   {
    "duration": 19,
    "start_time": "2023-04-20T15:13:50.379Z"
   },
   {
    "duration": 24,
    "start_time": "2023-04-20T15:13:50.400Z"
   },
   {
    "duration": 10,
    "start_time": "2023-04-20T15:13:50.426Z"
   },
   {
    "duration": 9,
    "start_time": "2023-04-20T15:13:50.438Z"
   },
   {
    "duration": 8,
    "start_time": "2023-04-20T15:13:50.448Z"
   },
   {
    "duration": 18,
    "start_time": "2023-04-20T15:13:50.458Z"
   },
   {
    "duration": 20,
    "start_time": "2023-04-20T15:13:50.479Z"
   },
   {
    "duration": 299,
    "start_time": "2023-04-20T15:13:50.501Z"
   },
   {
    "duration": 254,
    "start_time": "2023-04-20T15:13:50.802Z"
   },
   {
    "duration": 21,
    "start_time": "2023-04-20T15:13:51.057Z"
   },
   {
    "duration": 527,
    "start_time": "2023-04-20T15:13:51.080Z"
   },
   {
    "duration": 6,
    "start_time": "2023-04-20T15:13:51.609Z"
   },
   {
    "duration": 331,
    "start_time": "2023-04-20T15:13:51.617Z"
   },
   {
    "duration": 47,
    "start_time": "2023-04-20T15:13:51.950Z"
   },
   {
    "duration": 9,
    "start_time": "2023-04-20T15:13:51.999Z"
   },
   {
    "duration": 8,
    "start_time": "2023-04-20T15:13:52.010Z"
   },
   {
    "duration": 259,
    "start_time": "2023-04-20T15:13:52.019Z"
   },
   {
    "duration": 626,
    "start_time": "2023-04-20T15:13:52.279Z"
   },
   {
    "duration": 7,
    "start_time": "2023-04-20T15:13:52.907Z"
   },
   {
    "duration": 68,
    "start_time": "2023-04-20T15:13:52.915Z"
   },
   {
    "duration": 20,
    "start_time": "2023-04-20T15:13:52.984Z"
   },
   {
    "duration": 30,
    "start_time": "2023-04-20T15:13:53.006Z"
   },
   {
    "duration": 140,
    "start_time": "2023-04-20T15:13:53.038Z"
   },
   {
    "duration": 195,
    "start_time": "2023-04-20T15:13:53.180Z"
   },
   {
    "duration": 9,
    "start_time": "2023-04-20T15:13:53.377Z"
   },
   {
    "duration": 19,
    "start_time": "2023-04-20T15:13:53.388Z"
   },
   {
    "duration": 27,
    "start_time": "2023-04-20T15:13:53.409Z"
   },
   {
    "duration": 16,
    "start_time": "2023-04-20T15:13:53.438Z"
   },
   {
    "duration": 28,
    "start_time": "2023-04-20T15:13:53.456Z"
   },
   {
    "duration": 15,
    "start_time": "2023-04-20T15:13:53.486Z"
   },
   {
    "duration": 31,
    "start_time": "2023-04-20T15:13:53.504Z"
   },
   {
    "duration": 20,
    "start_time": "2023-04-20T15:13:53.537Z"
   },
   {
    "duration": 37,
    "start_time": "2023-04-20T15:13:53.559Z"
   },
   {
    "duration": 570,
    "start_time": "2023-04-20T15:13:53.600Z"
   },
   {
    "duration": 11,
    "start_time": "2023-04-20T15:13:54.178Z"
   },
   {
    "duration": 473,
    "start_time": "2023-04-20T15:13:54.190Z"
   },
   {
    "duration": 460,
    "start_time": "2023-04-20T15:13:54.678Z"
   },
   {
    "duration": 477,
    "start_time": "2023-04-20T15:13:55.140Z"
   },
   {
    "duration": 7,
    "start_time": "2023-04-20T15:13:55.618Z"
   },
   {
    "duration": 568,
    "start_time": "2023-04-20T15:13:55.627Z"
   },
   {
    "duration": 17,
    "start_time": "2023-04-20T15:13:56.197Z"
   },
   {
    "duration": 14,
    "start_time": "2023-04-20T15:13:56.216Z"
   },
   {
    "duration": 415,
    "start_time": "2023-04-20T15:13:56.231Z"
   },
   {
    "duration": 4,
    "start_time": "2023-04-20T15:13:56.647Z"
   },
   {
    "duration": 29,
    "start_time": "2023-04-20T15:13:56.652Z"
   },
   {
    "duration": 12,
    "start_time": "2023-04-20T15:13:56.683Z"
   },
   {
    "duration": 9,
    "start_time": "2023-04-20T15:13:56.697Z"
   },
   {
    "duration": 1967,
    "start_time": "2023-04-20T15:13:56.707Z"
   },
   {
    "duration": 19550,
    "start_time": "2023-04-20T15:13:58.677Z"
   },
   {
    "duration": 3651,
    "start_time": "2023-04-20T15:14:18.229Z"
   },
   {
    "duration": 49426,
    "start_time": "2023-04-20T15:14:21.882Z"
   },
   {
    "duration": 3369,
    "start_time": "2023-04-20T15:15:11.310Z"
   },
   {
    "duration": 2395,
    "start_time": "2023-04-20T15:15:14.681Z"
   },
   {
    "duration": 10,
    "start_time": "2023-04-20T15:45:57.879Z"
   },
   {
    "duration": 34243,
    "start_time": "2023-04-20T15:46:30.435Z"
   },
   {
    "duration": 27,
    "start_time": "2023-04-20T15:47:29.496Z"
   },
   {
    "duration": 53,
    "start_time": "2023-04-20T15:48:12.789Z"
   },
   {
    "duration": 63,
    "start_time": "2023-04-20T15:48:51.250Z"
   },
   {
    "duration": 416275,
    "start_time": "2023-04-20T15:49:16.205Z"
   },
   {
    "duration": 1419,
    "start_time": "2023-04-20T16:03:39.393Z"
   },
   {
    "duration": 741,
    "start_time": "2023-04-20T16:03:40.814Z"
   },
   {
    "duration": 35,
    "start_time": "2023-04-20T16:03:41.557Z"
   },
   {
    "duration": 17,
    "start_time": "2023-04-20T16:03:41.593Z"
   },
   {
    "duration": 19,
    "start_time": "2023-04-20T16:03:41.612Z"
   },
   {
    "duration": 45,
    "start_time": "2023-04-20T16:03:41.632Z"
   },
   {
    "duration": 23,
    "start_time": "2023-04-20T16:03:41.678Z"
   },
   {
    "duration": 23,
    "start_time": "2023-04-20T16:03:41.703Z"
   },
   {
    "duration": 12,
    "start_time": "2023-04-20T16:03:41.727Z"
   },
   {
    "duration": 7,
    "start_time": "2023-04-20T16:03:41.740Z"
   },
   {
    "duration": 14,
    "start_time": "2023-04-20T16:03:41.763Z"
   },
   {
    "duration": 6,
    "start_time": "2023-04-20T16:03:41.779Z"
   },
   {
    "duration": 7,
    "start_time": "2023-04-20T16:03:41.787Z"
   },
   {
    "duration": 11,
    "start_time": "2023-04-20T16:03:41.797Z"
   },
   {
    "duration": 34,
    "start_time": "2023-04-20T16:03:41.810Z"
   },
   {
    "duration": 332,
    "start_time": "2023-04-20T16:03:41.846Z"
   },
   {
    "duration": 257,
    "start_time": "2023-04-20T16:03:42.180Z"
   },
   {
    "duration": 8,
    "start_time": "2023-04-20T16:03:42.439Z"
   },
   {
    "duration": 590,
    "start_time": "2023-04-20T16:03:42.448Z"
   },
   {
    "duration": 7,
    "start_time": "2023-04-20T16:03:43.039Z"
   },
   {
    "duration": 401,
    "start_time": "2023-04-20T16:03:43.047Z"
   },
   {
    "duration": 35,
    "start_time": "2023-04-20T16:03:43.450Z"
   },
   {
    "duration": 8,
    "start_time": "2023-04-20T16:03:43.487Z"
   },
   {
    "duration": 14,
    "start_time": "2023-04-20T16:03:43.496Z"
   },
   {
    "duration": 270,
    "start_time": "2023-04-20T16:03:43.512Z"
   },
   {
    "duration": 622,
    "start_time": "2023-04-20T16:03:43.784Z"
   },
   {
    "duration": 5,
    "start_time": "2023-04-20T16:03:44.408Z"
   },
   {
    "duration": 8,
    "start_time": "2023-04-20T16:03:44.414Z"
   },
   {
    "duration": 12,
    "start_time": "2023-04-20T16:03:44.424Z"
   },
   {
    "duration": 38,
    "start_time": "2023-04-20T16:03:44.437Z"
   },
   {
    "duration": 120,
    "start_time": "2023-04-20T16:03:44.477Z"
   },
   {
    "duration": 196,
    "start_time": "2023-04-20T16:03:44.598Z"
   },
   {
    "duration": 12,
    "start_time": "2023-04-20T16:03:44.796Z"
   },
   {
    "duration": 9,
    "start_time": "2023-04-20T16:03:44.809Z"
   },
   {
    "duration": 5,
    "start_time": "2023-04-20T16:03:44.820Z"
   },
   {
    "duration": 43,
    "start_time": "2023-04-20T16:03:44.827Z"
   },
   {
    "duration": 5,
    "start_time": "2023-04-20T16:03:44.872Z"
   },
   {
    "duration": 7,
    "start_time": "2023-04-20T16:03:44.879Z"
   },
   {
    "duration": 8,
    "start_time": "2023-04-20T16:03:44.888Z"
   },
   {
    "duration": 10,
    "start_time": "2023-04-20T16:03:44.897Z"
   },
   {
    "duration": 7,
    "start_time": "2023-04-20T16:03:44.913Z"
   },
   {
    "duration": 607,
    "start_time": "2023-04-20T16:03:44.922Z"
   },
   {
    "duration": 14,
    "start_time": "2023-04-20T16:03:45.531Z"
   },
   {
    "duration": 523,
    "start_time": "2023-04-20T16:03:45.547Z"
   },
   {
    "duration": 474,
    "start_time": "2023-04-20T16:03:46.072Z"
   },
   {
    "duration": 589,
    "start_time": "2023-04-20T16:03:46.548Z"
   },
   {
    "duration": 7,
    "start_time": "2023-04-20T16:03:47.139Z"
   },
   {
    "duration": 449,
    "start_time": "2023-04-20T16:03:47.147Z"
   },
   {
    "duration": 23,
    "start_time": "2023-04-20T16:03:47.597Z"
   },
   {
    "duration": 6,
    "start_time": "2023-04-20T16:03:47.621Z"
   },
   {
    "duration": 417,
    "start_time": "2023-04-20T16:03:47.628Z"
   },
   {
    "duration": 4,
    "start_time": "2023-04-20T16:03:48.047Z"
   },
   {
    "duration": 27,
    "start_time": "2023-04-20T16:03:48.052Z"
   },
   {
    "duration": 8,
    "start_time": "2023-04-20T16:03:48.081Z"
   },
   {
    "duration": 4,
    "start_time": "2023-04-20T16:03:48.091Z"
   },
   {
    "duration": 1978,
    "start_time": "2023-04-20T16:03:48.096Z"
   },
   {
    "duration": 19946,
    "start_time": "2023-04-20T16:03:50.077Z"
   },
   {
    "duration": 3657,
    "start_time": "2023-04-20T16:04:10.024Z"
   },
   {
    "duration": 49446,
    "start_time": "2023-04-20T16:04:13.683Z"
   },
   {
    "duration": 3136,
    "start_time": "2023-04-20T16:05:03.130Z"
   },
   {
    "duration": 2208,
    "start_time": "2023-04-20T16:05:06.268Z"
   },
   {
    "duration": 118104,
    "start_time": "2023-04-20T16:05:08.478Z"
   },
   {
    "duration": 78154,
    "start_time": "2023-04-20T16:07:06.585Z"
   },
   {
    "duration": 0,
    "start_time": "2023-04-20T16:08:24.741Z"
   },
   {
    "duration": 0,
    "start_time": "2023-04-20T16:08:24.743Z"
   },
   {
    "duration": 0,
    "start_time": "2023-04-20T16:08:24.744Z"
   },
   {
    "duration": 0,
    "start_time": "2023-04-20T16:08:24.745Z"
   },
   {
    "duration": 81,
    "start_time": "2023-04-20T16:14:19.534Z"
   },
   {
    "duration": 1471,
    "start_time": "2023-04-20T16:14:28.834Z"
   },
   {
    "duration": 890,
    "start_time": "2023-04-20T16:14:30.307Z"
   },
   {
    "duration": 36,
    "start_time": "2023-04-20T16:14:31.200Z"
   },
   {
    "duration": 45,
    "start_time": "2023-04-20T16:14:31.239Z"
   },
   {
    "duration": 28,
    "start_time": "2023-04-20T16:14:31.289Z"
   },
   {
    "duration": 37,
    "start_time": "2023-04-20T16:14:31.319Z"
   },
   {
    "duration": 46,
    "start_time": "2023-04-20T16:14:31.358Z"
   },
   {
    "duration": 44,
    "start_time": "2023-04-20T16:14:31.406Z"
   },
   {
    "duration": 32,
    "start_time": "2023-04-20T16:14:31.452Z"
   },
   {
    "duration": 19,
    "start_time": "2023-04-20T16:14:31.488Z"
   },
   {
    "duration": 58,
    "start_time": "2023-04-20T16:14:31.508Z"
   },
   {
    "duration": 20,
    "start_time": "2023-04-20T16:14:31.571Z"
   },
   {
    "duration": 21,
    "start_time": "2023-04-20T16:14:31.593Z"
   },
   {
    "duration": 26,
    "start_time": "2023-04-20T16:14:31.615Z"
   },
   {
    "duration": 41,
    "start_time": "2023-04-20T16:14:31.644Z"
   },
   {
    "duration": 337,
    "start_time": "2023-04-20T16:14:31.688Z"
   },
   {
    "duration": 305,
    "start_time": "2023-04-20T16:14:32.027Z"
   },
   {
    "duration": 10,
    "start_time": "2023-04-20T16:14:32.333Z"
   },
   {
    "duration": 597,
    "start_time": "2023-04-20T16:14:32.345Z"
   },
   {
    "duration": 30,
    "start_time": "2023-04-20T16:14:32.943Z"
   },
   {
    "duration": 362,
    "start_time": "2023-04-20T16:14:32.978Z"
   },
   {
    "duration": 36,
    "start_time": "2023-04-20T16:14:33.342Z"
   },
   {
    "duration": 12,
    "start_time": "2023-04-20T16:14:33.381Z"
   },
   {
    "duration": 21,
    "start_time": "2023-04-20T16:14:33.395Z"
   },
   {
    "duration": 309,
    "start_time": "2023-04-20T16:14:33.418Z"
   },
   {
    "duration": 685,
    "start_time": "2023-04-20T16:14:33.730Z"
   },
   {
    "duration": 6,
    "start_time": "2023-04-20T16:14:34.417Z"
   },
   {
    "duration": 35,
    "start_time": "2023-04-20T16:14:34.427Z"
   },
   {
    "duration": 26,
    "start_time": "2023-04-20T16:14:34.466Z"
   },
   {
    "duration": 37,
    "start_time": "2023-04-20T16:14:34.493Z"
   },
   {
    "duration": 180,
    "start_time": "2023-04-20T16:14:34.531Z"
   },
   {
    "duration": 283,
    "start_time": "2023-04-20T16:14:34.712Z"
   },
   {
    "duration": 11,
    "start_time": "2023-04-20T16:14:34.997Z"
   },
   {
    "duration": 37,
    "start_time": "2023-04-20T16:14:35.010Z"
   },
   {
    "duration": 39,
    "start_time": "2023-04-20T16:14:35.048Z"
   },
   {
    "duration": 34,
    "start_time": "2023-04-20T16:14:35.088Z"
   },
   {
    "duration": 34,
    "start_time": "2023-04-20T16:14:35.124Z"
   },
   {
    "duration": 59,
    "start_time": "2023-04-20T16:14:35.160Z"
   },
   {
    "duration": 60,
    "start_time": "2023-04-20T16:14:35.221Z"
   },
   {
    "duration": 48,
    "start_time": "2023-04-20T16:14:35.283Z"
   },
   {
    "duration": 25,
    "start_time": "2023-04-20T16:14:35.333Z"
   },
   {
    "duration": 551,
    "start_time": "2023-04-20T16:14:35.360Z"
   },
   {
    "duration": 14,
    "start_time": "2023-04-20T16:14:35.913Z"
   },
   {
    "duration": 585,
    "start_time": "2023-04-20T16:14:35.928Z"
   },
   {
    "duration": 571,
    "start_time": "2023-04-20T16:14:36.516Z"
   },
   {
    "duration": 731,
    "start_time": "2023-04-20T16:14:37.089Z"
   },
   {
    "duration": 9,
    "start_time": "2023-04-20T16:14:37.822Z"
   },
   {
    "duration": 473,
    "start_time": "2023-04-20T16:14:37.834Z"
   },
   {
    "duration": 22,
    "start_time": "2023-04-20T16:14:38.309Z"
   },
   {
    "duration": 19,
    "start_time": "2023-04-20T16:14:38.333Z"
   },
   {
    "duration": 442,
    "start_time": "2023-04-20T16:14:38.354Z"
   },
   {
    "duration": 4,
    "start_time": "2023-04-20T16:14:38.798Z"
   },
   {
    "duration": 17,
    "start_time": "2023-04-20T16:14:38.804Z"
   },
   {
    "duration": 8,
    "start_time": "2023-04-20T16:14:38.822Z"
   },
   {
    "duration": 4,
    "start_time": "2023-04-20T16:14:38.832Z"
   },
   {
    "duration": 5,
    "start_time": "2023-04-20T19:21:30.060Z"
   },
   {
    "duration": 824,
    "start_time": "2023-04-20T19:21:30.067Z"
   },
   {
    "duration": 21,
    "start_time": "2023-04-20T19:21:30.893Z"
   },
   {
    "duration": 44,
    "start_time": "2023-04-20T19:21:30.916Z"
   },
   {
    "duration": 66,
    "start_time": "2023-04-20T19:21:30.962Z"
   },
   {
    "duration": 52,
    "start_time": "2023-04-20T19:21:31.030Z"
   },
   {
    "duration": 33,
    "start_time": "2023-04-20T19:21:31.084Z"
   },
   {
    "duration": 77,
    "start_time": "2023-04-20T19:21:31.119Z"
   },
   {
    "duration": 81,
    "start_time": "2023-04-20T19:21:31.198Z"
   },
   {
    "duration": 24,
    "start_time": "2023-04-20T19:21:31.281Z"
   },
   {
    "duration": 22,
    "start_time": "2023-04-20T19:21:31.308Z"
   },
   {
    "duration": 15,
    "start_time": "2023-04-20T19:21:31.332Z"
   },
   {
    "duration": 28,
    "start_time": "2023-04-20T19:21:31.348Z"
   },
   {
    "duration": 52,
    "start_time": "2023-04-20T19:21:31.377Z"
   },
   {
    "duration": 67,
    "start_time": "2023-04-20T19:21:31.431Z"
   },
   {
    "duration": 325,
    "start_time": "2023-04-20T19:21:31.500Z"
   },
   {
    "duration": 262,
    "start_time": "2023-04-20T19:21:31.827Z"
   },
   {
    "duration": 9,
    "start_time": "2023-04-20T19:21:32.091Z"
   },
   {
    "duration": 521,
    "start_time": "2023-04-20T19:21:32.102Z"
   },
   {
    "duration": 5,
    "start_time": "2023-04-20T19:21:32.625Z"
   },
   {
    "duration": 327,
    "start_time": "2023-04-20T19:21:32.631Z"
   },
   {
    "duration": 27,
    "start_time": "2023-04-20T19:21:32.960Z"
   },
   {
    "duration": 8,
    "start_time": "2023-04-20T19:21:32.989Z"
   },
   {
    "duration": 9,
    "start_time": "2023-04-20T19:21:32.999Z"
   },
   {
    "duration": 253,
    "start_time": "2023-04-20T19:21:33.010Z"
   },
   {
    "duration": 628,
    "start_time": "2023-04-20T19:21:33.265Z"
   },
   {
    "duration": 7,
    "start_time": "2023-04-20T19:21:33.894Z"
   },
   {
    "duration": 20,
    "start_time": "2023-04-20T19:21:33.903Z"
   },
   {
    "duration": 6,
    "start_time": "2023-04-20T19:21:33.926Z"
   },
   {
    "duration": 11,
    "start_time": "2023-04-20T19:21:33.934Z"
   },
   {
    "duration": 117,
    "start_time": "2023-04-20T19:21:33.965Z"
   },
   {
    "duration": 195,
    "start_time": "2023-04-20T19:21:34.084Z"
   },
   {
    "duration": 9,
    "start_time": "2023-04-20T19:21:34.281Z"
   },
   {
    "duration": 9,
    "start_time": "2023-04-20T19:21:34.291Z"
   },
   {
    "duration": 5,
    "start_time": "2023-04-20T19:21:34.301Z"
   },
   {
    "duration": 10,
    "start_time": "2023-04-20T19:21:34.307Z"
   },
   {
    "duration": 4,
    "start_time": "2023-04-20T19:21:34.319Z"
   },
   {
    "duration": 40,
    "start_time": "2023-04-20T19:21:34.324Z"
   },
   {
    "duration": 7,
    "start_time": "2023-04-20T19:21:34.366Z"
   },
   {
    "duration": 10,
    "start_time": "2023-04-20T19:21:34.375Z"
   },
   {
    "duration": 3,
    "start_time": "2023-04-20T19:21:34.387Z"
   },
   {
    "duration": 574,
    "start_time": "2023-04-20T19:21:34.391Z"
   },
   {
    "duration": 16,
    "start_time": "2023-04-20T19:21:34.966Z"
   },
   {
    "duration": 469,
    "start_time": "2023-04-20T19:21:34.983Z"
   },
   {
    "duration": 482,
    "start_time": "2023-04-20T19:21:35.453Z"
   },
   {
    "duration": 494,
    "start_time": "2023-04-20T19:21:35.936Z"
   },
   {
    "duration": 7,
    "start_time": "2023-04-20T19:21:36.432Z"
   },
   {
    "duration": 539,
    "start_time": "2023-04-20T19:21:36.441Z"
   },
   {
    "duration": 26,
    "start_time": "2023-04-20T19:21:36.982Z"
   },
   {
    "duration": 7,
    "start_time": "2023-04-20T19:21:37.009Z"
   },
   {
    "duration": 416,
    "start_time": "2023-04-20T19:21:37.018Z"
   },
   {
    "duration": 4,
    "start_time": "2023-04-20T19:21:37.435Z"
   },
   {
    "duration": 29,
    "start_time": "2023-04-20T19:21:37.441Z"
   },
   {
    "duration": 7,
    "start_time": "2023-04-20T19:21:37.471Z"
   },
   {
    "duration": 10,
    "start_time": "2023-04-20T19:21:37.480Z"
   },
   {
    "duration": 10658,
    "start_time": "2023-04-20T19:23:38.405Z"
   },
   {
    "duration": 26195,
    "start_time": "2023-04-20T19:23:51.368Z"
   },
   {
    "duration": 18279,
    "start_time": "2023-04-20T19:24:51.888Z"
   },
   {
    "duration": 7,
    "start_time": "2023-04-20T19:25:59.566Z"
   },
   {
    "duration": 28,
    "start_time": "2023-04-20T19:37:49.584Z"
   },
   {
    "duration": 13,
    "start_time": "2023-04-20T19:38:18.777Z"
   },
   {
    "duration": 18,
    "start_time": "2023-04-20T19:40:21.785Z"
   },
   {
    "duration": 20,
    "start_time": "2023-04-20T19:40:30.336Z"
   },
   {
    "duration": 20,
    "start_time": "2023-04-20T19:41:23.761Z"
   },
   {
    "duration": 23,
    "start_time": "2023-04-20T19:42:14.932Z"
   },
   {
    "duration": 63,
    "start_time": "2023-04-20T19:42:25.604Z"
   },
   {
    "duration": 74,
    "start_time": "2023-04-20T19:42:39.353Z"
   },
   {
    "duration": 4,
    "start_time": "2023-04-20T19:43:45.988Z"
   },
   {
    "duration": 14,
    "start_time": "2023-04-20T19:44:39.030Z"
   },
   {
    "duration": 7,
    "start_time": "2023-04-20T19:45:12.156Z"
   },
   {
    "duration": 10,
    "start_time": "2023-04-20T19:45:19.818Z"
   },
   {
    "duration": 6,
    "start_time": "2023-04-20T19:45:31.668Z"
   },
   {
    "duration": 5,
    "start_time": "2023-04-20T19:45:35.430Z"
   },
   {
    "duration": 6,
    "start_time": "2023-04-20T19:46:23.326Z"
   },
   {
    "duration": 13,
    "start_time": "2023-04-20T19:46:32.004Z"
   },
   {
    "duration": 127,
    "start_time": "2023-04-20T19:48:05.888Z"
   },
   {
    "duration": 5,
    "start_time": "2023-04-20T19:48:26.730Z"
   },
   {
    "duration": 9,
    "start_time": "2023-04-20T19:49:22.058Z"
   },
   {
    "duration": 49,
    "start_time": "2023-04-20T19:50:29.619Z"
   },
   {
    "duration": 65,
    "start_time": "2023-04-20T19:51:20.352Z"
   },
   {
    "duration": 6,
    "start_time": "2023-04-20T19:52:01.924Z"
   },
   {
    "duration": 4,
    "start_time": "2023-04-20T19:52:10.577Z"
   },
   {
    "duration": 886,
    "start_time": "2023-04-20T19:52:10.583Z"
   },
   {
    "duration": 21,
    "start_time": "2023-04-20T19:52:11.471Z"
   },
   {
    "duration": 17,
    "start_time": "2023-04-20T19:52:11.494Z"
   },
   {
    "duration": 21,
    "start_time": "2023-04-20T19:52:11.512Z"
   },
   {
    "duration": 41,
    "start_time": "2023-04-20T19:52:11.534Z"
   },
   {
    "duration": 21,
    "start_time": "2023-04-20T19:52:11.576Z"
   },
   {
    "duration": 22,
    "start_time": "2023-04-20T19:52:11.599Z"
   },
   {
    "duration": 10,
    "start_time": "2023-04-20T19:52:11.625Z"
   },
   {
    "duration": 35,
    "start_time": "2023-04-20T19:52:11.637Z"
   },
   {
    "duration": 9,
    "start_time": "2023-04-20T19:52:11.674Z"
   },
   {
    "duration": 5,
    "start_time": "2023-04-20T19:52:11.685Z"
   },
   {
    "duration": 5,
    "start_time": "2023-04-20T19:52:11.692Z"
   },
   {
    "duration": 6,
    "start_time": "2023-04-20T19:52:11.699Z"
   },
   {
    "duration": 58,
    "start_time": "2023-04-20T19:52:11.706Z"
   },
   {
    "duration": 303,
    "start_time": "2023-04-20T19:52:11.766Z"
   },
   {
    "duration": 254,
    "start_time": "2023-04-20T19:52:12.070Z"
   },
   {
    "duration": 8,
    "start_time": "2023-04-20T19:52:12.326Z"
   },
   {
    "duration": 405,
    "start_time": "2023-04-20T19:52:12.336Z"
   },
   {
    "duration": 8,
    "start_time": "2023-04-20T19:52:12.743Z"
   },
   {
    "duration": 316,
    "start_time": "2023-04-20T19:52:12.753Z"
   },
   {
    "duration": 23,
    "start_time": "2023-04-20T19:52:13.070Z"
   },
   {
    "duration": 8,
    "start_time": "2023-04-20T19:52:13.095Z"
   },
   {
    "duration": 8,
    "start_time": "2023-04-20T19:52:13.106Z"
   },
   {
    "duration": 247,
    "start_time": "2023-04-20T19:52:13.116Z"
   },
   {
    "duration": 748,
    "start_time": "2023-04-20T19:52:13.365Z"
   },
   {
    "duration": 5,
    "start_time": "2023-04-20T19:52:14.114Z"
   },
   {
    "duration": 15,
    "start_time": "2023-04-20T19:52:14.121Z"
   },
   {
    "duration": 5,
    "start_time": "2023-04-20T19:52:14.138Z"
   },
   {
    "duration": 22,
    "start_time": "2023-04-20T19:52:14.145Z"
   },
   {
    "duration": 132,
    "start_time": "2023-04-20T19:52:14.169Z"
   },
   {
    "duration": 202,
    "start_time": "2023-04-20T19:52:14.302Z"
   },
   {
    "duration": 10,
    "start_time": "2023-04-20T19:52:14.505Z"
   },
   {
    "duration": 8,
    "start_time": "2023-04-20T19:52:14.516Z"
   },
   {
    "duration": 4,
    "start_time": "2023-04-20T19:52:14.526Z"
   },
   {
    "duration": 32,
    "start_time": "2023-04-20T19:52:14.532Z"
   },
   {
    "duration": 4,
    "start_time": "2023-04-20T19:52:14.566Z"
   },
   {
    "duration": 9,
    "start_time": "2023-04-20T19:52:14.571Z"
   },
   {
    "duration": 9,
    "start_time": "2023-04-20T19:52:14.581Z"
   },
   {
    "duration": 11,
    "start_time": "2023-04-20T19:52:14.591Z"
   },
   {
    "duration": 3,
    "start_time": "2023-04-20T19:52:14.604Z"
   },
   {
    "duration": 516,
    "start_time": "2023-04-20T19:52:14.609Z"
   },
   {
    "duration": 14,
    "start_time": "2023-04-20T19:52:15.127Z"
   },
   {
    "duration": 611,
    "start_time": "2023-04-20T19:52:15.143Z"
   },
   {
    "duration": 469,
    "start_time": "2023-04-20T19:52:15.756Z"
   },
   {
    "duration": 483,
    "start_time": "2023-04-20T19:52:16.227Z"
   },
   {
    "duration": 8,
    "start_time": "2023-04-20T19:52:16.711Z"
   },
   {
    "duration": 465,
    "start_time": "2023-04-20T19:52:16.721Z"
   },
   {
    "duration": 19,
    "start_time": "2023-04-20T19:52:17.188Z"
   },
   {
    "duration": 6,
    "start_time": "2023-04-20T19:52:17.208Z"
   },
   {
    "duration": 522,
    "start_time": "2023-04-20T19:52:17.216Z"
   },
   {
    "duration": 3,
    "start_time": "2023-04-20T19:52:17.740Z"
   },
   {
    "duration": 24,
    "start_time": "2023-04-20T19:52:17.745Z"
   },
   {
    "duration": 7,
    "start_time": "2023-04-20T19:52:17.771Z"
   },
   {
    "duration": 4,
    "start_time": "2023-04-20T19:52:17.779Z"
   },
   {
    "duration": 1987,
    "start_time": "2023-04-20T19:52:17.785Z"
   },
   {
    "duration": 19696,
    "start_time": "2023-04-20T19:52:19.774Z"
   },
   {
    "duration": 3900,
    "start_time": "2023-04-20T19:52:39.472Z"
   },
   {
    "duration": 46554,
    "start_time": "2023-04-20T19:52:43.374Z"
   },
   {
    "duration": 2567,
    "start_time": "2023-04-20T19:53:29.930Z"
   },
   {
    "duration": 2376,
    "start_time": "2023-04-20T19:53:32.498Z"
   },
   {
    "duration": 20793,
    "start_time": "2023-04-20T19:53:34.875Z"
   },
   {
    "duration": 91,
    "start_time": "2023-04-20T19:53:55.671Z"
   },
   {
    "duration": 202,
    "start_time": "2023-04-20T19:53:55.765Z"
   },
   {
    "duration": 198,
    "start_time": "2023-04-20T19:53:55.969Z"
   },
   {
    "duration": 121,
    "start_time": "2023-04-20T19:53:56.170Z"
   },
   {
    "duration": 5,
    "start_time": "2023-04-20T19:53:56.293Z"
   },
   {
    "duration": 11,
    "start_time": "2023-04-20T19:57:52.684Z"
   },
   {
    "duration": 99,
    "start_time": "2023-04-20T19:59:11.691Z"
   },
   {
    "duration": 155,
    "start_time": "2023-04-20T20:00:26.921Z"
   },
   {
    "duration": 193,
    "start_time": "2023-04-20T20:00:29.973Z"
   },
   {
    "duration": 1367,
    "start_time": "2023-04-20T20:01:20.585Z"
   },
   {
    "duration": 764,
    "start_time": "2023-04-20T20:01:21.954Z"
   },
   {
    "duration": 25,
    "start_time": "2023-04-20T20:01:22.720Z"
   },
   {
    "duration": 30,
    "start_time": "2023-04-20T20:01:22.747Z"
   },
   {
    "duration": 19,
    "start_time": "2023-04-20T20:01:22.780Z"
   },
   {
    "duration": 23,
    "start_time": "2023-04-20T20:01:22.801Z"
   },
   {
    "duration": 20,
    "start_time": "2023-04-20T20:01:22.825Z"
   },
   {
    "duration": 38,
    "start_time": "2023-04-20T20:01:22.846Z"
   },
   {
    "duration": 11,
    "start_time": "2023-04-20T20:01:22.886Z"
   },
   {
    "duration": 8,
    "start_time": "2023-04-20T20:01:22.899Z"
   },
   {
    "duration": 11,
    "start_time": "2023-04-20T20:01:22.908Z"
   },
   {
    "duration": 5,
    "start_time": "2023-04-20T20:01:22.920Z"
   },
   {
    "duration": 5,
    "start_time": "2023-04-20T20:01:22.926Z"
   },
   {
    "duration": 34,
    "start_time": "2023-04-20T20:01:22.932Z"
   },
   {
    "duration": 19,
    "start_time": "2023-04-20T20:01:22.968Z"
   },
   {
    "duration": 358,
    "start_time": "2023-04-20T20:01:22.988Z"
   },
   {
    "duration": 298,
    "start_time": "2023-04-20T20:01:23.348Z"
   },
   {
    "duration": 20,
    "start_time": "2023-04-20T20:01:23.648Z"
   },
   {
    "duration": 565,
    "start_time": "2023-04-20T20:01:23.670Z"
   },
   {
    "duration": 6,
    "start_time": "2023-04-20T20:01:24.237Z"
   },
   {
    "duration": 363,
    "start_time": "2023-04-20T20:01:24.245Z"
   },
   {
    "duration": 31,
    "start_time": "2023-04-20T20:01:24.611Z"
   },
   {
    "duration": 8,
    "start_time": "2023-04-20T20:01:24.644Z"
   },
   {
    "duration": 11,
    "start_time": "2023-04-20T20:01:24.653Z"
   },
   {
    "duration": 254,
    "start_time": "2023-04-20T20:01:24.666Z"
   },
   {
    "duration": 616,
    "start_time": "2023-04-20T20:01:24.922Z"
   },
   {
    "duration": 5,
    "start_time": "2023-04-20T20:01:25.540Z"
   },
   {
    "duration": 17,
    "start_time": "2023-04-20T20:01:25.549Z"
   },
   {
    "duration": 5,
    "start_time": "2023-04-20T20:01:25.568Z"
   },
   {
    "duration": 10,
    "start_time": "2023-04-20T20:01:25.575Z"
   },
   {
    "duration": 136,
    "start_time": "2023-04-20T20:01:25.587Z"
   },
   {
    "duration": 274,
    "start_time": "2023-04-20T20:01:25.725Z"
   },
   {
    "duration": 10,
    "start_time": "2023-04-20T20:01:26.001Z"
   },
   {
    "duration": 8,
    "start_time": "2023-04-20T20:01:26.013Z"
   },
   {
    "duration": 4,
    "start_time": "2023-04-20T20:01:26.023Z"
   },
   {
    "duration": 39,
    "start_time": "2023-04-20T20:01:26.029Z"
   },
   {
    "duration": 4,
    "start_time": "2023-04-20T20:01:26.069Z"
   },
   {
    "duration": 8,
    "start_time": "2023-04-20T20:01:26.075Z"
   },
   {
    "duration": 8,
    "start_time": "2023-04-20T20:01:26.084Z"
   },
   {
    "duration": 11,
    "start_time": "2023-04-20T20:01:26.094Z"
   },
   {
    "duration": 5,
    "start_time": "2023-04-20T20:01:26.106Z"
   },
   {
    "duration": 498,
    "start_time": "2023-04-20T20:01:26.112Z"
   },
   {
    "duration": 15,
    "start_time": "2023-04-20T20:01:26.612Z"
   },
   {
    "duration": 489,
    "start_time": "2023-04-20T20:01:26.629Z"
   },
   {
    "duration": 522,
    "start_time": "2023-04-20T20:01:27.120Z"
   },
   {
    "duration": 615,
    "start_time": "2023-04-20T20:01:27.644Z"
   },
   {
    "duration": 9,
    "start_time": "2023-04-20T20:01:28.263Z"
   },
   {
    "duration": 412,
    "start_time": "2023-04-20T20:01:28.273Z"
   },
   {
    "duration": 20,
    "start_time": "2023-04-20T20:01:28.687Z"
   },
   {
    "duration": 6,
    "start_time": "2023-04-20T20:01:28.708Z"
   },
   {
    "duration": 413,
    "start_time": "2023-04-20T20:01:28.716Z"
   },
   {
    "duration": 4,
    "start_time": "2023-04-20T20:01:29.131Z"
   },
   {
    "duration": 26,
    "start_time": "2023-04-20T20:01:29.137Z"
   },
   {
    "duration": 10,
    "start_time": "2023-04-20T20:01:29.166Z"
   },
   {
    "duration": 10,
    "start_time": "2023-04-20T20:01:29.179Z"
   },
   {
    "duration": 1983,
    "start_time": "2023-04-20T20:01:29.191Z"
   },
   {
    "duration": 19735,
    "start_time": "2023-04-20T20:01:31.176Z"
   },
   {
    "duration": 3960,
    "start_time": "2023-04-20T20:01:50.913Z"
   },
   {
    "duration": 46767,
    "start_time": "2023-04-20T20:01:54.875Z"
   },
   {
    "duration": 2955,
    "start_time": "2023-04-20T20:02:41.644Z"
   },
   {
    "duration": 2170,
    "start_time": "2023-04-20T20:02:44.601Z"
   },
   {
    "duration": 13591,
    "start_time": "2023-04-20T20:02:46.773Z"
   },
   {
    "duration": 96,
    "start_time": "2023-04-20T20:03:00.367Z"
   },
   {
    "duration": 199,
    "start_time": "2023-04-20T20:03:00.465Z"
   },
   {
    "duration": 211,
    "start_time": "2023-04-20T20:03:00.666Z"
   },
   {
    "duration": 122,
    "start_time": "2023-04-20T20:03:00.882Z"
   },
   {
    "duration": 60,
    "start_time": "2023-04-20T20:03:01.005Z"
   },
   {
    "duration": 121,
    "start_time": "2023-04-20T20:03:01.067Z"
   },
   {
    "duration": 90,
    "start_time": "2023-04-20T20:08:01.903Z"
   },
   {
    "duration": 162,
    "start_time": "2023-04-20T20:08:37.101Z"
   },
   {
    "duration": 147,
    "start_time": "2023-04-20T20:09:04.117Z"
   },
   {
    "duration": 129,
    "start_time": "2023-04-20T20:09:08.639Z"
   },
   {
    "duration": 121,
    "start_time": "2023-04-20T20:10:16.783Z"
   },
   {
    "duration": 173,
    "start_time": "2023-04-20T20:10:51.591Z"
   },
   {
    "duration": 198,
    "start_time": "2023-04-20T20:11:07.282Z"
   },
   {
    "duration": 94,
    "start_time": "2023-04-20T20:11:14.161Z"
   },
   {
    "duration": 108,
    "start_time": "2023-04-20T20:11:32.980Z"
   },
   {
    "duration": 3,
    "start_time": "2023-04-20T20:11:53.360Z"
   },
   {
    "duration": 5,
    "start_time": "2023-04-20T20:12:00.499Z"
   },
   {
    "duration": 4,
    "start_time": "2023-04-20T20:13:48.563Z"
   },
   {
    "duration": 14,
    "start_time": "2023-04-20T20:14:07.702Z"
   },
   {
    "duration": 11,
    "start_time": "2023-04-20T20:14:13.040Z"
   },
   {
    "duration": 14,
    "start_time": "2023-04-20T20:14:21.899Z"
   },
   {
    "duration": 289,
    "start_time": "2023-04-20T20:14:37.174Z"
   },
   {
    "duration": 3,
    "start_time": "2023-04-20T20:15:11.721Z"
   },
   {
    "duration": 4,
    "start_time": "2023-04-20T20:15:22.496Z"
   },
   {
    "duration": 7,
    "start_time": "2023-04-20T20:15:29.972Z"
   },
   {
    "duration": 245,
    "start_time": "2023-04-20T20:17:43.579Z"
   },
   {
    "duration": 127,
    "start_time": "2023-04-20T20:18:12.113Z"
   },
   {
    "duration": 18,
    "start_time": "2023-04-20T20:19:10.320Z"
   },
   {
    "duration": 119,
    "start_time": "2023-04-20T20:19:24.963Z"
   },
   {
    "duration": 819,
    "start_time": "2023-04-20T20:19:44.789Z"
   },
   {
    "duration": 5,
    "start_time": "2023-04-20T20:20:53.455Z"
   },
   {
    "duration": 3,
    "start_time": "2023-04-20T20:21:25.342Z"
   },
   {
    "duration": 98,
    "start_time": "2023-04-20T20:22:09.376Z"
   },
   {
    "duration": 62,
    "start_time": "2023-04-20T20:23:23.809Z"
   },
   {
    "duration": 84,
    "start_time": "2023-04-20T20:23:37.431Z"
   },
   {
    "duration": 5,
    "start_time": "2023-04-20T20:23:44.822Z"
   },
   {
    "duration": 90,
    "start_time": "2023-04-20T20:23:55.814Z"
   },
   {
    "duration": 88,
    "start_time": "2023-04-20T20:24:06.149Z"
   },
   {
    "duration": 82,
    "start_time": "2023-04-20T20:24:34.368Z"
   },
   {
    "duration": 79,
    "start_time": "2023-04-20T20:24:46.434Z"
   },
   {
    "duration": 3,
    "start_time": "2023-04-20T20:24:56.496Z"
   },
   {
    "duration": 2788,
    "start_time": "2023-04-20T20:28:47.879Z"
   },
   {
    "duration": 116,
    "start_time": "2023-04-20T20:29:35.269Z"
   },
   {
    "duration": 32,
    "start_time": "2023-04-20T20:30:05.140Z"
   },
   {
    "duration": 5,
    "start_time": "2023-04-20T20:30:16.196Z"
   },
   {
    "duration": 112,
    "start_time": "2023-04-20T20:30:18.556Z"
   },
   {
    "duration": 6,
    "start_time": "2023-04-20T20:30:24.702Z"
   },
   {
    "duration": 143,
    "start_time": "2023-04-20T20:30:26.719Z"
   },
   {
    "duration": 31,
    "start_time": "2023-04-20T20:31:10.742Z"
   },
   {
    "duration": 13,
    "start_time": "2023-04-20T20:31:26.414Z"
   },
   {
    "duration": 263,
    "start_time": "2023-04-20T20:33:47.202Z"
   },
   {
    "duration": 267,
    "start_time": "2023-04-20T20:33:51.601Z"
   },
   {
    "duration": 49,
    "start_time": "2023-04-20T20:35:38.296Z"
   },
   {
    "duration": 297,
    "start_time": "2023-04-20T20:37:14.376Z"
   },
   {
    "duration": 149,
    "start_time": "2023-04-20T20:37:17.240Z"
   },
   {
    "duration": 127,
    "start_time": "2023-04-20T20:37:30.830Z"
   },
   {
    "duration": 83,
    "start_time": "2023-04-20T20:37:36.268Z"
   },
   {
    "duration": 131,
    "start_time": "2023-04-20T20:37:38.574Z"
   },
   {
    "duration": 76,
    "start_time": "2023-04-20T20:38:19.639Z"
   },
   {
    "duration": 80,
    "start_time": "2023-04-20T20:38:35.612Z"
   },
   {
    "duration": 4,
    "start_time": "2023-04-20T20:39:12.656Z"
   },
   {
    "duration": 1377,
    "start_time": "2023-04-20T20:41:43.780Z"
   },
   {
    "duration": 735,
    "start_time": "2023-04-20T20:41:45.159Z"
   },
   {
    "duration": 24,
    "start_time": "2023-04-20T20:41:45.896Z"
   },
   {
    "duration": 17,
    "start_time": "2023-04-20T20:41:45.922Z"
   },
   {
    "duration": 41,
    "start_time": "2023-04-20T20:41:45.940Z"
   },
   {
    "duration": 13,
    "start_time": "2023-04-20T20:41:45.983Z"
   },
   {
    "duration": 20,
    "start_time": "2023-04-20T20:41:45.997Z"
   },
   {
    "duration": 44,
    "start_time": "2023-04-20T20:41:46.019Z"
   },
   {
    "duration": 12,
    "start_time": "2023-04-20T20:41:46.065Z"
   },
   {
    "duration": 8,
    "start_time": "2023-04-20T20:41:46.080Z"
   },
   {
    "duration": 9,
    "start_time": "2023-04-20T20:41:46.089Z"
   },
   {
    "duration": 4,
    "start_time": "2023-04-20T20:41:46.100Z"
   },
   {
    "duration": 6,
    "start_time": "2023-04-20T20:41:46.106Z"
   },
   {
    "duration": 7,
    "start_time": "2023-04-20T20:41:46.114Z"
   },
   {
    "duration": 50,
    "start_time": "2023-04-20T20:41:46.123Z"
   },
   {
    "duration": 319,
    "start_time": "2023-04-20T20:41:46.174Z"
   },
   {
    "duration": 264,
    "start_time": "2023-04-20T20:41:46.495Z"
   },
   {
    "duration": 9,
    "start_time": "2023-04-20T20:41:46.762Z"
   },
   {
    "duration": 517,
    "start_time": "2023-04-20T20:41:46.773Z"
   },
   {
    "duration": 7,
    "start_time": "2023-04-20T20:41:47.292Z"
   },
   {
    "duration": 412,
    "start_time": "2023-04-20T20:41:47.300Z"
   },
   {
    "duration": 28,
    "start_time": "2023-04-20T20:41:47.714Z"
   },
   {
    "duration": 7,
    "start_time": "2023-04-20T20:41:47.744Z"
   },
   {
    "duration": 7,
    "start_time": "2023-04-20T20:41:47.753Z"
   },
   {
    "duration": 216,
    "start_time": "2023-04-20T20:41:47.762Z"
   },
   {
    "duration": 628,
    "start_time": "2023-04-20T20:41:47.980Z"
   },
   {
    "duration": 6,
    "start_time": "2023-04-20T20:41:48.609Z"
   },
   {
    "duration": 8,
    "start_time": "2023-04-20T20:41:48.618Z"
   },
   {
    "duration": 5,
    "start_time": "2023-04-20T20:41:48.627Z"
   },
   {
    "duration": 35,
    "start_time": "2023-04-20T20:41:48.633Z"
   },
   {
    "duration": 126,
    "start_time": "2023-04-20T20:41:48.669Z"
   },
   {
    "duration": 262,
    "start_time": "2023-04-20T20:41:48.797Z"
   },
   {
    "duration": 10,
    "start_time": "2023-04-20T20:41:49.062Z"
   },
   {
    "duration": 7,
    "start_time": "2023-04-20T20:41:49.074Z"
   },
   {
    "duration": 4,
    "start_time": "2023-04-20T20:41:49.082Z"
   },
   {
    "duration": 8,
    "start_time": "2023-04-20T20:41:49.088Z"
   },
   {
    "duration": 4,
    "start_time": "2023-04-20T20:41:49.097Z"
   },
   {
    "duration": 6,
    "start_time": "2023-04-20T20:41:49.102Z"
   },
   {
    "duration": 6,
    "start_time": "2023-04-20T20:41:49.110Z"
   },
   {
    "duration": 53,
    "start_time": "2023-04-20T20:41:49.118Z"
   },
   {
    "duration": 3,
    "start_time": "2023-04-20T20:41:49.173Z"
   },
   {
    "duration": 457,
    "start_time": "2023-04-20T20:41:49.178Z"
   },
   {
    "duration": 26,
    "start_time": "2023-04-20T20:41:49.637Z"
   },
   {
    "duration": 454,
    "start_time": "2023-04-20T20:41:49.665Z"
   },
   {
    "duration": 435,
    "start_time": "2023-04-20T20:41:50.120Z"
   },
   {
    "duration": 538,
    "start_time": "2023-04-20T20:41:50.556Z"
   },
   {
    "duration": 8,
    "start_time": "2023-04-20T20:41:51.095Z"
   },
   {
    "duration": 477,
    "start_time": "2023-04-20T20:41:51.104Z"
   },
   {
    "duration": 20,
    "start_time": "2023-04-20T20:41:51.583Z"
   },
   {
    "duration": 11,
    "start_time": "2023-04-20T20:41:51.604Z"
   },
   {
    "duration": 370,
    "start_time": "2023-04-20T20:41:51.617Z"
   },
   {
    "duration": 4,
    "start_time": "2023-04-20T20:41:51.989Z"
   },
   {
    "duration": 15,
    "start_time": "2023-04-20T20:41:51.995Z"
   },
   {
    "duration": 13,
    "start_time": "2023-04-20T20:41:52.011Z"
   },
   {
    "duration": 13,
    "start_time": "2023-04-20T20:41:52.025Z"
   },
   {
    "duration": 2032,
    "start_time": "2023-04-20T20:41:52.040Z"
   },
   {
    "duration": 18540,
    "start_time": "2023-04-20T20:41:54.074Z"
   },
   {
    "duration": 3856,
    "start_time": "2023-04-20T20:42:12.616Z"
   },
   {
    "duration": 45302,
    "start_time": "2023-04-20T20:42:16.474Z"
   },
   {
    "duration": 2891,
    "start_time": "2023-04-20T20:43:01.778Z"
   },
   {
    "duration": 2000,
    "start_time": "2023-04-20T20:43:04.671Z"
   },
   {
    "duration": 14995,
    "start_time": "2023-04-20T20:43:06.673Z"
   },
   {
    "duration": 97,
    "start_time": "2023-04-20T20:43:21.670Z"
   },
   {
    "duration": 107,
    "start_time": "2023-04-20T20:43:21.770Z"
   },
   {
    "duration": 289,
    "start_time": "2023-04-20T20:43:21.880Z"
   },
   {
    "duration": 16,
    "start_time": "2023-04-20T20:43:22.263Z"
   },
   {
    "duration": 5,
    "start_time": "2023-04-20T20:43:22.281Z"
   },
   {
    "duration": 125,
    "start_time": "2023-04-20T20:43:22.287Z"
   },
   {
    "duration": 0,
    "start_time": "2023-04-20T20:43:22.413Z"
   },
   {
    "duration": 0,
    "start_time": "2023-04-20T20:43:22.414Z"
   },
   {
    "duration": 0,
    "start_time": "2023-04-20T20:43:22.415Z"
   },
   {
    "duration": 0,
    "start_time": "2023-04-20T20:43:22.416Z"
   },
   {
    "duration": 0,
    "start_time": "2023-04-20T20:43:22.417Z"
   },
   {
    "duration": 0,
    "start_time": "2023-04-20T20:43:22.418Z"
   },
   {
    "duration": 112,
    "start_time": "2023-04-20T20:47:42.808Z"
   },
   {
    "duration": 10,
    "start_time": "2023-04-20T20:47:45.818Z"
   },
   {
    "duration": 1620,
    "start_time": "2023-04-20T20:47:58.649Z"
   },
   {
    "duration": 89,
    "start_time": "2023-04-20T20:48:17.098Z"
   },
   {
    "duration": 4,
    "start_time": "2023-04-20T20:48:20.909Z"
   },
   {
    "duration": 12,
    "start_time": "2023-04-20T20:48:24.706Z"
   },
   {
    "duration": 5,
    "start_time": "2023-04-20T20:48:37.961Z"
   },
   {
    "duration": 5,
    "start_time": "2023-04-20T20:48:46.188Z"
   },
   {
    "duration": 13,
    "start_time": "2023-04-20T20:48:51.226Z"
   },
   {
    "duration": 142,
    "start_time": "2023-04-20T20:49:04.111Z"
   },
   {
    "duration": 98,
    "start_time": "2023-04-20T20:49:16.554Z"
   },
   {
    "duration": 2201,
    "start_time": "2023-04-21T20:22:21.865Z"
   },
   {
    "duration": 814,
    "start_time": "2023-04-21T20:22:24.068Z"
   },
   {
    "duration": 37,
    "start_time": "2023-04-21T20:22:24.890Z"
   },
   {
    "duration": 22,
    "start_time": "2023-04-21T20:22:24.929Z"
   },
   {
    "duration": 40,
    "start_time": "2023-04-21T20:22:24.953Z"
   },
   {
    "duration": 36,
    "start_time": "2023-04-21T20:22:24.995Z"
   },
   {
    "duration": 33,
    "start_time": "2023-04-21T20:22:25.033Z"
   },
   {
    "duration": 19,
    "start_time": "2023-04-21T20:22:25.068Z"
   },
   {
    "duration": 22,
    "start_time": "2023-04-21T20:22:25.089Z"
   },
   {
    "duration": 29,
    "start_time": "2023-04-21T20:22:25.114Z"
   },
   {
    "duration": 56,
    "start_time": "2023-04-21T20:22:25.144Z"
   },
   {
    "duration": 17,
    "start_time": "2023-04-21T20:22:25.205Z"
   },
   {
    "duration": 7,
    "start_time": "2023-04-21T20:22:25.223Z"
   },
   {
    "duration": 10,
    "start_time": "2023-04-21T20:22:25.231Z"
   },
   {
    "duration": 17,
    "start_time": "2023-04-21T20:22:25.243Z"
   },
   {
    "duration": 349,
    "start_time": "2023-04-21T20:22:25.261Z"
   },
   {
    "duration": 288,
    "start_time": "2023-04-21T20:22:25.612Z"
   },
   {
    "duration": 10,
    "start_time": "2023-04-21T20:22:25.903Z"
   },
   {
    "duration": 580,
    "start_time": "2023-04-21T20:22:25.915Z"
   },
   {
    "duration": 8,
    "start_time": "2023-04-21T20:22:26.497Z"
   },
   {
    "duration": 337,
    "start_time": "2023-04-21T20:22:26.507Z"
   },
   {
    "duration": 25,
    "start_time": "2023-04-21T20:22:26.846Z"
   },
   {
    "duration": 18,
    "start_time": "2023-04-21T20:22:26.883Z"
   },
   {
    "duration": 20,
    "start_time": "2023-04-21T20:22:26.903Z"
   },
   {
    "duration": 226,
    "start_time": "2023-04-21T20:22:26.925Z"
   },
   {
    "duration": 659,
    "start_time": "2023-04-21T20:22:27.152Z"
   },
   {
    "duration": 5,
    "start_time": "2023-04-21T20:22:27.813Z"
   },
   {
    "duration": 8,
    "start_time": "2023-04-21T20:22:27.820Z"
   },
   {
    "duration": 7,
    "start_time": "2023-04-21T20:22:27.830Z"
   },
   {
    "duration": 13,
    "start_time": "2023-04-21T20:22:27.838Z"
   },
   {
    "duration": 144,
    "start_time": "2023-04-21T20:22:27.852Z"
   },
   {
    "duration": 258,
    "start_time": "2023-04-21T20:22:27.999Z"
   },
   {
    "duration": 9,
    "start_time": "2023-04-21T20:22:28.259Z"
   },
   {
    "duration": 36,
    "start_time": "2023-04-21T20:22:28.270Z"
   },
   {
    "duration": 11,
    "start_time": "2023-04-21T20:22:28.307Z"
   },
   {
    "duration": 11,
    "start_time": "2023-04-21T20:22:28.320Z"
   },
   {
    "duration": 4,
    "start_time": "2023-04-21T20:22:28.333Z"
   },
   {
    "duration": 21,
    "start_time": "2023-04-21T20:22:28.338Z"
   },
   {
    "duration": 7,
    "start_time": "2023-04-21T20:22:28.732Z"
   },
   {
    "duration": 10,
    "start_time": "2023-04-21T20:22:28.910Z"
   },
   {
    "duration": 4,
    "start_time": "2023-04-21T20:22:29.325Z"
   },
   {
    "duration": 509,
    "start_time": "2023-04-21T20:22:29.405Z"
   },
   {
    "duration": 13,
    "start_time": "2023-04-21T20:22:29.916Z"
   },
   {
    "duration": 584,
    "start_time": "2023-04-21T20:22:29.931Z"
   },
   {
    "duration": 593,
    "start_time": "2023-04-21T20:22:30.518Z"
   },
   {
    "duration": 625,
    "start_time": "2023-04-21T20:22:31.113Z"
   },
   {
    "duration": 7,
    "start_time": "2023-04-21T20:22:31.740Z"
   },
   {
    "duration": 589,
    "start_time": "2023-04-21T20:22:31.749Z"
   },
   {
    "duration": 20,
    "start_time": "2023-04-21T20:22:32.340Z"
   },
   {
    "duration": 33,
    "start_time": "2023-04-21T20:22:32.362Z"
   },
   {
    "duration": 452,
    "start_time": "2023-04-21T20:22:32.397Z"
   },
   {
    "duration": 4,
    "start_time": "2023-04-21T20:22:32.851Z"
   },
   {
    "duration": 11,
    "start_time": "2023-04-21T20:22:33.008Z"
   },
   {
    "duration": 7,
    "start_time": "2023-04-21T20:22:33.351Z"
   },
   {
    "duration": 3,
    "start_time": "2023-04-21T20:22:33.846Z"
   },
   {
    "duration": 1759,
    "start_time": "2023-04-21T20:22:34.352Z"
   },
   {
    "duration": 21218,
    "start_time": "2023-04-21T20:22:36.117Z"
   },
   {
    "duration": 3753,
    "start_time": "2023-04-21T20:22:57.337Z"
   },
   {
    "duration": 59368,
    "start_time": "2023-04-21T20:23:01.093Z"
   },
   {
    "duration": 5431,
    "start_time": "2023-04-21T20:24:00.462Z"
   },
   {
    "duration": 2604,
    "start_time": "2023-04-21T20:24:05.896Z"
   },
   {
    "duration": 49098,
    "start_time": "2023-04-21T20:24:08.502Z"
   },
   {
    "duration": 5,
    "start_time": "2023-04-21T20:25:26.410Z"
   },
   {
    "duration": 5,
    "start_time": "2023-04-21T20:27:36.453Z"
   },
   {
    "duration": 4,
    "start_time": "2023-04-21T20:27:41.577Z"
   },
   {
    "duration": 110,
    "start_time": "2023-04-21T20:27:47.354Z"
   },
   {
    "duration": 12,
    "start_time": "2023-04-21T20:27:50.482Z"
   },
   {
    "duration": 1935,
    "start_time": "2023-04-21T20:28:05.579Z"
   },
   {
    "duration": 2068,
    "start_time": "2023-04-21T20:28:38.879Z"
   },
   {
    "duration": 2423,
    "start_time": "2023-04-21T20:29:03.209Z"
   },
   {
    "duration": 778,
    "start_time": "2023-04-21T20:29:05.635Z"
   },
   {
    "duration": 25,
    "start_time": "2023-04-21T20:29:06.415Z"
   },
   {
    "duration": 17,
    "start_time": "2023-04-21T20:29:06.442Z"
   },
   {
    "duration": 45,
    "start_time": "2023-04-21T20:29:06.461Z"
   },
   {
    "duration": 20,
    "start_time": "2023-04-21T20:29:06.512Z"
   },
   {
    "duration": 19,
    "start_time": "2023-04-21T20:29:06.533Z"
   },
   {
    "duration": 15,
    "start_time": "2023-04-21T20:29:06.554Z"
   },
   {
    "duration": 32,
    "start_time": "2023-04-21T20:29:06.570Z"
   },
   {
    "duration": 16,
    "start_time": "2023-04-21T20:29:06.604Z"
   },
   {
    "duration": 16,
    "start_time": "2023-04-21T20:29:06.622Z"
   },
   {
    "duration": 12,
    "start_time": "2023-04-21T20:29:06.640Z"
   },
   {
    "duration": 5,
    "start_time": "2023-04-21T20:29:06.653Z"
   },
   {
    "duration": 6,
    "start_time": "2023-04-21T20:29:06.660Z"
   },
   {
    "duration": 25,
    "start_time": "2023-04-21T20:29:06.668Z"
   },
   {
    "duration": 387,
    "start_time": "2023-04-21T20:29:06.694Z"
   },
   {
    "duration": 294,
    "start_time": "2023-04-21T20:29:07.084Z"
   },
   {
    "duration": 25,
    "start_time": "2023-04-21T20:29:07.380Z"
   },
   {
    "duration": 607,
    "start_time": "2023-04-21T20:29:07.407Z"
   },
   {
    "duration": 7,
    "start_time": "2023-04-21T20:29:08.016Z"
   },
   {
    "duration": 342,
    "start_time": "2023-04-21T20:29:08.026Z"
   },
   {
    "duration": 45,
    "start_time": "2023-04-21T20:29:08.370Z"
   },
   {
    "duration": 12,
    "start_time": "2023-04-21T20:29:08.419Z"
   },
   {
    "duration": 10,
    "start_time": "2023-04-21T20:29:08.433Z"
   },
   {
    "duration": 256,
    "start_time": "2023-04-21T20:29:08.445Z"
   },
   {
    "duration": 674,
    "start_time": "2023-04-21T20:29:08.704Z"
   },
   {
    "duration": 23,
    "start_time": "2023-04-21T20:29:09.379Z"
   },
   {
    "duration": 15,
    "start_time": "2023-04-21T20:29:09.407Z"
   },
   {
    "duration": 6,
    "start_time": "2023-04-21T20:29:09.425Z"
   },
   {
    "duration": 12,
    "start_time": "2023-04-21T20:29:09.432Z"
   },
   {
    "duration": 154,
    "start_time": "2023-04-21T20:29:09.446Z"
   },
   {
    "duration": 281,
    "start_time": "2023-04-21T20:29:09.605Z"
   },
   {
    "duration": 10,
    "start_time": "2023-04-21T20:29:10.457Z"
   },
   {
    "duration": 8,
    "start_time": "2023-04-21T20:29:10.729Z"
   },
   {
    "duration": 5,
    "start_time": "2023-04-21T20:29:11.237Z"
   },
   {
    "duration": 18,
    "start_time": "2023-04-21T20:29:11.380Z"
   },
   {
    "duration": 4,
    "start_time": "2023-04-21T20:29:11.713Z"
   },
   {
    "duration": 12,
    "start_time": "2023-04-21T20:29:11.718Z"
   },
   {
    "duration": 11,
    "start_time": "2023-04-21T20:29:13.397Z"
   },
   {
    "duration": 30,
    "start_time": "2023-04-21T20:29:13.781Z"
   },
   {
    "duration": 5,
    "start_time": "2023-04-21T20:29:25.728Z"
   },
   {
    "duration": 530,
    "start_time": "2023-04-21T20:29:26.078Z"
   },
   {
    "duration": 15,
    "start_time": "2023-04-21T20:29:26.611Z"
   },
   {
    "duration": 534,
    "start_time": "2023-04-21T20:29:26.834Z"
   },
   {
    "duration": 492,
    "start_time": "2023-04-21T20:29:27.370Z"
   },
   {
    "duration": 593,
    "start_time": "2023-04-21T20:29:27.864Z"
   },
   {
    "duration": 7,
    "start_time": "2023-04-21T20:29:28.459Z"
   },
   {
    "duration": 416,
    "start_time": "2023-04-21T20:29:29.523Z"
   },
   {
    "duration": 20,
    "start_time": "2023-04-21T20:29:31.238Z"
   },
   {
    "duration": 6,
    "start_time": "2023-04-21T20:29:31.433Z"
   },
   {
    "duration": 400,
    "start_time": "2023-04-21T20:29:31.810Z"
   },
   {
    "duration": 8,
    "start_time": "2023-04-21T20:29:34.781Z"
   },
   {
    "duration": 11,
    "start_time": "2023-04-21T20:29:36.093Z"
   },
   {
    "duration": 8,
    "start_time": "2023-04-21T20:29:39.617Z"
   },
   {
    "duration": 4,
    "start_time": "2023-04-21T20:29:45.923Z"
   },
   {
    "duration": 10,
    "start_time": "2023-04-21T20:29:49.779Z"
   },
   {
    "duration": 4,
    "start_time": "2023-04-21T20:29:59.316Z"
   },
   {
    "duration": 1930,
    "start_time": "2023-04-21T20:30:13.409Z"
   },
   {
    "duration": 5,
    "start_time": "2023-04-21T20:30:41.137Z"
   },
   {
    "duration": 6,
    "start_time": "2023-04-21T20:30:44.936Z"
   },
   {
    "duration": 7,
    "start_time": "2023-04-21T20:30:46.253Z"
   },
   {
    "duration": 4,
    "start_time": "2023-04-21T20:30:50.533Z"
   },
   {
    "duration": 79,
    "start_time": "2023-04-21T23:10:19.133Z"
   },
   {
    "duration": 2274,
    "start_time": "2023-04-21T23:10:25.418Z"
   },
   {
    "duration": 4079,
    "start_time": "2023-04-21T23:10:27.697Z"
   },
   {
    "duration": 37,
    "start_time": "2023-04-21T23:10:31.778Z"
   },
   {
    "duration": 27,
    "start_time": "2023-04-21T23:10:31.818Z"
   },
   {
    "duration": 48,
    "start_time": "2023-04-21T23:10:31.847Z"
   },
   {
    "duration": 34,
    "start_time": "2023-04-21T23:10:31.897Z"
   },
   {
    "duration": 42,
    "start_time": "2023-04-21T23:10:31.933Z"
   },
   {
    "duration": 35,
    "start_time": "2023-04-21T23:10:31.977Z"
   },
   {
    "duration": 18,
    "start_time": "2023-04-21T23:10:32.014Z"
   },
   {
    "duration": 11,
    "start_time": "2023-04-21T23:10:32.036Z"
   },
   {
    "duration": 24,
    "start_time": "2023-04-21T23:10:32.049Z"
   },
   {
    "duration": 12,
    "start_time": "2023-04-21T23:10:32.088Z"
   },
   {
    "duration": 19,
    "start_time": "2023-04-21T23:10:32.103Z"
   },
   {
    "duration": 23,
    "start_time": "2023-04-21T23:10:32.125Z"
   },
   {
    "duration": 29,
    "start_time": "2023-04-21T23:10:32.150Z"
   },
   {
    "duration": 362,
    "start_time": "2023-04-21T23:10:32.181Z"
   },
   {
    "duration": 441,
    "start_time": "2023-04-21T23:10:32.546Z"
   },
   {
    "duration": 13,
    "start_time": "2023-04-21T23:10:32.990Z"
   },
   {
    "duration": 902,
    "start_time": "2023-04-21T23:10:33.005Z"
   },
   {
    "duration": 8,
    "start_time": "2023-04-21T23:10:33.910Z"
   },
   {
    "duration": 577,
    "start_time": "2023-04-21T23:10:33.920Z"
   },
   {
    "duration": 40,
    "start_time": "2023-04-21T23:10:34.500Z"
   },
   {
    "duration": 14,
    "start_time": "2023-04-21T23:10:34.542Z"
   },
   {
    "duration": 34,
    "start_time": "2023-04-21T23:10:34.559Z"
   },
   {
    "duration": 390,
    "start_time": "2023-04-21T23:10:34.595Z"
   },
   {
    "duration": 1080,
    "start_time": "2023-04-21T23:10:34.987Z"
   },
   {
    "duration": 7,
    "start_time": "2023-04-21T23:10:36.069Z"
   },
   {
    "duration": 11,
    "start_time": "2023-04-21T23:10:36.091Z"
   },
   {
    "duration": 14,
    "start_time": "2023-04-21T23:10:36.104Z"
   },
   {
    "duration": 24,
    "start_time": "2023-04-21T23:10:36.120Z"
   },
   {
    "duration": 203,
    "start_time": "2023-04-21T23:10:36.146Z"
   },
   {
    "duration": 433,
    "start_time": "2023-04-21T23:10:36.351Z"
   },
   {
    "duration": 14,
    "start_time": "2023-04-21T23:10:36.788Z"
   },
   {
    "duration": 30,
    "start_time": "2023-04-21T23:10:36.804Z"
   },
   {
    "duration": 24,
    "start_time": "2023-04-21T23:10:36.835Z"
   },
   {
    "duration": 15,
    "start_time": "2023-04-21T23:10:36.861Z"
   },
   {
    "duration": 9,
    "start_time": "2023-04-21T23:10:36.879Z"
   },
   {
    "duration": 17,
    "start_time": "2023-04-21T23:10:36.891Z"
   },
   {
    "duration": 19,
    "start_time": "2023-04-21T23:10:36.910Z"
   },
   {
    "duration": 23,
    "start_time": "2023-04-21T23:10:36.931Z"
   },
   {
    "duration": 5,
    "start_time": "2023-04-21T23:10:36.957Z"
   },
   {
    "duration": 786,
    "start_time": "2023-04-21T23:10:36.964Z"
   },
   {
    "duration": 21,
    "start_time": "2023-04-21T23:10:37.752Z"
   },
   {
    "duration": 771,
    "start_time": "2023-04-21T23:10:37.787Z"
   },
   {
    "duration": 774,
    "start_time": "2023-04-21T23:10:38.560Z"
   },
   {
    "duration": 922,
    "start_time": "2023-04-21T23:10:39.336Z"
   },
   {
    "duration": 12,
    "start_time": "2023-04-21T23:10:40.260Z"
   },
   {
    "duration": 585,
    "start_time": "2023-04-21T23:10:40.274Z"
   },
   {
    "duration": 589,
    "start_time": "2023-04-21T23:10:40.862Z"
   },
   {
    "duration": 431,
    "start_time": "2023-04-21T23:32:55.969Z"
   },
   {
    "duration": 89,
    "start_time": "2023-04-21T23:34:02.167Z"
   },
   {
    "duration": 5,
    "start_time": "2023-04-21T23:34:06.212Z"
   },
   {
    "duration": 840,
    "start_time": "2023-04-21T23:34:06.219Z"
   },
   {
    "duration": 27,
    "start_time": "2023-04-21T23:34:07.061Z"
   },
   {
    "duration": 18,
    "start_time": "2023-04-21T23:34:07.090Z"
   },
   {
    "duration": 23,
    "start_time": "2023-04-21T23:34:07.111Z"
   },
   {
    "duration": 15,
    "start_time": "2023-04-21T23:34:07.136Z"
   },
   {
    "duration": 56,
    "start_time": "2023-04-21T23:34:07.154Z"
   },
   {
    "duration": 20,
    "start_time": "2023-04-21T23:34:07.212Z"
   },
   {
    "duration": 11,
    "start_time": "2023-04-21T23:34:07.234Z"
   },
   {
    "duration": 42,
    "start_time": "2023-04-21T23:34:07.247Z"
   },
   {
    "duration": 10,
    "start_time": "2023-04-21T23:34:07.292Z"
   },
   {
    "duration": 11,
    "start_time": "2023-04-21T23:34:07.304Z"
   },
   {
    "duration": 9,
    "start_time": "2023-04-21T23:34:07.316Z"
   },
   {
    "duration": 10,
    "start_time": "2023-04-21T23:34:07.327Z"
   },
   {
    "duration": 49,
    "start_time": "2023-04-21T23:34:07.339Z"
   },
   {
    "duration": 354,
    "start_time": "2023-04-21T23:34:07.390Z"
   },
   {
    "duration": 304,
    "start_time": "2023-04-21T23:34:07.746Z"
   },
   {
    "duration": 11,
    "start_time": "2023-04-21T23:34:08.053Z"
   },
   {
    "duration": 501,
    "start_time": "2023-04-21T23:34:08.066Z"
   },
   {
    "duration": 7,
    "start_time": "2023-04-21T23:34:08.569Z"
   },
   {
    "duration": 472,
    "start_time": "2023-04-21T23:34:08.577Z"
   },
   {
    "duration": 40,
    "start_time": "2023-04-21T23:34:09.052Z"
   },
   {
    "duration": 10,
    "start_time": "2023-04-21T23:34:09.094Z"
   },
   {
    "duration": 10,
    "start_time": "2023-04-21T23:34:09.106Z"
   },
   {
    "duration": 281,
    "start_time": "2023-04-21T23:34:09.118Z"
   },
   {
    "duration": 732,
    "start_time": "2023-04-21T23:34:09.402Z"
   },
   {
    "duration": 6,
    "start_time": "2023-04-21T23:34:10.135Z"
   },
   {
    "duration": 13,
    "start_time": "2023-04-21T23:34:10.143Z"
   },
   {
    "duration": 215,
    "start_time": "2023-04-21T23:34:10.159Z"
   },
   {
    "duration": 22,
    "start_time": "2023-04-21T23:34:10.375Z"
   },
   {
    "duration": 214,
    "start_time": "2023-04-21T23:34:10.399Z"
   },
   {
    "duration": 239,
    "start_time": "2023-04-21T23:34:10.615Z"
   },
   {
    "duration": 11,
    "start_time": "2023-04-21T23:34:10.856Z"
   },
   {
    "duration": 21,
    "start_time": "2023-04-21T23:34:10.869Z"
   },
   {
    "duration": 6,
    "start_time": "2023-04-21T23:34:10.892Z"
   },
   {
    "duration": 14,
    "start_time": "2023-04-21T23:34:10.900Z"
   },
   {
    "duration": 6,
    "start_time": "2023-04-21T23:34:10.917Z"
   },
   {
    "duration": 11,
    "start_time": "2023-04-21T23:34:10.925Z"
   },
   {
    "duration": 12,
    "start_time": "2023-04-21T23:34:10.938Z"
   },
   {
    "duration": 14,
    "start_time": "2023-04-21T23:34:10.989Z"
   },
   {
    "duration": 5,
    "start_time": "2023-04-21T23:34:11.005Z"
   },
   {
    "duration": 693,
    "start_time": "2023-04-21T23:34:11.012Z"
   },
   {
    "duration": 20,
    "start_time": "2023-04-21T23:34:11.707Z"
   },
   {
    "duration": 596,
    "start_time": "2023-04-21T23:34:11.729Z"
   },
   {
    "duration": 556,
    "start_time": "2023-04-21T23:34:12.327Z"
   },
   {
    "duration": 530,
    "start_time": "2023-04-21T23:34:12.887Z"
   },
   {
    "duration": 9,
    "start_time": "2023-04-21T23:34:13.419Z"
   },
   {
    "duration": 788,
    "start_time": "2023-04-21T23:34:13.431Z"
   },
   {
    "duration": 518,
    "start_time": "2023-04-21T23:34:14.221Z"
   },
   {
    "duration": 25,
    "start_time": "2023-04-21T23:34:14.741Z"
   },
   {
    "duration": 21,
    "start_time": "2023-04-21T23:34:14.768Z"
   },
   {
    "duration": 457,
    "start_time": "2023-04-21T23:34:14.791Z"
   },
   {
    "duration": 5,
    "start_time": "2023-04-21T23:34:15.251Z"
   },
   {
    "duration": 17,
    "start_time": "2023-04-21T23:34:15.258Z"
   },
   {
    "duration": 10,
    "start_time": "2023-04-21T23:37:35.555Z"
   },
   {
    "duration": 5,
    "start_time": "2023-04-21T23:37:39.344Z"
   },
   {
    "duration": 6,
    "start_time": "2023-04-21T23:38:01.238Z"
   },
   {
    "duration": 883,
    "start_time": "2023-04-21T23:38:01.246Z"
   },
   {
    "duration": 24,
    "start_time": "2023-04-21T23:38:02.132Z"
   },
   {
    "duration": 37,
    "start_time": "2023-04-21T23:38:02.158Z"
   },
   {
    "duration": 26,
    "start_time": "2023-04-21T23:38:02.198Z"
   },
   {
    "duration": 33,
    "start_time": "2023-04-21T23:38:02.226Z"
   },
   {
    "duration": 43,
    "start_time": "2023-04-21T23:38:02.261Z"
   },
   {
    "duration": 42,
    "start_time": "2023-04-21T23:38:02.306Z"
   },
   {
    "duration": 39,
    "start_time": "2023-04-21T23:38:02.350Z"
   },
   {
    "duration": 27,
    "start_time": "2023-04-21T23:38:02.390Z"
   },
   {
    "duration": 43,
    "start_time": "2023-04-21T23:38:02.420Z"
   },
   {
    "duration": 34,
    "start_time": "2023-04-21T23:38:02.465Z"
   },
   {
    "duration": 25,
    "start_time": "2023-04-21T23:38:02.502Z"
   },
   {
    "duration": 32,
    "start_time": "2023-04-21T23:38:02.529Z"
   },
   {
    "duration": 48,
    "start_time": "2023-04-21T23:38:02.563Z"
   },
   {
    "duration": 349,
    "start_time": "2023-04-21T23:38:02.614Z"
   },
   {
    "duration": 307,
    "start_time": "2023-04-21T23:38:02.965Z"
   },
   {
    "duration": 18,
    "start_time": "2023-04-21T23:38:03.275Z"
   },
   {
    "duration": 453,
    "start_time": "2023-04-21T23:38:03.295Z"
   },
   {
    "duration": 7,
    "start_time": "2023-04-21T23:38:03.749Z"
   },
   {
    "duration": 490,
    "start_time": "2023-04-21T23:38:03.758Z"
   },
   {
    "duration": 48,
    "start_time": "2023-04-21T23:38:04.250Z"
   },
   {
    "duration": 12,
    "start_time": "2023-04-21T23:38:04.300Z"
   },
   {
    "duration": 13,
    "start_time": "2023-04-21T23:38:04.317Z"
   },
   {
    "duration": 308,
    "start_time": "2023-04-21T23:38:04.332Z"
   },
   {
    "duration": 728,
    "start_time": "2023-04-21T23:38:04.642Z"
   },
   {
    "duration": 16,
    "start_time": "2023-04-21T23:38:05.372Z"
   },
   {
    "duration": 10,
    "start_time": "2023-04-21T23:38:05.390Z"
   },
   {
    "duration": 5,
    "start_time": "2023-04-21T23:38:05.405Z"
   },
   {
    "duration": 15,
    "start_time": "2023-04-21T23:38:05.412Z"
   },
   {
    "duration": 175,
    "start_time": "2023-04-21T23:38:05.429Z"
   },
   {
    "duration": 246,
    "start_time": "2023-04-21T23:38:05.606Z"
   },
   {
    "duration": 12,
    "start_time": "2023-04-21T23:38:05.854Z"
   },
   {
    "duration": 24,
    "start_time": "2023-04-21T23:38:05.868Z"
   },
   {
    "duration": 7,
    "start_time": "2023-04-21T23:38:05.894Z"
   },
   {
    "duration": 17,
    "start_time": "2023-04-21T23:38:05.903Z"
   },
   {
    "duration": 12,
    "start_time": "2023-04-21T23:38:05.922Z"
   },
   {
    "duration": 30,
    "start_time": "2023-04-21T23:38:05.936Z"
   },
   {
    "duration": 26,
    "start_time": "2023-04-21T23:38:05.968Z"
   },
   {
    "duration": 16,
    "start_time": "2023-04-21T23:38:05.997Z"
   },
   {
    "duration": 8,
    "start_time": "2023-04-21T23:38:06.015Z"
   },
   {
    "duration": 779,
    "start_time": "2023-04-21T23:38:06.025Z"
   },
   {
    "duration": 20,
    "start_time": "2023-04-21T23:38:06.806Z"
   },
   {
    "duration": 557,
    "start_time": "2023-04-21T23:38:06.828Z"
   },
   {
    "duration": 531,
    "start_time": "2023-04-21T23:38:07.387Z"
   },
   {
    "duration": 563,
    "start_time": "2023-04-21T23:38:07.920Z"
   },
   {
    "duration": 11,
    "start_time": "2023-04-21T23:38:08.485Z"
   },
   {
    "duration": 718,
    "start_time": "2023-04-21T23:38:08.498Z"
   },
   {
    "duration": 535,
    "start_time": "2023-04-21T23:38:09.218Z"
   },
   {
    "duration": 37,
    "start_time": "2023-04-21T23:38:09.756Z"
   },
   {
    "duration": 7,
    "start_time": "2023-04-21T23:38:09.795Z"
   },
   {
    "duration": 469,
    "start_time": "2023-04-21T23:38:09.804Z"
   },
   {
    "duration": 7,
    "start_time": "2023-04-21T23:38:10.275Z"
   },
   {
    "duration": 11,
    "start_time": "2023-04-21T23:38:10.287Z"
   },
   {
    "duration": 10,
    "start_time": "2023-04-21T23:38:10.300Z"
   },
   {
    "duration": 5,
    "start_time": "2023-04-21T23:38:10.312Z"
   },
   {
    "duration": 2198,
    "start_time": "2023-04-21T23:38:10.319Z"
   },
   {
    "duration": 21851,
    "start_time": "2023-04-21T23:38:12.519Z"
   },
   {
    "duration": 2340,
    "start_time": "2023-04-21T23:38:34.372Z"
   },
   {
    "duration": 64839,
    "start_time": "2023-04-21T23:38:36.715Z"
   },
   {
    "duration": 3340,
    "start_time": "2023-04-21T23:39:41.557Z"
   },
   {
    "duration": 2819,
    "start_time": "2023-04-21T23:39:44.899Z"
   },
   {
    "duration": 18,
    "start_time": "2023-04-21T23:39:47.720Z"
   },
   {
    "duration": 33735,
    "start_time": "2023-04-21T23:40:38.786Z"
   },
   {
    "duration": 28845,
    "start_time": "2023-04-21T23:41:37.843Z"
   },
   {
    "duration": 8,
    "start_time": "2023-04-21T23:42:25.476Z"
   },
   {
    "duration": 398,
    "start_time": "2023-04-21T23:43:29.110Z"
   },
   {
    "duration": 7,
    "start_time": "2023-04-22T00:13:15.640Z"
   },
   {
    "duration": 5,
    "start_time": "2023-04-22T00:13:18.837Z"
   },
   {
    "duration": 14,
    "start_time": "2023-04-22T00:13:21.782Z"
   },
   {
    "duration": 80,
    "start_time": "2023-04-22T00:13:25.325Z"
   },
   {
    "duration": 21,
    "start_time": "2023-04-22T00:13:29.652Z"
   },
   {
    "duration": 5,
    "start_time": "2023-04-22T00:13:32.505Z"
   },
   {
    "duration": 96,
    "start_time": "2023-04-22T00:13:34.623Z"
   },
   {
    "duration": 88,
    "start_time": "2023-04-22T00:13:36.951Z"
   },
   {
    "duration": 3,
    "start_time": "2023-04-22T00:13:39.585Z"
   },
   {
    "duration": 5,
    "start_time": "2023-04-22T00:13:42.805Z"
   },
   {
    "duration": 7,
    "start_time": "2023-04-22T00:13:44.816Z"
   },
   {
    "duration": 89,
    "start_time": "2023-04-22T00:13:46.956Z"
   },
   {
    "duration": 92,
    "start_time": "2023-04-22T00:13:50.685Z"
   },
   {
    "duration": 5,
    "start_time": "2023-04-22T00:15:03.593Z"
   },
   {
    "duration": 5,
    "start_time": "2023-04-22T00:15:06.656Z"
   },
   {
    "duration": 18,
    "start_time": "2023-04-22T00:15:34.769Z"
   },
   {
    "duration": 90,
    "start_time": "2023-04-22T00:15:57.330Z"
   },
   {
    "duration": 4,
    "start_time": "2023-04-22T00:50:01.839Z"
   },
   {
    "duration": 4,
    "start_time": "2023-04-22T00:50:05.734Z"
   },
   {
    "duration": 121,
    "start_time": "2023-04-22T00:50:11.064Z"
   },
   {
    "duration": 109,
    "start_time": "2023-04-22T00:50:13.239Z"
   },
   {
    "duration": 106,
    "start_time": "2023-04-22T00:50:37.272Z"
   },
   {
    "duration": 6,
    "start_time": "2023-04-22T00:52:56.668Z"
   },
   {
    "duration": 5,
    "start_time": "2023-04-22T00:53:00.836Z"
   },
   {
    "duration": 32800,
    "start_time": "2023-04-22T00:53:17.905Z"
   },
   {
    "duration": 1721,
    "start_time": "2023-04-22T00:54:27.286Z"
   },
   {
    "duration": 845,
    "start_time": "2023-04-22T00:54:29.009Z"
   },
   {
    "duration": 32,
    "start_time": "2023-04-22T00:54:29.856Z"
   },
   {
    "duration": 21,
    "start_time": "2023-04-22T00:54:29.892Z"
   },
   {
    "duration": 27,
    "start_time": "2023-04-22T00:54:29.914Z"
   },
   {
    "duration": 47,
    "start_time": "2023-04-22T00:54:29.943Z"
   },
   {
    "duration": 32,
    "start_time": "2023-04-22T00:54:29.992Z"
   },
   {
    "duration": 21,
    "start_time": "2023-04-22T00:54:30.026Z"
   },
   {
    "duration": 41,
    "start_time": "2023-04-22T00:54:30.049Z"
   },
   {
    "duration": 11,
    "start_time": "2023-04-22T00:54:30.093Z"
   },
   {
    "duration": 28,
    "start_time": "2023-04-22T00:54:30.106Z"
   },
   {
    "duration": 14,
    "start_time": "2023-04-22T00:54:30.136Z"
   },
   {
    "duration": 14,
    "start_time": "2023-04-22T00:54:30.152Z"
   },
   {
    "duration": 26,
    "start_time": "2023-04-22T00:54:30.168Z"
   },
   {
    "duration": 73,
    "start_time": "2023-04-22T00:54:30.197Z"
   },
   {
    "duration": 378,
    "start_time": "2023-04-22T00:54:30.272Z"
   },
   {
    "duration": 384,
    "start_time": "2023-04-22T00:54:30.652Z"
   },
   {
    "duration": 12,
    "start_time": "2023-04-22T00:54:31.038Z"
   },
   {
    "duration": 689,
    "start_time": "2023-04-22T00:54:31.052Z"
   },
   {
    "duration": 8,
    "start_time": "2023-04-22T00:54:31.743Z"
   },
   {
    "duration": 416,
    "start_time": "2023-04-22T00:54:31.752Z"
   },
   {
    "duration": 38,
    "start_time": "2023-04-22T00:54:32.170Z"
   },
   {
    "duration": 11,
    "start_time": "2023-04-22T00:54:32.211Z"
   },
   {
    "duration": 12,
    "start_time": "2023-04-22T00:54:32.224Z"
   },
   {
    "duration": 282,
    "start_time": "2023-04-22T00:54:32.238Z"
   },
   {
    "duration": 678,
    "start_time": "2023-04-22T00:54:32.522Z"
   },
   {
    "duration": 6,
    "start_time": "2023-04-22T00:54:33.203Z"
   },
   {
    "duration": 60,
    "start_time": "2023-04-22T00:54:33.214Z"
   },
   {
    "duration": 13,
    "start_time": "2023-04-22T00:54:33.276Z"
   },
   {
    "duration": 38,
    "start_time": "2023-04-22T00:54:33.291Z"
   },
   {
    "duration": 162,
    "start_time": "2023-04-22T00:54:33.331Z"
   },
   {
    "duration": 322,
    "start_time": "2023-04-22T00:54:33.495Z"
   },
   {
    "duration": 11,
    "start_time": "2023-04-22T00:54:33.819Z"
   },
   {
    "duration": 19,
    "start_time": "2023-04-22T00:54:33.832Z"
   },
   {
    "duration": 17,
    "start_time": "2023-04-22T00:54:33.853Z"
   },
   {
    "duration": 22,
    "start_time": "2023-04-22T00:54:33.872Z"
   },
   {
    "duration": 9,
    "start_time": "2023-04-22T00:54:33.896Z"
   },
   {
    "duration": 26,
    "start_time": "2023-04-22T00:54:33.906Z"
   },
   {
    "duration": 25,
    "start_time": "2023-04-22T00:54:33.934Z"
   },
   {
    "duration": 26,
    "start_time": "2023-04-22T00:54:33.962Z"
   },
   {
    "duration": 21,
    "start_time": "2023-04-22T00:54:33.992Z"
   },
   {
    "duration": 589,
    "start_time": "2023-04-22T00:54:34.015Z"
   },
   {
    "duration": 18,
    "start_time": "2023-04-22T00:54:34.605Z"
   },
   {
    "duration": 584,
    "start_time": "2023-04-22T00:54:34.626Z"
   },
   {
    "duration": 562,
    "start_time": "2023-04-22T00:54:35.213Z"
   },
   {
    "duration": 676,
    "start_time": "2023-04-22T00:54:35.777Z"
   },
   {
    "duration": 10,
    "start_time": "2023-04-22T00:54:36.455Z"
   },
   {
    "duration": 559,
    "start_time": "2023-04-22T00:54:36.467Z"
   },
   {
    "duration": 504,
    "start_time": "2023-04-22T00:54:37.028Z"
   },
   {
    "duration": 22,
    "start_time": "2023-04-22T00:54:37.533Z"
   },
   {
    "duration": 8,
    "start_time": "2023-04-22T00:54:37.557Z"
   },
   {
    "duration": 433,
    "start_time": "2023-04-22T00:54:37.587Z"
   },
   {
    "duration": 5,
    "start_time": "2023-04-22T00:54:38.022Z"
   },
   {
    "duration": 23,
    "start_time": "2023-04-22T00:54:38.029Z"
   },
   {
    "duration": 16,
    "start_time": "2023-04-22T00:54:38.055Z"
   },
   {
    "duration": 16,
    "start_time": "2023-04-22T00:54:38.075Z"
   },
   {
    "duration": 2002,
    "start_time": "2023-04-22T00:54:38.093Z"
   },
   {
    "duration": 21817,
    "start_time": "2023-04-22T00:54:40.097Z"
   },
   {
    "duration": 1990,
    "start_time": "2023-04-22T00:55:01.916Z"
   },
   {
    "duration": 55903,
    "start_time": "2023-04-22T00:55:03.908Z"
   },
   {
    "duration": 2805,
    "start_time": "2023-04-22T00:55:59.813Z"
   },
   {
    "duration": 2279,
    "start_time": "2023-04-22T00:56:02.620Z"
   },
   {
    "duration": 24892,
    "start_time": "2023-04-22T00:56:04.901Z"
   },
   {
    "duration": 93,
    "start_time": "2023-04-22T00:56:29.796Z"
   },
   {
    "duration": 101,
    "start_time": "2023-04-22T00:56:29.893Z"
   },
   {
    "duration": 192,
    "start_time": "2023-04-22T00:56:29.996Z"
   },
   {
    "duration": 300,
    "start_time": "2023-04-22T00:56:30.191Z"
   },
   {
    "duration": 100,
    "start_time": "2023-04-22T00:56:30.492Z"
   },
   {
    "duration": 37,
    "start_time": "2023-04-22T00:56:30.597Z"
   },
   {
    "duration": 174,
    "start_time": "2023-04-22T00:56:30.636Z"
   },
   {
    "duration": 136,
    "start_time": "2023-04-22T00:56:30.812Z"
   },
   {
    "duration": 4,
    "start_time": "2023-04-22T00:56:30.950Z"
   },
   {
    "duration": 36,
    "start_time": "2023-04-22T00:56:30.956Z"
   },
   {
    "duration": 38,
    "start_time": "2023-04-22T00:56:30.994Z"
   },
   {
    "duration": 125,
    "start_time": "2023-04-22T00:56:31.034Z"
   },
   {
    "duration": 96,
    "start_time": "2023-04-22T00:56:31.161Z"
   },
   {
    "duration": 69,
    "start_time": "2023-04-22T01:02:28.164Z"
   },
   {
    "duration": 102,
    "start_time": "2023-04-22T01:03:03.924Z"
   },
   {
    "duration": 74,
    "start_time": "2023-04-22T01:03:27.920Z"
   },
   {
    "duration": 114,
    "start_time": "2023-04-22T01:03:40.435Z"
   },
   {
    "duration": 4,
    "start_time": "2023-04-22T01:03:45.575Z"
   },
   {
    "duration": 4,
    "start_time": "2023-04-22T01:03:48.616Z"
   },
   {
    "duration": 94,
    "start_time": "2023-04-22T01:04:04.069Z"
   },
   {
    "duration": 114,
    "start_time": "2023-04-22T01:04:07.197Z"
   },
   {
    "duration": 92,
    "start_time": "2023-04-22T01:15:24.219Z"
   },
   {
    "duration": 107,
    "start_time": "2023-04-22T01:15:26.083Z"
   },
   {
    "duration": 115,
    "start_time": "2023-04-22T01:15:29.610Z"
   },
   {
    "duration": 91,
    "start_time": "2023-04-22T01:17:15.496Z"
   },
   {
    "duration": 93,
    "start_time": "2023-04-22T01:17:17.740Z"
   },
   {
    "duration": 2,
    "start_time": "2023-04-22T01:18:13.878Z"
   },
   {
    "duration": 5,
    "start_time": "2023-04-22T01:18:21.327Z"
   },
   {
    "duration": 91,
    "start_time": "2023-04-22T01:18:43.128Z"
   },
   {
    "duration": 94,
    "start_time": "2023-04-22T01:18:45.567Z"
   },
   {
    "duration": 3,
    "start_time": "2023-04-22T01:18:50.112Z"
   },
   {
    "duration": 117,
    "start_time": "2023-04-22T01:18:53.255Z"
   },
   {
    "duration": 94,
    "start_time": "2023-04-22T01:18:55.550Z"
   },
   {
    "duration": 1589,
    "start_time": "2023-04-22T01:23:02.538Z"
   },
   {
    "duration": 871,
    "start_time": "2023-04-22T01:23:04.129Z"
   },
   {
    "duration": 35,
    "start_time": "2023-04-22T01:23:05.005Z"
   },
   {
    "duration": 34,
    "start_time": "2023-04-22T01:23:05.043Z"
   },
   {
    "duration": 57,
    "start_time": "2023-04-22T01:23:05.079Z"
   },
   {
    "duration": 54,
    "start_time": "2023-04-22T01:23:05.138Z"
   },
   {
    "duration": 40,
    "start_time": "2023-04-22T01:23:05.194Z"
   },
   {
    "duration": 51,
    "start_time": "2023-04-22T01:23:05.235Z"
   },
   {
    "duration": 39,
    "start_time": "2023-04-22T01:23:05.288Z"
   },
   {
    "duration": 23,
    "start_time": "2023-04-22T01:23:05.330Z"
   },
   {
    "duration": 41,
    "start_time": "2023-04-22T01:23:05.355Z"
   },
   {
    "duration": 37,
    "start_time": "2023-04-22T01:23:05.398Z"
   },
   {
    "duration": 29,
    "start_time": "2023-04-22T01:23:05.437Z"
   },
   {
    "duration": 71,
    "start_time": "2023-04-22T01:23:05.468Z"
   },
   {
    "duration": 66,
    "start_time": "2023-04-22T01:23:05.541Z"
   },
   {
    "duration": 403,
    "start_time": "2023-04-22T01:23:05.610Z"
   },
   {
    "duration": 304,
    "start_time": "2023-04-22T01:23:06.015Z"
   },
   {
    "duration": 10,
    "start_time": "2023-04-22T01:23:06.322Z"
   },
   {
    "duration": 682,
    "start_time": "2023-04-22T01:23:06.334Z"
   },
   {
    "duration": 7,
    "start_time": "2023-04-22T01:23:07.018Z"
   },
   {
    "duration": 397,
    "start_time": "2023-04-22T01:23:07.026Z"
   },
   {
    "duration": 31,
    "start_time": "2023-04-22T01:23:07.425Z"
   },
   {
    "duration": 10,
    "start_time": "2023-04-22T01:23:07.458Z"
   },
   {
    "duration": 42,
    "start_time": "2023-04-22T01:23:07.471Z"
   },
   {
    "duration": 263,
    "start_time": "2023-04-22T01:23:07.515Z"
   },
   {
    "duration": 736,
    "start_time": "2023-04-22T01:23:07.780Z"
   },
   {
    "duration": 6,
    "start_time": "2023-04-22T01:23:08.518Z"
   },
   {
    "duration": 28,
    "start_time": "2023-04-22T01:23:08.529Z"
   },
   {
    "duration": 19,
    "start_time": "2023-04-22T01:23:08.559Z"
   },
   {
    "duration": 23,
    "start_time": "2023-04-22T01:23:08.580Z"
   },
   {
    "duration": 145,
    "start_time": "2023-04-22T01:23:08.607Z"
   },
   {
    "duration": 310,
    "start_time": "2023-04-22T01:23:08.755Z"
   },
   {
    "duration": 11,
    "start_time": "2023-04-22T01:23:09.067Z"
   },
   {
    "duration": 12,
    "start_time": "2023-04-22T01:23:09.088Z"
   },
   {
    "duration": 24,
    "start_time": "2023-04-22T01:23:09.102Z"
   },
   {
    "duration": 34,
    "start_time": "2023-04-22T01:23:09.128Z"
   },
   {
    "duration": 16,
    "start_time": "2023-04-22T01:23:09.164Z"
   },
   {
    "duration": 32,
    "start_time": "2023-04-22T01:23:09.182Z"
   },
   {
    "duration": 25,
    "start_time": "2023-04-22T01:23:09.216Z"
   },
   {
    "duration": 23,
    "start_time": "2023-04-22T01:23:09.243Z"
   },
   {
    "duration": 16,
    "start_time": "2023-04-22T01:23:09.268Z"
   },
   {
    "duration": 578,
    "start_time": "2023-04-22T01:23:09.286Z"
   },
   {
    "duration": 26,
    "start_time": "2023-04-22T01:23:09.866Z"
   },
   {
    "duration": 643,
    "start_time": "2023-04-22T01:23:09.894Z"
   },
   {
    "duration": 588,
    "start_time": "2023-04-22T01:23:10.540Z"
   },
   {
    "duration": 702,
    "start_time": "2023-04-22T01:23:11.130Z"
   },
   {
    "duration": 9,
    "start_time": "2023-04-22T01:23:11.834Z"
   },
   {
    "duration": 489,
    "start_time": "2023-04-22T01:23:11.845Z"
   },
   {
    "duration": 528,
    "start_time": "2023-04-22T01:23:12.336Z"
   },
   {
    "duration": 40,
    "start_time": "2023-04-22T01:23:12.866Z"
   },
   {
    "duration": 23,
    "start_time": "2023-04-22T01:23:12.908Z"
   },
   {
    "duration": 474,
    "start_time": "2023-04-22T01:23:12.933Z"
   },
   {
    "duration": 6,
    "start_time": "2023-04-22T01:23:13.409Z"
   },
   {
    "duration": 68,
    "start_time": "2023-04-22T01:23:13.416Z"
   },
   {
    "duration": 37,
    "start_time": "2023-04-22T01:23:13.486Z"
   },
   {
    "duration": 39,
    "start_time": "2023-04-22T01:23:13.526Z"
   },
   {
    "duration": 1943,
    "start_time": "2023-04-22T01:23:13.567Z"
   },
   {
    "duration": 22537,
    "start_time": "2023-04-22T01:23:15.512Z"
   },
   {
    "duration": 1956,
    "start_time": "2023-04-22T01:23:38.051Z"
   },
   {
    "duration": 55717,
    "start_time": "2023-04-22T01:23:40.009Z"
   },
   {
    "duration": 2769,
    "start_time": "2023-04-22T01:24:35.728Z"
   },
   {
    "duration": 2702,
    "start_time": "2023-04-22T01:24:38.499Z"
   },
   {
    "duration": 30400,
    "start_time": "2023-04-22T01:24:41.207Z"
   },
   {
    "duration": 85,
    "start_time": "2023-04-22T01:25:11.610Z"
   },
   {
    "duration": 87,
    "start_time": "2023-04-22T01:25:11.706Z"
   },
   {
    "duration": 115,
    "start_time": "2023-04-22T01:25:11.797Z"
   },
   {
    "duration": 303,
    "start_time": "2023-04-22T01:25:11.992Z"
   },
   {
    "duration": 94,
    "start_time": "2023-04-22T01:25:12.304Z"
   },
   {
    "duration": 47,
    "start_time": "2023-04-22T01:25:12.399Z"
   },
   {
    "duration": 118,
    "start_time": "2023-04-22T01:25:12.447Z"
   },
   {
    "duration": 96,
    "start_time": "2023-04-22T01:25:12.567Z"
   },
   {
    "duration": 4,
    "start_time": "2023-04-22T01:25:12.666Z"
   },
   {
    "duration": 27,
    "start_time": "2023-04-22T01:25:12.672Z"
   },
   {
    "duration": 21,
    "start_time": "2023-04-22T01:25:12.702Z"
   },
   {
    "duration": 108,
    "start_time": "2023-04-22T01:25:12.725Z"
   },
   {
    "duration": 98,
    "start_time": "2023-04-22T01:25:12.835Z"
   },
   {
    "duration": 4,
    "start_time": "2023-04-22T01:25:12.935Z"
   },
   {
    "duration": 110,
    "start_time": "2023-04-22T01:38:46.004Z"
   },
   {
    "duration": 108,
    "start_time": "2023-04-22T01:38:48.390Z"
   },
   {
    "duration": 3,
    "start_time": "2023-04-22T01:38:51.779Z"
   },
   {
    "duration": 101,
    "start_time": "2023-04-22T01:40:48.976Z"
   },
   {
    "duration": 85,
    "start_time": "2023-04-22T01:40:51.791Z"
   },
   {
    "duration": 92,
    "start_time": "2023-04-22T01:41:07.759Z"
   },
   {
    "duration": 123,
    "start_time": "2023-04-22T01:41:25.469Z"
   },
   {
    "duration": 83,
    "start_time": "2023-04-22T01:41:54.233Z"
   },
   {
    "duration": 84,
    "start_time": "2023-04-22T01:42:09.384Z"
   },
   {
    "duration": 5,
    "start_time": "2023-04-22T01:42:12.958Z"
   },
   {
    "duration": 9,
    "start_time": "2023-04-23T00:46:11.213Z"
   },
   {
    "duration": 11,
    "start_time": "2023-04-23T00:46:14.657Z"
   },
   {
    "duration": 4,
    "start_time": "2023-04-23T00:46:16.675Z"
   },
   {
    "duration": 4,
    "start_time": "2023-04-23T00:46:16.821Z"
   },
   {
    "duration": 5,
    "start_time": "2023-04-23T00:46:16.962Z"
   },
   {
    "duration": 4,
    "start_time": "2023-04-23T00:46:17.114Z"
   },
   {
    "duration": 4,
    "start_time": "2023-04-23T00:46:17.268Z"
   },
   {
    "duration": 4,
    "start_time": "2023-04-23T00:46:17.417Z"
   },
   {
    "duration": 5,
    "start_time": "2023-04-23T00:46:17.554Z"
   },
   {
    "duration": 4,
    "start_time": "2023-04-23T00:46:17.690Z"
   },
   {
    "duration": 4,
    "start_time": "2023-04-23T00:46:18.204Z"
   },
   {
    "duration": 5,
    "start_time": "2023-04-23T00:46:18.254Z"
   },
   {
    "duration": 4,
    "start_time": "2023-04-23T00:46:18.349Z"
   },
   {
    "duration": 3,
    "start_time": "2023-04-23T00:46:18.422Z"
   },
   {
    "duration": 3,
    "start_time": "2023-04-23T00:46:18.510Z"
   },
   {
    "duration": 3,
    "start_time": "2023-04-23T00:46:18.602Z"
   },
   {
    "duration": 3,
    "start_time": "2023-04-23T00:46:18.672Z"
   },
   {
    "duration": 3,
    "start_time": "2023-04-23T00:46:18.757Z"
   },
   {
    "duration": 5,
    "start_time": "2023-04-23T00:46:18.842Z"
   },
   {
    "duration": 4,
    "start_time": "2023-04-23T00:46:18.928Z"
   },
   {
    "duration": 3,
    "start_time": "2023-04-23T00:46:19.012Z"
   },
   {
    "duration": 3,
    "start_time": "2023-04-23T00:46:19.356Z"
   },
   {
    "duration": 4,
    "start_time": "2023-04-23T00:46:19.499Z"
   },
   {
    "duration": 4,
    "start_time": "2023-04-23T00:46:19.607Z"
   },
   {
    "duration": 4,
    "start_time": "2023-04-23T00:46:19.731Z"
   },
   {
    "duration": 3,
    "start_time": "2023-04-23T00:46:19.898Z"
   },
   {
    "duration": 4,
    "start_time": "2023-04-23T00:46:20.011Z"
   },
   {
    "duration": 4,
    "start_time": "2023-04-23T00:46:20.302Z"
   },
   {
    "duration": 4,
    "start_time": "2023-04-23T00:46:20.551Z"
   },
   {
    "duration": 4,
    "start_time": "2023-04-23T00:46:20.655Z"
   },
   {
    "duration": 4,
    "start_time": "2023-04-23T00:46:20.743Z"
   },
   {
    "duration": 5,
    "start_time": "2023-04-23T00:46:20.842Z"
   },
   {
    "duration": 4,
    "start_time": "2023-04-23T00:46:21.022Z"
   },
   {
    "duration": 4,
    "start_time": "2023-04-23T00:46:21.201Z"
   },
   {
    "duration": 4,
    "start_time": "2023-04-23T00:46:21.303Z"
   },
   {
    "duration": 4,
    "start_time": "2023-04-23T00:46:21.395Z"
   },
   {
    "duration": 5,
    "start_time": "2023-04-23T00:46:21.500Z"
   },
   {
    "duration": 4,
    "start_time": "2023-04-23T00:46:21.602Z"
   },
   {
    "duration": 3,
    "start_time": "2023-04-23T00:46:21.695Z"
   },
   {
    "duration": 5,
    "start_time": "2023-04-23T00:46:21.767Z"
   },
   {
    "duration": 5,
    "start_time": "2023-04-23T00:46:21.860Z"
   },
   {
    "duration": 3,
    "start_time": "2023-04-23T00:46:21.949Z"
   },
   {
    "duration": 4,
    "start_time": "2023-04-23T00:46:22.027Z"
   },
   {
    "duration": 4,
    "start_time": "2023-04-23T00:46:22.126Z"
   },
   {
    "duration": 4,
    "start_time": "2023-04-23T00:46:22.222Z"
   },
   {
    "duration": 4,
    "start_time": "2023-04-23T00:46:22.312Z"
   },
   {
    "duration": 4,
    "start_time": "2023-04-23T00:46:22.409Z"
   },
   {
    "duration": 4,
    "start_time": "2023-04-23T00:46:22.511Z"
   },
   {
    "duration": 4,
    "start_time": "2023-04-23T00:46:22.617Z"
   },
   {
    "duration": 3,
    "start_time": "2023-04-23T00:46:22.717Z"
   },
   {
    "duration": 3,
    "start_time": "2023-04-23T00:46:22.806Z"
   },
   {
    "duration": 4,
    "start_time": "2023-04-23T00:46:23.252Z"
   },
   {
    "duration": 3,
    "start_time": "2023-04-23T00:46:23.449Z"
   },
   {
    "duration": 3,
    "start_time": "2023-04-23T00:46:23.565Z"
   },
   {
    "duration": 4,
    "start_time": "2023-04-23T00:46:25.848Z"
   },
   {
    "duration": 16,
    "start_time": "2023-04-23T00:46:26.032Z"
   },
   {
    "duration": 5,
    "start_time": "2023-04-23T00:46:26.336Z"
   },
   {
    "duration": 3,
    "start_time": "2023-04-23T00:46:26.491Z"
   },
   {
    "duration": 4,
    "start_time": "2023-04-23T00:46:26.672Z"
   },
   {
    "duration": 4,
    "start_time": "2023-04-23T00:46:27.150Z"
   },
   {
    "duration": 3,
    "start_time": "2023-04-23T00:46:27.407Z"
   },
   {
    "duration": 4,
    "start_time": "2023-04-23T00:46:27.750Z"
   },
   {
    "duration": 3,
    "start_time": "2023-04-23T00:46:28.553Z"
   }
  ],
  "kernelspec": {
   "display_name": "Python 3 (ipykernel)",
   "language": "python",
   "name": "python3"
  },
  "language_info": {
   "codemirror_mode": {
    "name": "ipython",
    "version": 3
   },
   "file_extension": ".py",
   "mimetype": "text/x-python",
   "name": "python",
   "nbconvert_exporter": "python",
   "pygments_lexer": "ipython3",
   "version": "3.10.9"
  },
  "toc": {
   "base_numbering": 1,
   "nav_menu": {},
   "number_sections": true,
   "sideBar": true,
   "skip_h1_title": true,
   "title_cell": "Table of Contents",
   "title_sidebar": "Contents",
   "toc_cell": false,
   "toc_position": {},
   "toc_section_display": true,
   "toc_window_display": true
  },
  "varInspector": {
   "cols": {
    "lenName": 16,
    "lenType": 16,
    "lenVar": 40
   },
   "kernels_config": {
    "python": {
     "delete_cmd_postfix": "",
     "delete_cmd_prefix": "del ",
     "library": "var_list.py",
     "varRefreshCmd": "print(var_dic_list())"
    },
    "r": {
     "delete_cmd_postfix": ") ",
     "delete_cmd_prefix": "rm(",
     "library": "var_list.r",
     "varRefreshCmd": "cat(var_dic_list()) "
    }
   },
   "types_to_exclude": [
    "module",
    "function",
    "builtin_function_or_method",
    "instance",
    "_Feature"
   ],
   "window_display": false
  }
 },
 "nbformat": 4,
 "nbformat_minor": 5
}
